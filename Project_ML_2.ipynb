{
 "cells": [
  {
   "cell_type": "code",
   "execution_count": 5,
   "metadata": {},
   "outputs": [],
   "source": [
    "import findspark\n",
    "findspark.init()\n",
    "import pyspark"
   ]
  },
  {
   "cell_type": "code",
   "execution_count": 93,
   "metadata": {},
   "outputs": [],
   "source": [
    "import pandas as pd\n",
    "import numpy as np\n",
    "\n",
    "from pyspark.sql import *\n",
    "from pyspark.sql.types import *\n",
    "\n",
    "from pyspark.sql.functions import explode\n",
    "from pyspark.sql.functions import split\n",
    "\n",
    "from pyspark.sql.functions import udf\n",
    "from pyspark.sql.functions import col\n",
    "\n",
    "import matplotlib.pyplot as plt\n",
    "\n",
    "#import re\n",
    "#import sys\n",
    "import babel\n",
    "from babel import Locale"
   ]
  },
  {
   "cell_type": "code",
   "execution_count": 7,
   "metadata": {},
   "outputs": [],
   "source": [
    "spark = SparkSession.builder.getOrCreate()"
   ]
  },
  {
   "cell_type": "markdown",
   "metadata": {},
   "source": [
    "# Openfoodfact data "
   ]
  },
  {
   "cell_type": "code",
   "execution_count": 8,
   "metadata": {},
   "outputs": [],
   "source": [
    "#We load the entire OpenFoodFacts file\n",
    "\n",
    "df_data = spark.read.option(\"sep\", \"\\t\").option(\"header\", True).csv('./data.csv')"
   ]
  },
  {
   "cell_type": "code",
   "execution_count": 9,
   "metadata": {},
   "outputs": [
    {
     "data": {
      "text/plain": [
       "DataFrame[code: string, url: string, creator: string, created_t: string, created_datetime: string, last_modified_t: string, last_modified_datetime: string, product_name: string, generic_name: string, quantity: string, packaging: string, packaging_tags: string, brands: string, brands_tags: string, categories: string, categories_tags: string, categories_en: string, origins: string, origins_tags: string, manufacturing_places: string, manufacturing_places_tags: string, labels: string, labels_tags: string, labels_en: string, emb_codes: string, emb_codes_tags: string, first_packaging_code_geo: string, cities: string, cities_tags: string, purchase_places: string, stores: string, countries: string, countries_tags: string, countries_en: string, ingredients_text: string, allergens: string, allergens_en: string, traces: string, traces_tags: string, traces_en: string, serving_size: string, serving_quantity: string, no_nutriments: string, additives_n: string, additives: string, additives_tags: string, additives_en: string, ingredients_from_palm_oil_n: string, ingredients_from_palm_oil: string, ingredients_from_palm_oil_tags: string, ingredients_that_may_be_from_palm_oil_n: string, ingredients_that_may_be_from_palm_oil: string, ingredients_that_may_be_from_palm_oil_tags: string, nutrition_grade_uk: string, nutrition_grade_fr: string, pnns_groups_1: string, pnns_groups_2: string, states: string, states_tags: string, states_en: string, main_category: string, main_category_en: string, image_url: string, image_small_url: string, image_ingredients_url: string, image_ingredients_small_url: string, image_nutrition_url: string, image_nutrition_small_url: string, energy_100g: string, energy-from-fat_100g: string, fat_100g: string, saturated-fat_100g: string, -butyric-acid_100g: string, -caproic-acid_100g: string, -caprylic-acid_100g: string, -capric-acid_100g: string, -lauric-acid_100g: string, -myristic-acid_100g: string, -palmitic-acid_100g: string, -stearic-acid_100g: string, -arachidic-acid_100g: string, -behenic-acid_100g: string, -lignoceric-acid_100g: string, -cerotic-acid_100g: string, -montanic-acid_100g: string, -melissic-acid_100g: string, monounsaturated-fat_100g: string, polyunsaturated-fat_100g: string, omega-3-fat_100g: string, -alpha-linolenic-acid_100g: string, -eicosapentaenoic-acid_100g: string, -docosahexaenoic-acid_100g: string, omega-6-fat_100g: string, -linoleic-acid_100g: string, -arachidonic-acid_100g: string, -gamma-linolenic-acid_100g: string, -dihomo-gamma-linolenic-acid_100g: string, omega-9-fat_100g: string, -oleic-acid_100g: string, -elaidic-acid_100g: string, -gondoic-acid_100g: string, -mead-acid_100g: string, -erucic-acid_100g: string, -nervonic-acid_100g: string, trans-fat_100g: string, cholesterol_100g: string, carbohydrates_100g: string, sugars_100g: string, -sucrose_100g: string, -glucose_100g: string, -fructose_100g: string, -lactose_100g: string, -maltose_100g: string, -maltodextrins_100g: string, starch_100g: string, polyols_100g: string, fiber_100g: string, proteins_100g: string, casein_100g: string, serum-proteins_100g: string, nucleotides_100g: string, salt_100g: string, sodium_100g: string, alcohol_100g: string, vitamin-a_100g: string, beta-carotene_100g: string, vitamin-d_100g: string, vitamin-e_100g: string, vitamin-k_100g: string, vitamin-c_100g: string, vitamin-b1_100g: string, vitamin-b2_100g: string, vitamin-pp_100g: string, vitamin-b6_100g: string, vitamin-b9_100g: string, folates_100g: string, vitamin-b12_100g: string, biotin_100g: string, pantothenic-acid_100g: string, silica_100g: string, bicarbonate_100g: string, potassium_100g: string, chloride_100g: string, calcium_100g: string, phosphorus_100g: string, iron_100g: string, magnesium_100g: string, zinc_100g: string, copper_100g: string, manganese_100g: string, fluoride_100g: string, selenium_100g: string, chromium_100g: string, molybdenum_100g: string, iodine_100g: string, caffeine_100g: string, taurine_100g: string, ph_100g: string, fruits-vegetables-nuts_100g: string, fruits-vegetables-nuts-estimate_100g: string, collagen-meat-protein-ratio_100g: string, cocoa_100g: string, chlorophyl_100g: string, carbon-footprint_100g: string, nutrition-score-fr_100g: string, nutrition-score-uk_100g: string, glycemic-index_100g: string, water-hardness_100g: string, choline_100g: string, phylloquinone_100g: string, beta-glucan_100g: string, inositol_100g: string, carnitine_100g: string]"
      ]
     },
     "execution_count": 9,
     "metadata": {},
     "output_type": "execute_result"
    }
   ],
   "source": [
    "#The title of the features\n",
    "df_data"
   ]
  },
  {
   "cell_type": "markdown",
   "metadata": {},
   "source": [
    "# Part 1: Nutri-Score\n",
    "### Which countries have the healthiest alimentation? "
   ]
  },
  {
   "cell_type": "markdown",
   "metadata": {},
   "source": [
    "We check which countries are the most represented in the datafile.\n",
    "\n",
    "For the nutri-score part, we first decided to focus on three countries: France, United-States and switzerland.\n",
    "\n",
    "France, because the OpenFactFood project was initiated by a french man, in France. Thus, it is the country for which we have the most data. The United States because it is the second country in term of number of data and because it is a far away country, known for its obesity problems. And finally, switzerland, because we also have numerous data, because it is the country where we live, and because we wanted to know if people in this 'rich' country consumes more healthy than in other countries."
   ]
  },
  {
   "cell_type": "code",
   "execution_count": 112,
   "metadata": {},
   "outputs": [
    {
     "name": "stdout",
     "output_type": "stream",
     "text": [
      "+-----------------+------+\n",
      "|   countries_tags| count|\n",
      "+-----------------+------+\n",
      "|        en:france|446394|\n",
      "| en:united-states|175478|\n",
      "|       en:germany| 19489|\n",
      "|   en:switzerland| 19365|\n",
      "|       en:belgium|  9735|\n",
      "|         en:spain|  8341|\n",
      "|en:united-kingdom|  8086|\n",
      "|        en:canada|  3805|\n",
      "|         en:italy|  3035|\n",
      "|     en:australia|  2694|\n",
      "|        en:mexico|  2360|\n",
      "|        en:russia|  2203|\n",
      "|   en:netherlands|  1548|\n",
      "|        en:sweden|  1526|\n",
      "|      en:portugal|  1441|\n",
      "|       en:denmark|   949|\n",
      "|       en:austria|   928|\n",
      "|       en:romania|   799|\n",
      "|en:czech-republic|   646|\n",
      "|       en:hungary|   643|\n",
      "+-----------------+------+\n",
      "only showing top 20 rows\n",
      "\n"
     ]
    }
   ],
   "source": [
    "#We split the countries_tags column to have single country in each row.\n",
    "#Then we count the occurrence of each country, and order them from the bigger to the smaller count.\n",
    "\n",
    "countries = df_data.select(explode(split('countries_tags', ','))).withColumnRenamed(\"col\", \"countries_tags\")\n",
    "#countries.show(200)\n",
    "\n",
    "counted_countries = countries.groupBy('countries_tags').count().sort(\"count\", ascending = False)\n",
    "counted_countries.show()"
   ]
  },
  {
   "cell_type": "markdown",
   "metadata": {},
   "source": [
    "Then, we wanted to see the most represented categories, to be able to treat not only the entire dataset, but also interesting sub-datasets."
   ]
  },
  {
   "cell_type": "code",
   "execution_count": 8,
   "metadata": {},
   "outputs": [
    {
     "name": "stdout",
     "output_type": "stream",
     "text": [
      "+------------------------------------+-----+\n",
      "|categories_tags                     |count|\n",
      "+------------------------------------+-----+\n",
      "|en:plant-based-foods-and-beverages  |51261|\n",
      "|en:plant-based-foods                |43981|\n",
      "|en:beverages                        |29798|\n",
      "|en:sugary-snacks                    |26277|\n",
      "|en:dairies                          |18477|\n",
      "|en:non-alcoholic-beverages          |16523|\n",
      "|en:meals                            |15601|\n",
      "|en:fruits-and-vegetables-based-foods|15362|\n",
      "|en:cereals-and-potatoes             |15324|\n",
      "|en:fermented-foods                  |12164|\n",
      "|en:fermented-milk-products          |12127|\n",
      "|en:biscuits-and-cakes               |11895|\n",
      "|en:spreads                          |10928|\n",
      "|en:cereals-and-their-products       |9792 |\n",
      "|en:meats                            |9686 |\n",
      "|en:groceries                        |9583 |\n",
      "|en:breakfasts                       |9547 |\n",
      "|en:desserts                         |9091 |\n",
      "|en:plant-based-beverages            |8633 |\n",
      "|en:fruits-based-foods               |8049 |\n",
      "+------------------------------------+-----+\n",
      "only showing top 20 rows\n",
      "\n"
     ]
    }
   ],
   "source": [
    "#We split the categories_tags column to have single categoriy in each row.\n",
    "#Then we count the occurrence of each category, and order them from the bigger to the smaller count.\n",
    "\n",
    "categories = df_data.select(explode(split('categories_tags', ','))).withColumnRenamed(\"col\", \"categories_tags\")\n",
    "#categories.show(200, False)\n",
    "\n",
    "counted_categories = categories.groupBy('categories_tags').count().sort(\"count\", ascending = False)\n",
    "counted_categories.show(20, False)"
   ]
  },
  {
   "cell_type": "code",
   "execution_count": 26,
   "metadata": {},
   "outputs": [],
   "source": [
    "#We define the colors corresponding to the Nutri-score for our following plots\n",
    "#We chose the re-use the 'official' colors from the website\n",
    "\n",
    "score_colors =['green', 'lightgreen', 'yellow', 'orange','red']"
   ]
  },
  {
   "cell_type": "markdown",
   "metadata": {},
   "source": [
    "## France data"
   ]
  },
  {
   "cell_type": "markdown",
   "metadata": {},
   "source": [
    "### Overall"
   ]
  },
  {
   "cell_type": "code",
   "execution_count": 128,
   "metadata": {},
   "outputs": [],
   "source": [
    "#We create a dataframe with all the data for France\n",
    "\n",
    "df_france = df_data.where(df_data.countries_tags.contains('en:france')).select('product_name'\n",
    "                                                                               ,'categories_tags'\n",
    "                                                                               ,'nutrition_grade_fr'\n",
    "                                                                               , 'nutrition-score-fr_100g')\n",
    "#df_france.show(200)"
   ]
  },
  {
   "cell_type": "code",
   "execution_count": 26,
   "metadata": {},
   "outputs": [
    {
     "data": {
      "text/plain": [
       "446394"
      ]
     },
     "execution_count": 26,
     "metadata": {},
     "output_type": "execute_result"
    }
   ],
   "source": [
    "df_france.count()"
   ]
  },
  {
   "cell_type": "code",
   "execution_count": 121,
   "metadata": {
    "scrolled": false
   },
   "outputs": [
    {
     "name": "stdout",
     "output_type": "stream",
     "text": [
      "+--------------------+--------------------+------------------+-----------------------+\n",
      "|        product_name|     categories_tags|nutrition_grade_fr|nutrition-score-fr_100g|\n",
      "+--------------------+--------------------+------------------+-----------------------+\n",
      "|  Tarte noix de coco|en:pies,en:sweet-...|                 d|                     14|\n",
      "|    Compote de poire|en:plant-based-fo...|                 a|                     -4|\n",
      "|    BAguette bressan|en:plant-based-fo...|                 a|                     -4|\n",
      "|Pavé de saumon fu...|en:seafood,en:fis...|                 d|                     15|\n",
      "|  Stylo glaçage gris| en:food-decorations|                 e|                     29|\n",
      "|Blanquette de Vol...|en:meals,en:meat-...|                 b|                      0|\n",
      "|Raviolini au From...|en:meals,en:micro...|                 b|                      1|\n",
      "|           Root Beer|en:beverages,en:c...|                 e|                     12|\n",
      "|A&w - Root Beer -...|en:beverages,en:n...|                 e|                     16|\n",
      "|    Compote de Pomme|en:plant-based-fo...|                 b|                      1|\n",
      "+--------------------+--------------------+------------------+-----------------------+\n",
      "only showing top 10 rows\n",
      "\n"
     ]
    }
   ],
   "source": [
    "#We drop the Null rows, as this values cannot be treated\n",
    "\n",
    "df_france = df_france.na.drop()\n",
    "df_france.show(10)"
   ]
  },
  {
   "cell_type": "code",
   "execution_count": 80,
   "metadata": {},
   "outputs": [
    {
     "data": {
      "text/plain": [
       "116780"
      ]
     },
     "execution_count": 80,
     "metadata": {},
     "output_type": "execute_result"
    }
   ],
   "source": [
    "total_france = df_france.count()\n",
    "total_france"
   ]
  },
  {
   "cell_type": "markdown",
   "metadata": {},
   "source": [
    "We see that on the 446394 products we had, only 116780 are exploitable here, that is around 1/4 of the data."
   ]
  },
  {
   "cell_type": "code",
   "execution_count": 117,
   "metadata": {},
   "outputs": [
    {
     "name": "stdout",
     "output_type": "stream",
     "text": [
      "+------------------+-----+\n",
      "|nutrition_grade_fr|count|\n",
      "+------------------+-----+\n",
      "|                 a|15270|\n",
      "|                 b|16192|\n",
      "|                 c|24137|\n",
      "|                 d|34280|\n",
      "|                 e|26901|\n",
      "+------------------+-----+\n",
      "\n"
     ]
    }
   ],
   "source": [
    "#We count the number of products we have for the different Nutri-Score (from a to e)\n",
    "\n",
    "counted_nutriscore_fr = df_france.groupBy('nutrition_grade_fr').count().sort(\"nutrition_grade_fr\")\n",
    "counted_nutriscore_fr.show()"
   ]
  },
  {
   "cell_type": "code",
   "execution_count": 118,
   "metadata": {
    "scrolled": true
   },
   "outputs": [
    {
     "data": {
      "text/plain": [
       "Text(0.5, 0, 'Nutri-Score')"
      ]
     },
     "execution_count": 118,
     "metadata": {},
     "output_type": "execute_result"
    },
    {
     "data": {
      "image/png": "[encoded data removed]",
      "text/plain": [
       "<Figure size 792x432 with 1 Axes>"
      ]
     },
     "metadata": {
      "needs_background": "light"
     },
     "output_type": "display_data"
    }
   ],
   "source": [
    "#We create a panda dataframe from the spark dataframe\n",
    "#Then we plot our results\n",
    "\n",
    "pd_nutriscore_france = counted_nutriscore_fr.toPandas()\n",
    "\n",
    "pd_nutriscore_france.plot.bar(x= 'nutrition_grade_fr', y = 'count', rot=0, figsize=(11,6), color=score_colors)\n",
    "plt.title(\"Number of products available in France depending on the Nutri-Score\")\n",
    "plt.xlabel(\"Nutri-Score\")"
   ]
  },
  {
   "cell_type": "markdown",
   "metadata": {},
   "source": [
    "### Beverages"
   ]
  },
  {
   "cell_type": "code",
   "execution_count": 122,
   "metadata": {},
   "outputs": [
    {
     "name": "stdout",
     "output_type": "stream",
     "text": [
      "+--------------------+--------------------+------------------+-----------------------+\n",
      "|        product_name|     categories_tags|nutrition_grade_fr|nutrition-score-fr_100g|\n",
      "+--------------------+--------------------+------------------+-----------------------+\n",
      "|           Root Beer|en:beverages,en:c...|                 e|                     12|\n",
      "|A&w - Root Beer -...|en:beverages,en:n...|                 e|                     16|\n",
      "|Thé noir aromatis...|en:beverages,en:n...|                 c|                      2|\n",
      "|Pepsi, Nouveau go...|en:beverages,en:c...|                 e|                     13|\n",
      "|Blle Pet 50CL Coc...|en:beverages,en:s...|                 e|                     14|\n",
      "|                 7Up|en:plant-based-fo...|                 e|                     13|\n",
      "|Smoothie Strawber...|en:plant-based-fo...|                 e|                     12|\n",
      "|      Ruby breakfast|en:beverages,en:n...|                 e|                     14|\n",
      "|Iced Tea Spanish ...|en:beverages,en:r...|                 e|                     11|\n",
      "|Pressed Pineapple...|en:plant-based-fo...|                 c|                      3|\n",
      "+--------------------+--------------------+------------------+-----------------------+\n",
      "only showing top 10 rows\n",
      "\n"
     ]
    }
   ],
   "source": [
    "#Then we re-do the same but only for the products in the \"beverage\" category\n",
    "\n",
    "#We create a new dataframe with all the beverages, in France\n",
    "\n",
    "france_beverages = df_france.filter(df_france.categories_tags.contains(\"en:beverages\"))\n",
    "france_beverages.show(10)"
   ]
  },
  {
   "cell_type": "code",
   "execution_count": 36,
   "metadata": {},
   "outputs": [
    {
     "data": {
      "text/plain": [
       "15419"
      ]
     },
     "execution_count": 36,
     "metadata": {},
     "output_type": "execute_result"
    }
   ],
   "source": [
    "tot_bev_france = france_beverages.count()\n",
    "tot_bev_france"
   ]
  },
  {
   "cell_type": "markdown",
   "metadata": {},
   "source": [
    "Over the 116780 exploitable datas for France, 15419 are beverages, that is between 1/7 and 1/8 of these datas."
   ]
  },
  {
   "cell_type": "code",
   "execution_count": 119,
   "metadata": {},
   "outputs": [
    {
     "name": "stdout",
     "output_type": "stream",
     "text": [
      "+------------------+-----+\n",
      "|nutrition_grade_fr|count|\n",
      "+------------------+-----+\n",
      "|                 a|  238|\n",
      "|                 b| 2632|\n",
      "|                 c| 2826|\n",
      "|                 d| 2495|\n",
      "|                 e| 7228|\n",
      "+------------------+-----+\n",
      "\n"
     ]
    }
   ],
   "source": [
    "#We count the number of beverages we have for the different Nutri-Score (from a to e)\n",
    "\n",
    "beverage_nutriscore_fr = france_beverages.groupBy('nutrition_grade_fr').count().sort(\"nutrition_grade_fr\")\n",
    "beverage_nutriscore_fr.show()"
   ]
  },
  {
   "cell_type": "code",
   "execution_count": 120,
   "metadata": {},
   "outputs": [
    {
     "data": {
      "text/plain": [
       "Text(0.5, 0, 'Nutri-Score')"
      ]
     },
     "execution_count": 120,
     "metadata": {},
     "output_type": "execute_result"
    },
    {
     "data": {
      "image/png": "[encoded data removed]",
      "text/plain": [
       "<Figure size 792x432 with 1 Axes>"
      ]
     },
     "metadata": {
      "needs_background": "light"
     },
     "output_type": "display_data"
    }
   ],
   "source": [
    "#We create a panda dataframe from the spark dataframe\n",
    "\n",
    "pd_beverages_france = beverage_nutriscore_fr.toPandas()\n",
    "\n",
    "#We plot our results\n",
    "\n",
    "pd_beverages_france.plot.bar(x= 'nutrition_grade_fr', y = 'count', rot=0, figsize=(11,6), color=score_colors)\n",
    "plt.title(\"Number of beverages available in France depending on the Nutri-Score\")\n",
    "plt.xlabel(\"Nutri-Score\")"
   ]
  },
  {
   "cell_type": "markdown",
   "metadata": {},
   "source": [
    "## Switzerland data"
   ]
  },
  {
   "cell_type": "markdown",
   "metadata": {},
   "source": [
    "### Overall"
   ]
  },
  {
   "cell_type": "code",
   "execution_count": 129,
   "metadata": {},
   "outputs": [],
   "source": [
    "#We create a new dataframe for the datas for Switzerland\n",
    "\n",
    "df_switzerland = df_data.where(df_data.countries_tags.contains('en:switzerland')).select('product_name'\n",
    "                                                                                         ,'categories_tags'\n",
    "                                                                                         ,'nutrition_grade_fr'\n",
    "                                                                                         ,'nutrition-score-fr_100g')\n",
    "#df_switzerland.show(200)"
   ]
  },
  {
   "cell_type": "code",
   "execution_count": 44,
   "metadata": {},
   "outputs": [
    {
     "data": {
      "text/plain": [
       "19365"
      ]
     },
     "execution_count": 44,
     "metadata": {},
     "output_type": "execute_result"
    }
   ],
   "source": [
    "df_switzerland.count()"
   ]
  },
  {
   "cell_type": "code",
   "execution_count": 123,
   "metadata": {},
   "outputs": [
    {
     "name": "stdout",
     "output_type": "stream",
     "text": [
      "+--------------------+--------------------+------------------+-----------------------+\n",
      "|        product_name|     categories_tags|nutrition_grade_fr|nutrition-score-fr_100g|\n",
      "+--------------------+--------------------+------------------+-----------------------+\n",
      "|             Nutella|en:petit-dejeuner...|                 e|                     24|\n",
      "|                skyr|en:dairies,en:fer...|                 a|                     -5|\n",
      "|Chocolate Chunk D...|en:sugary-snacks,...|                 e|                     21|\n",
      "|Chocolate Chunk M...|en:sugary-snacks,...|                 e|                     22|\n",
      "|Poires demi-fruit...|en:plant-based-fo...|                 a|                     -3|\n",
      "|  Pêches Demi-Fruits|en:plant-based-fo...|                 a|                     -3|\n",
      "|Cocktail de fruit...|en:plant-based-fo...|                 a|                     -3|\n",
      "|Mandarines au sir...|en:plant-based-fo...|                 a|                     -3|\n",
      "|  Cocktail de fruits|en:plant-based-fo...|                 a|                     -3|\n",
      "|Microwave Popcorn...|en:sugary-snacks,...|                 d|                     15|\n",
      "+--------------------+--------------------+------------------+-----------------------+\n",
      "only showing top 10 rows\n",
      "\n"
     ]
    }
   ],
   "source": [
    "#We drop the Null values\n",
    "\n",
    "df_switzerland = df_switzerland.na.drop()\n",
    "df_switzerland.show(10)"
   ]
  },
  {
   "cell_type": "code",
   "execution_count": 81,
   "metadata": {},
   "outputs": [
    {
     "data": {
      "text/plain": [
       "4463"
      ]
     },
     "execution_count": 81,
     "metadata": {},
     "output_type": "execute_result"
    }
   ],
   "source": [
    "total_switz = df_switzerland.count()\n",
    "total_switz"
   ]
  },
  {
   "cell_type": "markdown",
   "metadata": {},
   "source": [
    "Here again, around 1/4 of the data are exploitable. (4463 over 19365)"
   ]
  },
  {
   "cell_type": "code",
   "execution_count": 55,
   "metadata": {},
   "outputs": [
    {
     "name": "stdout",
     "output_type": "stream",
     "text": [
      "+------------------+-----+\n",
      "|nutrition_grade_fr|count|\n",
      "+------------------+-----+\n",
      "|                 a|  723|\n",
      "|                 b|  664|\n",
      "|                 c|  897|\n",
      "|                 d| 1220|\n",
      "|                 e|  959|\n",
      "+------------------+-----+\n",
      "\n"
     ]
    }
   ],
   "source": [
    "#We count the number of products we have for the different Nutri-Score (from a to e)\n",
    "\n",
    "counted_nutriscore_s = df_switzerland.groupBy('nutrition_grade_fr').count().sort(\"nutrition_grade_fr\")\n",
    "counted_nutriscore_s.show()"
   ]
  },
  {
   "cell_type": "code",
   "execution_count": 56,
   "metadata": {},
   "outputs": [
    {
     "data": {
      "text/plain": [
       "Text(0.5, 0, 'Nutri-Score')"
      ]
     },
     "execution_count": 56,
     "metadata": {},
     "output_type": "execute_result"
    },
    {
     "data": {
      "image/png": "[encoded data removed]",
      "text/plain": [
       "<Figure size 792x432 with 1 Axes>"
      ]
     },
     "metadata": {
      "needs_background": "light"
     },
     "output_type": "display_data"
    }
   ],
   "source": [
    "#We create a panda dataframe from the spark dataframe\n",
    "\n",
    "pd_nutriscore_switzerland = counted_nutriscore_s.toPandas()\n",
    "\n",
    "#Then we plot our results\n",
    "\n",
    "pd_nutriscore_switzerland.plot.bar(x= 'nutrition_grade_fr', y = 'count', rot=0, figsize=(11,6), color= score_colors)\n",
    "plt.title(\"Number of products available in Switzerland depending on the Nutri-Score\")\n",
    "plt.xlabel(\"Nutri-Score\")"
   ]
  },
  {
   "cell_type": "markdown",
   "metadata": {},
   "source": [
    "### Beverages"
   ]
  },
  {
   "cell_type": "code",
   "execution_count": 124,
   "metadata": {},
   "outputs": [
    {
     "name": "stdout",
     "output_type": "stream",
     "text": [
      "+--------------------+--------------------+------------------+-----------------------+\n",
      "|        product_name|     categories_tags|nutrition_grade_fr|nutrition-score-fr_100g|\n",
      "+--------------------+--------------------+------------------+-----------------------+\n",
      "|Of London Camomil...|en:beverages,en:n...|                 b|                      1|\n",
      "|Blended Scotch Wh...|en:beverages,en:w...|                 e|                     11|\n",
      "|        jus de pomme|en:plant-based-fo...|                 c|                      4|\n",
      "|Original green te...|en:beverages,en:i...|                 d|                      9|\n",
      "|Pomegrenate Green...|en:plant-based-fo...|                 e|                     11|\n",
      "| Blueberry white tea|en:beverages,en:s...|                 e|                     11|\n",
      "|Arizona Lite Half...|en:beverages,en:a...|                 d|                      7|\n",
      "|Watermelon Chewes...|en:plant-based-fo...|                 e|                     11|\n",
      "|Boisson lactée à ...|en:beverages,en:d...|                 b|                      0|\n",
      "|          Ice Coffee|en:beverages,en:d...|                 b|                      1|\n",
      "+--------------------+--------------------+------------------+-----------------------+\n",
      "only showing top 10 rows\n",
      "\n"
     ]
    }
   ],
   "source": [
    "#We do it again for the beverages in Switzerland\n",
    "\n",
    "switzerland_beverages = df_switzerland.filter(df_switzerland.categories_tags.contains(\"en:beverages\"))\n",
    "switzerland_beverages.show(10)"
   ]
  },
  {
   "cell_type": "code",
   "execution_count": 82,
   "metadata": {},
   "outputs": [
    {
     "data": {
      "text/plain": [
       "537"
      ]
     },
     "execution_count": 82,
     "metadata": {},
     "output_type": "execute_result"
    }
   ],
   "source": [
    "tot_bev_switz = switzerland_beverages.count()\n",
    "tot_bev_switz"
   ]
  },
  {
   "cell_type": "markdown",
   "metadata": {},
   "source": [
    "Over the 4463 exploitable data we have for switzerland, 537 are beverages, that is around 1/8 of these data."
   ]
  },
  {
   "cell_type": "code",
   "execution_count": 58,
   "metadata": {},
   "outputs": [
    {
     "name": "stdout",
     "output_type": "stream",
     "text": [
      "+------------------+-----+\n",
      "|nutrition_grade_fr|count|\n",
      "+------------------+-----+\n",
      "|                 a|   18|\n",
      "|                 b|   98|\n",
      "|                 c|  120|\n",
      "|                 d|  116|\n",
      "|                 e|  185|\n",
      "+------------------+-----+\n",
      "\n"
     ]
    }
   ],
   "source": [
    "#We count the number of beverages for the different nutri-score in switzerland\n",
    "\n",
    "beverage_score_switz = switzerland_beverages.groupBy('nutrition_grade_fr').count().sort(\"nutrition_grade_fr\")\n",
    "beverage_score_switz.show()"
   ]
  },
  {
   "cell_type": "code",
   "execution_count": 59,
   "metadata": {},
   "outputs": [
    {
     "data": {
      "text/plain": [
       "Text(0.5, 0, 'Nutri-Score')"
      ]
     },
     "execution_count": 59,
     "metadata": {},
     "output_type": "execute_result"
    },
    {
     "data": {
      "image/png": "[encoded data removed]",
      "text/plain": [
       "<Figure size 792x432 with 1 Axes>"
      ]
     },
     "metadata": {
      "needs_background": "light"
     },
     "output_type": "display_data"
    }
   ],
   "source": [
    "#We create a panda dataframe from the spark dataframe\n",
    "\n",
    "pd_beverages_switzerland = beverage_score_switz.toPandas()\n",
    "\n",
    "#We plot our results\n",
    "\n",
    "pd_beverages_switzerland.plot.bar(x= 'nutrition_grade_fr', y = 'count', rot=0, figsize=(11,6), color=score_colors)\n",
    "plt.title(\"Number of beverages available in Switzerland depending on the Nutri-Score\")\n",
    "plt.xlabel(\"Nutri-Score\")"
   ]
  },
  {
   "cell_type": "markdown",
   "metadata": {},
   "source": [
    "## United states datas"
   ]
  },
  {
   "cell_type": "markdown",
   "metadata": {},
   "source": [
    "### Overall"
   ]
  },
  {
   "cell_type": "code",
   "execution_count": 130,
   "metadata": {},
   "outputs": [],
   "source": [
    "#We create a dataframe for the United States data\n",
    "\n",
    "df_usa = df_data.where(df_data.countries_tags.contains('en:united-states')).select('product_name'\n",
    "                                                                                   ,'categories_tags'\n",
    "                                                                                   ,'nutrition_grade_fr'\n",
    "                                                                                   ,'nutrition-score-fr_100g')\n",
    "#df_usa.show(200)"
   ]
  },
  {
   "cell_type": "code",
   "execution_count": 54,
   "metadata": {},
   "outputs": [
    {
     "data": {
      "text/plain": [
       "175479"
      ]
     },
     "execution_count": 54,
     "metadata": {},
     "output_type": "execute_result"
    }
   ],
   "source": [
    "df_usa.count()"
   ]
  },
  {
   "cell_type": "code",
   "execution_count": 125,
   "metadata": {},
   "outputs": [
    {
     "name": "stdout",
     "output_type": "stream",
     "text": [
      "+--------------------+--------------------+------------------+-----------------------+\n",
      "|        product_name|     categories_tags|nutrition_grade_fr|nutrition-score-fr_100g|\n",
      "+--------------------+--------------------+------------------+-----------------------+\n",
      "|           Root Beer|en:beverages,en:c...|                 e|                     12|\n",
      "|  Sliced Plain Bagel|      en:pains-bagel|                 c|                      3|\n",
      "|Sea Salt Potato C...|en:chips-and-frie...|                 c|                      8|\n",
      "|        clam chowder|en:meals,en:soups...|                 b|                      2|\n",
      "|      Pizza Parlanno|en:meals,en:pizza...|                 d|                     11|\n",
      "|       Mac 'n Cheese|en:meals,en:micro...|                 c|                      4|\n",
      "|      Yellow Mustard|en:groceries,en:c...|                 b|                      0|\n",
      "|Vanilla Nonfat Yo...|en:dairies,en:fer...|                 a|                     -1|\n",
      "|          Tortellini|en:plant-based-fo...|                 c|                      9|\n",
      "|         Hello Panda|en:sugary-snacks,...|                 e|                     22|\n",
      "+--------------------+--------------------+------------------+-----------------------+\n",
      "only showing top 10 rows\n",
      "\n"
     ]
    }
   ],
   "source": [
    "#We drop the null values\n",
    "\n",
    "df_usa = df_usa.na.drop()\n",
    "df_usa.show(10)"
   ]
  },
  {
   "cell_type": "code",
   "execution_count": 115,
   "metadata": {},
   "outputs": [
    {
     "data": {
      "text/plain": [
       "2685"
      ]
     },
     "execution_count": 115,
     "metadata": {},
     "output_type": "execute_result"
    }
   ],
   "source": [
    "total_usa = df_usa.count()\n",
    "total_usa"
   ]
  },
  {
   "cell_type": "markdown",
   "metadata": {},
   "source": [
    "Over the 175479 data we have for the United States, 2685 are exploitable, that is only 1/65 !\n",
    "\n",
    "We see that only a very few datas are exploitable for the United States, even though it is a very big country.\n",
    "\n",
    "Thus we must be careful when we interpret our results. This data may not represent very well the United States."
   ]
  },
  {
   "cell_type": "code",
   "execution_count": 62,
   "metadata": {},
   "outputs": [
    {
     "name": "stdout",
     "output_type": "stream",
     "text": [
      "+------------------+-----+\n",
      "|nutrition_grade_fr|count|\n",
      "+------------------+-----+\n",
      "|                 a|  336|\n",
      "|                 b|  432|\n",
      "|                 c|  496|\n",
      "|                 d|  862|\n",
      "|                 e|  559|\n",
      "+------------------+-----+\n",
      "\n"
     ]
    }
   ],
   "source": [
    "#We count the number of products for each nutri-score in the united states\n",
    "\n",
    "counted_nutriscore_usa = df_usa.groupBy('nutrition_grade_fr').count().sort(\"nutrition_grade_fr\")\n",
    "counted_nutriscore_usa.show()"
   ]
  },
  {
   "cell_type": "code",
   "execution_count": 63,
   "metadata": {},
   "outputs": [
    {
     "data": {
      "text/plain": [
       "Text(0.5, 0, 'Nutri-Score')"
      ]
     },
     "execution_count": 63,
     "metadata": {},
     "output_type": "execute_result"
    },
    {
     "data": {
      "image/png": "[encoded data removed]",
      "text/plain": [
       "<Figure size 792x432 with 1 Axes>"
      ]
     },
     "metadata": {
      "needs_background": "light"
     },
     "output_type": "display_data"
    }
   ],
   "source": [
    "#We create a panda dataframe from the spark dataframe, then we plot our results\n",
    "\n",
    "pd_nutriscore_usa = counted_nutriscore_usa.toPandas()\n",
    "\n",
    "pd_nutriscore_usa.plot.bar(x= 'nutrition_grade_fr', y = 'count', rot=0, figsize=(11,6), color= score_colors)\n",
    "plt.title(\"Number of products available in the United States depending on the Nutri-Score\")\n",
    "plt.xlabel(\"Nutri-Score\")"
   ]
  },
  {
   "cell_type": "markdown",
   "metadata": {},
   "source": [
    "### Beverages"
   ]
  },
  {
   "cell_type": "code",
   "execution_count": 126,
   "metadata": {},
   "outputs": [
    {
     "name": "stdout",
     "output_type": "stream",
     "text": [
      "+--------------------+--------------------+------------------+-----------------------+\n",
      "|        product_name|     categories_tags|nutrition_grade_fr|nutrition-score-fr_100g|\n",
      "+--------------------+--------------------+------------------+-----------------------+\n",
      "|           Root Beer|en:beverages,en:c...|                 e|                     12|\n",
      "|         Ginger Beer|en:plant-based-fo...|                 e|                     14|\n",
      "|D' Sabor, Aloe Ve...|en:plant-based-fo...|                 e|                     10|\n",
      "|D' Sabor, Aloe Ve...|en:plant-based-fo...|                 e|                     10|\n",
      "|100% Juice Unfilt...|en:plant-based-fo...|                 c|                      5|\n",
      "|100% Juice Apple ...|en:plant-based-fo...|                 c|                      5|\n",
      "|    100% Apple Juice|en:plant-based-fo...|                 c|                      5|\n",
      "|   100% Juice, Apple|en:plant-based-fo...|                 c|                      5|\n",
      "|    100% Apple Juice|en:plant-based-fo...|                 c|                      5|\n",
      "|Aloe Vera Drink, ...|en:plant-based-fo...|                 e|                     14|\n",
      "+--------------------+--------------------+------------------+-----------------------+\n",
      "only showing top 10 rows\n",
      "\n"
     ]
    }
   ],
   "source": [
    "# We select the beverages, in a new dataframe we create\n",
    "\n",
    "usa_beverages = df_usa.filter(df_usa.categories_tags.contains(\"en:beverages\"))\n",
    "usa_beverages.show(10)"
   ]
  },
  {
   "cell_type": "code",
   "execution_count": 38,
   "metadata": {},
   "outputs": [
    {
     "data": {
      "text/plain": [
       "342"
      ]
     },
     "execution_count": 38,
     "metadata": {},
     "output_type": "execute_result"
    }
   ],
   "source": [
    "tot_bev_usa = usa_beverages.count()\n",
    "tot_bev_usa"
   ]
  },
  {
   "cell_type": "markdown",
   "metadata": {},
   "source": [
    "Over the 2685 exploitable data for the United States, 342 are beverages, that is around 1/8."
   ]
  },
  {
   "cell_type": "code",
   "execution_count": 65,
   "metadata": {},
   "outputs": [
    {
     "name": "stdout",
     "output_type": "stream",
     "text": [
      "+------------------+-----+\n",
      "|nutrition_grade_fr|count|\n",
      "+------------------+-----+\n",
      "|                 a|    7|\n",
      "|                 b|   55|\n",
      "|                 c|   62|\n",
      "|                 d|   67|\n",
      "|                 e|  151|\n",
      "+------------------+-----+\n",
      "\n"
     ]
    }
   ],
   "source": [
    "#We count the number of beverages for each nutri-score\n",
    "\n",
    "beverage_score_usa = usa_beverages.groupBy('nutrition_grade_fr').count().sort(\"nutrition_grade_fr\")\n",
    "beverage_score_usa.show()"
   ]
  },
  {
   "cell_type": "code",
   "execution_count": 116,
   "metadata": {},
   "outputs": [
    {
     "data": {
      "text/plain": [
       "Text(0.5, 0, 'Nutri-Score')"
      ]
     },
     "execution_count": 116,
     "metadata": {},
     "output_type": "execute_result"
    },
    {
     "data": {
      "image/png": "[encoded data removed]",
      "text/plain": [
       "<Figure size 792x432 with 1 Axes>"
      ]
     },
     "metadata": {
      "needs_background": "light"
     },
     "output_type": "display_data"
    }
   ],
   "source": [
    "#We create a panda dataframe from the spark dataframe\n",
    "\n",
    "pd_beverages_usa = beverage_score_usa.toPandas()\n",
    "\n",
    "#Then we plot our results\n",
    "\n",
    "pd_beverages_usa.plot.bar(x= 'nutrition_grade_fr', y = 'count', rot=0, figsize=(11,6), color=score_colors)\n",
    "plt.title(\"Number of beverages available in the United States depending on the Nutri-Score\")\n",
    "plt.xlabel(\"Nutri-Score\")"
   ]
  },
  {
   "cell_type": "markdown",
   "metadata": {},
   "source": [
    "## Nutri-Score comparison"
   ]
  },
  {
   "cell_type": "markdown",
   "metadata": {},
   "source": [
    "### Overall"
   ]
  },
  {
   "cell_type": "markdown",
   "metadata": {},
   "source": [
    "In this part we want to directly compare the proportion of each Nutri-Score (a, b, c, d and e), for the different countries.\n",
    "\n",
    "As the datasets for the different countries have different sizes, we need to use percentages to be able to do the comparison."
   ]
  },
  {
   "cell_type": "code",
   "execution_count": 129,
   "metadata": {},
   "outputs": [],
   "source": [
    "#We calculate the percentages for the different nutri-score for each country\n",
    "\n",
    "nb_lines = len(pd_nutriscore_france.iloc[:,0])\n",
    "\n",
    "France_percent = []\n",
    "Switzerland_percent = []\n",
    "United_States_percent = []\n",
    "nutri_score = []\n",
    "\n",
    "for i in range (0, nb_lines):\n",
    "    nutri_score.append(pd_nutriscore_france.iloc[i, 0])\n",
    "    France_percent.append(pd_nutriscore_france.iloc[i,1]/total_france*100)\n",
    "    Switzerland_percent.append(pd_nutriscore_switzerland.iloc[i,1]/total_switz*100)\n",
    "    United_States_percent.append(pd_nutriscore_usa.iloc[i,1]/total_usa*100)\n"
   ]
  },
  {
   "cell_type": "code",
   "execution_count": 130,
   "metadata": {},
   "outputs": [
    {
     "data": {
      "text/html": [
       "<div>\n",
       "<style scoped>\n",
       "    .dataframe tbody tr th:only-of-type {\n",
       "        vertical-align: middle;\n",
       "    }\n",
       "\n",
       "    .dataframe tbody tr th {\n",
       "        vertical-align: top;\n",
       "    }\n",
       "\n",
       "    .dataframe thead th {\n",
       "        text-align: right;\n",
       "    }\n",
       "</style>\n",
       "<table border=\"1\" class=\"dataframe\">\n",
       "  <thead>\n",
       "    <tr style=\"text-align: right;\">\n",
       "      <th></th>\n",
       "      <th>France</th>\n",
       "      <th>Switzerland</th>\n",
       "      <th>United States</th>\n",
       "    </tr>\n",
       "    <tr>\n",
       "      <th>Nutri-score</th>\n",
       "      <th></th>\n",
       "      <th></th>\n",
       "      <th></th>\n",
       "    </tr>\n",
       "  </thead>\n",
       "  <tbody>\n",
       "    <tr>\n",
       "      <th>a</th>\n",
       "      <td>13.075869</td>\n",
       "      <td>16.199866</td>\n",
       "      <td>12.513966</td>\n",
       "    </tr>\n",
       "    <tr>\n",
       "      <th>b</th>\n",
       "      <td>13.865388</td>\n",
       "      <td>14.877885</td>\n",
       "      <td>16.089385</td>\n",
       "    </tr>\n",
       "    <tr>\n",
       "      <th>c</th>\n",
       "      <td>20.668779</td>\n",
       "      <td>20.098588</td>\n",
       "      <td>18.472998</td>\n",
       "    </tr>\n",
       "    <tr>\n",
       "      <th>d</th>\n",
       "      <td>29.354341</td>\n",
       "      <td>27.335873</td>\n",
       "      <td>32.104283</td>\n",
       "    </tr>\n",
       "    <tr>\n",
       "      <th>e</th>\n",
       "      <td>23.035623</td>\n",
       "      <td>21.487788</td>\n",
       "      <td>20.819367</td>\n",
       "    </tr>\n",
       "  </tbody>\n",
       "</table>\n",
       "</div>"
      ],
      "text/plain": [
       "                France  Switzerland  United States\n",
       "Nutri-score                                       \n",
       "a            13.075869    16.199866      12.513966\n",
       "b            13.865388    14.877885      16.089385\n",
       "c            20.668779    20.098588      18.472998\n",
       "d            29.354341    27.335873      32.104283\n",
       "e            23.035623    21.487788      20.819367"
      ]
     },
     "execution_count": 130,
     "metadata": {},
     "output_type": "execute_result"
    }
   ],
   "source": [
    "#We create a panda dataframe with these percentages\n",
    "\n",
    "df_comparison = pd.DataFrame({'France': France_percent, 'Switzerland': Switzerland_percent, 'United States': United_States_percent, 'Nutri-score': nutri_score}).set_index('Nutri-score')\n",
    "\n",
    "df_comparison"
   ]
  },
  {
   "cell_type": "code",
   "execution_count": 131,
   "metadata": {},
   "outputs": [
    {
     "data": {
      "text/plain": [
       "Text(0, 0.5, 'Percentage')"
      ]
     },
     "execution_count": 131,
     "metadata": {},
     "output_type": "execute_result"
    },
    {
     "data": {
      "image/png": "[encoded data removed]",
      "text/plain": [
       "<Figure size 792x432 with 1 Axes>"
      ]
     },
     "metadata": {
      "needs_background": "light"
     },
     "output_type": "display_data"
    }
   ],
   "source": [
    "#Then we plot our results\n",
    "\n",
    "df_comparison.plot.bar(rot=0, figsize=(11,6), color=('b', 'r', 'darkgrey'))\n",
    "\n",
    "plt.title(\"Percentage of products per nutri-score available in different countries\")\n",
    "plt.xlabel(\"Nutri-Score\")\n",
    "plt.ylabel(\"Percentage\")"
   ]
  },
  {
   "cell_type": "markdown",
   "metadata": {},
   "source": [
    "### Beverages"
   ]
  },
  {
   "cell_type": "code",
   "execution_count": 132,
   "metadata": {},
   "outputs": [],
   "source": [
    "#This time we calculate the percentages for the different nutri-score for each country for the beverages\n",
    "\n",
    "nb_lines = len(pd_beverages_france.iloc[:,0])\n",
    "\n",
    "France_bev_percent = []\n",
    "Switzerland_bev_percent = []\n",
    "United_States_bev_percent = []\n",
    "#nutri_score = []\n",
    "\n",
    "for i in range (0, nb_lines):\n",
    "  #  nutri_score.append(pd_nutriscore_france.index[i])\n",
    "    France_bev_percent.append(pd_beverages_france.iloc[i,1]/tot_bev_france*100)\n",
    "    Switzerland_bev_percent.append(pd_beverages_switzerland.iloc[i,1]/tot_bev_switz*100)\n",
    "    United_States_bev_percent.append(pd_beverages_usa.iloc[i,1]/tot_bev_usa*100)\n",
    "\n"
   ]
  },
  {
   "cell_type": "code",
   "execution_count": 133,
   "metadata": {},
   "outputs": [
    {
     "data": {
      "text/html": [
       "<div>\n",
       "<style scoped>\n",
       "    .dataframe tbody tr th:only-of-type {\n",
       "        vertical-align: middle;\n",
       "    }\n",
       "\n",
       "    .dataframe tbody tr th {\n",
       "        vertical-align: top;\n",
       "    }\n",
       "\n",
       "    .dataframe thead th {\n",
       "        text-align: right;\n",
       "    }\n",
       "</style>\n",
       "<table border=\"1\" class=\"dataframe\">\n",
       "  <thead>\n",
       "    <tr style=\"text-align: right;\">\n",
       "      <th></th>\n",
       "      <th>France</th>\n",
       "      <th>Switzerland</th>\n",
       "      <th>United States</th>\n",
       "    </tr>\n",
       "    <tr>\n",
       "      <th>Nutri-score</th>\n",
       "      <th></th>\n",
       "      <th></th>\n",
       "      <th></th>\n",
       "    </tr>\n",
       "  </thead>\n",
       "  <tbody>\n",
       "    <tr>\n",
       "      <th>a</th>\n",
       "      <td>1.543550</td>\n",
       "      <td>3.351955</td>\n",
       "      <td>2.046784</td>\n",
       "    </tr>\n",
       "    <tr>\n",
       "      <th>b</th>\n",
       "      <td>17.069849</td>\n",
       "      <td>18.249534</td>\n",
       "      <td>16.081871</td>\n",
       "    </tr>\n",
       "    <tr>\n",
       "      <th>c</th>\n",
       "      <td>18.328037</td>\n",
       "      <td>22.346369</td>\n",
       "      <td>18.128655</td>\n",
       "    </tr>\n",
       "    <tr>\n",
       "      <th>d</th>\n",
       "      <td>16.181335</td>\n",
       "      <td>21.601490</td>\n",
       "      <td>19.590643</td>\n",
       "    </tr>\n",
       "    <tr>\n",
       "      <th>e</th>\n",
       "      <td>46.877229</td>\n",
       "      <td>34.450652</td>\n",
       "      <td>44.152047</td>\n",
       "    </tr>\n",
       "  </tbody>\n",
       "</table>\n",
       "</div>"
      ],
      "text/plain": [
       "                France  Switzerland  United States\n",
       "Nutri-score                                       \n",
       "a             1.543550     3.351955       2.046784\n",
       "b            17.069849    18.249534      16.081871\n",
       "c            18.328037    22.346369      18.128655\n",
       "d            16.181335    21.601490      19.590643\n",
       "e            46.877229    34.450652      44.152047"
      ]
     },
     "execution_count": 133,
     "metadata": {},
     "output_type": "execute_result"
    }
   ],
   "source": [
    "#We create a panda dataframe with these percentages\n",
    "\n",
    "df_comparison_beverages = pd.DataFrame({'France': France_bev_percent, 'Switzerland': Switzerland_bev_percent, 'United States': United_States_bev_percent, 'Nutri-score': nutri_score}).set_index('Nutri-score')\n",
    "\n",
    "df_comparison_beverages"
   ]
  },
  {
   "cell_type": "code",
   "execution_count": 134,
   "metadata": {},
   "outputs": [
    {
     "data": {
      "text/plain": [
       "Text(0, 0.5, 'Percentage')"
      ]
     },
     "execution_count": 134,
     "metadata": {},
     "output_type": "execute_result"
    },
    {
     "data": {
      "image/png": "[encoded data removed]",
      "text/plain": [
       "<Figure size 792x432 with 1 Axes>"
      ]
     },
     "metadata": {
      "needs_background": "light"
     },
     "output_type": "display_data"
    }
   ],
   "source": [
    "#Then we plot our results\n",
    "\n",
    "df_comparison_beverages.plot.bar(rot=0, figsize=(11,6), color=('b', 'r', 'darkgrey'))\n",
    "\n",
    "plt.title(\"Percentage of beverages per nutri-score available in different countries\")\n",
    "plt.xlabel(\"Nutri-Score\")\n",
    "plt.ylabel(\"Percentage\")"
   ]
  },
  {
   "cell_type": "markdown",
   "metadata": {},
   "source": [
    "First, we need to be careful, because the dataset we have is not complete. A lot of products are still not on the OpenFactFood website, and thus are not treated. Furthermore, the product we have are products available in the countries, but we do not know how popular they are, and if people do consume them a lot or not.\n",
    "\n",
    "Here, we do not see any big difference between France, Switzerland and the United States.\n",
    "It could be biaised due to the fact that the majority of the products in the United States are not on the website already.\n",
    "\n",
    "Maybe we should then focus on much more specific and thus much smaller dataset.\n",
    "\n",
    "The overall tendency for all the products is an increase in number as the Nutri-Score increases from a to d, and then a small decrease from d to e.\n",
    "\n",
    "For the beverages, we observe an important increase in number of products available as the Nutri-Score increases from a to e. \n",
    "\n",
    "It means that the majority of the products available in supermarket have low nutritional values."
   ]
  },
  {
   "cell_type": "markdown",
   "metadata": {},
   "source": [
    "# Part 2: Focus on the coca\n",
    "### What are the differences in the composition of a given product in different countries?"
   ]
  },
  {
   "cell_type": "code",
   "execution_count": 10,
   "metadata": {},
   "outputs": [],
   "source": [
    "df_data.registerTempTable('tab_all')"
   ]
  },
  {
   "cell_type": "code",
   "execution_count": 11,
   "metadata": {},
   "outputs": [
    {
     "name": "stdout",
     "output_type": "stream",
     "text": [
      "+------------+-----------+--------------------+\n",
      "|product_name|sugars_100g|           countries|\n",
      "+------------+-----------+--------------------+\n",
      "|   Coca-Cola|         11|       United States|\n",
      "|   Coca-Cola|       10.8|       United States|\n",
      "|   Coca-Cola|         11|       United States|\n",
      "|   Coca-Cola|         11|       United States|\n",
      "|   Coca Cola|       10.6|              France|\n",
      "|   Coca-Cola|       10.6|  France,Switzerland|\n",
      "|   Coca Cola|         10|Belgium,France,Mo...|\n",
      "|   Coca-Cola|       10.6|              France|\n",
      "|   Coca Cola|       10.6|Belgium,France,Sw...|\n",
      "|   Coca Cola|       10.6|              France|\n",
      "+------------+-----------+--------------------+\n",
      "only showing top 10 rows\n",
      "\n"
     ]
    }
   ],
   "source": [
    "#We create the coca dataframe\n",
    "\n",
    "query = \"\"\"\n",
    "SELECT product_name,sugars_100g,countries_en AS countries\n",
    "FROM tab_all\n",
    "WHERE \n",
    "(product_name == 'Coca Cola' OR product_name == 'Coca-Cola')\n",
    "AND \n",
    "(sugars_100g>9.5 AND sugars_100g<20)\n",
    "\"\"\"\n",
    "\n",
    "df_coca = spark.sql(query)\n",
    "df_coca.show(10)"
   ]
  },
  {
   "cell_type": "code",
   "execution_count": 12,
   "metadata": {},
   "outputs": [
    {
     "name": "stdout",
     "output_type": "stream",
     "text": [
      "+------------+-----------+-------------+\n",
      "|product_name|sugars_100g|    countries|\n",
      "+------------+-----------+-------------+\n",
      "|   Coca-Cola|         11|United States|\n",
      "|   Coca-Cola|       10.8|United States|\n",
      "|   Coca-Cola|         11|United States|\n",
      "|   Coca-Cola|         11|United States|\n",
      "|   Coca Cola|       10.6|       France|\n",
      "|   Coca-Cola|       10.6|       France|\n",
      "|   Coca-Cola|       10.6|  Switzerland|\n",
      "|   Coca Cola|         10|      Belgium|\n",
      "|   Coca Cola|         10|       France|\n",
      "|   Coca Cola|         10|      Morocco|\n",
      "+------------+-----------+-------------+\n",
      "only showing top 10 rows\n",
      "\n"
     ]
    }
   ],
   "source": [
    "#We split the \"countries\" column to have single country in each row.\n",
    "\n",
    "df_coca_new = df_coca.select(\"product_name\", \"sugars_100g\", explode(split('countries', ','))).withColumnRenamed(\"col\", \"countries\")\n",
    "df_coca_new.show(10)"
   ]
  },
  {
   "cell_type": "code",
   "execution_count": 13,
   "metadata": {},
   "outputs": [],
   "source": [
    "df_coca_pd=df_coca_new.toPandas()\n",
    "#df_coca_pd"
   ]
  },
  {
   "cell_type": "code",
   "execution_count": 14,
   "metadata": {},
   "outputs": [
    {
     "data": {
      "text/plain": [
       "product_name    object\n",
       "sugars_100g     object\n",
       "countries       object\n",
       "dtype: object"
      ]
     },
     "execution_count": 14,
     "metadata": {},
     "output_type": "execute_result"
    }
   ],
   "source": [
    "df_coca_pd.dtypes"
   ]
  },
  {
   "cell_type": "code",
   "execution_count": 15,
   "metadata": {},
   "outputs": [],
   "source": [
    "#We need to convert the type of \"sugars_100g\" into a numerical type to be able to use the function \"aggregate\"\n",
    "\n",
    "df_coca_pd[\"sugars_100g\"] = df_coca_pd[\"sugars_100g\"].astype('float')"
   ]
  },
  {
   "cell_type": "code",
   "execution_count": 16,
   "metadata": {},
   "outputs": [
    {
     "data": {
      "text/html": [
       "<div>\n",
       "<style scoped>\n",
       "    .dataframe tbody tr th:only-of-type {\n",
       "        vertical-align: middle;\n",
       "    }\n",
       "\n",
       "    .dataframe tbody tr th {\n",
       "        vertical-align: top;\n",
       "    }\n",
       "\n",
       "    .dataframe thead th {\n",
       "        text-align: right;\n",
       "    }\n",
       "</style>\n",
       "<table border=\"1\" class=\"dataframe\">\n",
       "  <thead>\n",
       "    <tr style=\"text-align: right;\">\n",
       "      <th></th>\n",
       "      <th>sugars_100g</th>\n",
       "    </tr>\n",
       "    <tr>\n",
       "      <th>countries</th>\n",
       "      <th></th>\n",
       "    </tr>\n",
       "  </thead>\n",
       "  <tbody>\n",
       "    <tr>\n",
       "      <th>Hungary</th>\n",
       "      <td>11.20</td>\n",
       "    </tr>\n",
       "    <tr>\n",
       "      <th>Slovakia</th>\n",
       "      <td>11.20</td>\n",
       "    </tr>\n",
       "    <tr>\n",
       "      <th>United States</th>\n",
       "      <td>11.00</td>\n",
       "    </tr>\n",
       "    <tr>\n",
       "      <th>Czech Republic</th>\n",
       "      <td>10.90</td>\n",
       "    </tr>\n",
       "    <tr>\n",
       "      <th>Georgia</th>\n",
       "      <td>10.90</td>\n",
       "    </tr>\n",
       "    <tr>\n",
       "      <th>Serbia</th>\n",
       "      <td>10.75</td>\n",
       "    </tr>\n",
       "    <tr>\n",
       "      <th>South Africa</th>\n",
       "      <td>10.60</td>\n",
       "    </tr>\n",
       "    <tr>\n",
       "      <th>Spain</th>\n",
       "      <td>10.60</td>\n",
       "    </tr>\n",
       "    <tr>\n",
       "      <th>Sweden</th>\n",
       "      <td>10.60</td>\n",
       "    </tr>\n",
       "    <tr>\n",
       "      <th>Morocco</th>\n",
       "      <td>10.60</td>\n",
       "    </tr>\n",
       "    <tr>\n",
       "      <th>Switzerland</th>\n",
       "      <td>10.60</td>\n",
       "    </tr>\n",
       "    <tr>\n",
       "      <th>Senegal</th>\n",
       "      <td>10.60</td>\n",
       "    </tr>\n",
       "    <tr>\n",
       "      <th>United Kingdom</th>\n",
       "      <td>10.60</td>\n",
       "    </tr>\n",
       "    <tr>\n",
       "      <th>Saudi Arabia</th>\n",
       "      <td>10.60</td>\n",
       "    </tr>\n",
       "    <tr>\n",
       "      <th>Réunion</th>\n",
       "      <td>10.60</td>\n",
       "    </tr>\n",
       "    <tr>\n",
       "      <th>Portugal</th>\n",
       "      <td>10.60</td>\n",
       "    </tr>\n",
       "    <tr>\n",
       "      <th>Pakistan</th>\n",
       "      <td>10.60</td>\n",
       "    </tr>\n",
       "    <tr>\n",
       "      <th>New Caledonia</th>\n",
       "      <td>10.60</td>\n",
       "    </tr>\n",
       "    <tr>\n",
       "      <th>Netherlands</th>\n",
       "      <td>10.60</td>\n",
       "    </tr>\n",
       "    <tr>\n",
       "      <th>Algeria</th>\n",
       "      <td>10.60</td>\n",
       "    </tr>\n",
       "    <tr>\n",
       "      <th>Australia</th>\n",
       "      <td>10.60</td>\n",
       "    </tr>\n",
       "    <tr>\n",
       "      <th>Mali</th>\n",
       "      <td>10.60</td>\n",
       "    </tr>\n",
       "    <tr>\n",
       "      <th>Luxembourg</th>\n",
       "      <td>10.60</td>\n",
       "    </tr>\n",
       "    <tr>\n",
       "      <th>Italy</th>\n",
       "      <td>10.60</td>\n",
       "    </tr>\n",
       "    <tr>\n",
       "      <th>Iraq</th>\n",
       "      <td>10.60</td>\n",
       "    </tr>\n",
       "    <tr>\n",
       "      <th>India</th>\n",
       "      <td>10.60</td>\n",
       "    </tr>\n",
       "    <tr>\n",
       "      <th>Germany</th>\n",
       "      <td>10.60</td>\n",
       "    </tr>\n",
       "    <tr>\n",
       "      <th>France</th>\n",
       "      <td>10.60</td>\n",
       "    </tr>\n",
       "    <tr>\n",
       "      <th>Denmark</th>\n",
       "      <td>10.60</td>\n",
       "    </tr>\n",
       "    <tr>\n",
       "      <th>Canada</th>\n",
       "      <td>10.60</td>\n",
       "    </tr>\n",
       "    <tr>\n",
       "      <th>Cameroon</th>\n",
       "      <td>10.60</td>\n",
       "    </tr>\n",
       "    <tr>\n",
       "      <th>Brazil</th>\n",
       "      <td>10.60</td>\n",
       "    </tr>\n",
       "    <tr>\n",
       "      <th>Belgium</th>\n",
       "      <td>10.60</td>\n",
       "    </tr>\n",
       "    <tr>\n",
       "      <th>Austria</th>\n",
       "      <td>10.60</td>\n",
       "    </tr>\n",
       "    <tr>\n",
       "      <th>Martinique</th>\n",
       "      <td>10.60</td>\n",
       "    </tr>\n",
       "    <tr>\n",
       "      <th>Philippines</th>\n",
       "      <td>10.40</td>\n",
       "    </tr>\n",
       "  </tbody>\n",
       "</table>\n",
       "</div>"
      ],
      "text/plain": [
       "                sugars_100g\n",
       "countries                  \n",
       "Hungary               11.20\n",
       "Slovakia              11.20\n",
       "United States         11.00\n",
       "Czech Republic        10.90\n",
       "Georgia               10.90\n",
       "Serbia                10.75\n",
       "South Africa          10.60\n",
       "Spain                 10.60\n",
       "Sweden                10.60\n",
       "Morocco               10.60\n",
       "Switzerland           10.60\n",
       "Senegal               10.60\n",
       "United Kingdom        10.60\n",
       "Saudi Arabia          10.60\n",
       "Réunion               10.60\n",
       "Portugal              10.60\n",
       "Pakistan              10.60\n",
       "New Caledonia         10.60\n",
       "Netherlands           10.60\n",
       "Algeria               10.60\n",
       "Australia             10.60\n",
       "Mali                  10.60\n",
       "Luxembourg            10.60\n",
       "Italy                 10.60\n",
       "Iraq                  10.60\n",
       "India                 10.60\n",
       "Germany               10.60\n",
       "France                10.60\n",
       "Denmark               10.60\n",
       "Canada                10.60\n",
       "Cameroon              10.60\n",
       "Brazil                10.60\n",
       "Belgium               10.60\n",
       "Austria               10.60\n",
       "Martinique            10.60\n",
       "Philippines           10.40"
      ]
     },
     "execution_count": 16,
     "metadata": {},
     "output_type": "execute_result"
    }
   ],
   "source": [
    "#We group by country, and, for each given country, we calculate the median of sugars per 100g\n",
    "#and order the countries from the bigger to the smaller amount of sugar.\n",
    "\n",
    "df_coca_g=df_coca_pd.groupby('countries').aggregate(np.median).sort_values(\"sugars_100g\", axis=0, ascending=False)\n",
    "df_coca_g"
   ]
  },
  {
   "cell_type": "markdown",
   "metadata": {},
   "source": [
    "With the median of the amount of sugar we see that for the United States the amount of sugar is approximately 0.4 g (for 100g of coca) higher than in european countries. The next step is to find a good way to represent this informations (maybe a map) "
   ]
  },
  {
   "cell_type": "markdown",
   "metadata": {},
   "source": [
    "# Part 3: Origin and manufacturing place\n",
    "### Which countries consume more locally?"
   ]
  },
  {
   "cell_type": "markdown",
   "metadata": {},
   "source": [
    "This question shows if the country tends to import the food they sold or if they produce their own foods locally. Although the method used have some drawbacks, it gives a representation on how well a country consumme locally or if a country consumme more or less carbon dioxyde to bring their food products into the store."
   ]
  },
  {
   "cell_type": "markdown",
   "metadata": {},
   "source": [
    "Some drawbacks :\n",
    "- The total number of kilometers is not calculated but it is the country of origin that is take into account (e.g. a product manufactured in France and sold in Switzerland travels less than a product manufactured in New York and sold in California).\n",
    "- If only the region or city was provided in the manufacturing place, the manufacturing place was take into account as another country."
   ]
  },
  {
   "cell_type": "markdown",
   "metadata": {},
   "source": [
    "An important data field is called manufacturing_places and represents the place where the food product is manufactured. Another field is the origins which represent the origin of the food present in the product."
   ]
  },
  {
   "cell_type": "code",
   "execution_count": 112,
   "metadata": {},
   "outputs": [
    {
     "name": "stdout",
     "output_type": "stream",
     "text": [
      "+---------+--------------------+----------+--------------------+-------+\n",
      "|countries|        product_name|categories|manufacturing_places|origins|\n",
      "+---------+--------------------+----------+--------------------+-------+\n",
      "|en:france|    Vitória crackers|      null|                null|   null|\n",
      "|    en:FR|               Cacao|      null|                null|   null|\n",
      "|en:france|Sauce Sweety chil...|      null|                null|   null|\n",
      "|en:france|           Mendiants|      null|                null|   null|\n",
      "|en:france|Salade de carotte...|      null|                null|   null|\n",
      "+---------+--------------------+----------+--------------------+-------+\n",
      "only showing top 5 rows\n",
      "\n"
     ]
    }
   ],
   "source": [
    "dfbis=df_data.select(\"countries\", \"product_name\",\"categories\",\"manufacturing_places\",\"origins\")\n",
    "dfbis.show(5)"
   ]
  },
  {
   "cell_type": "markdown",
   "metadata": {},
   "source": [
    "A lot of country names begin with en:, it is necessary to supress it. Furthermore, one row can contains several country names. "
   ]
  },
  {
   "cell_type": "code",
   "execution_count": 113,
   "metadata": {},
   "outputs": [],
   "source": [
    "#Clean the name of countries and create a list of countries if multiple countries are given\n",
    "def cleanCountries(countries):\n",
    "    if countries is not None :\n",
    "        countries=countries.replace('en:', '').split(',')\n",
    "    return countries\n",
    "    \n",
    "clean_udf = udf(lambda x : cleanCountries(x), ArrayType(StringType()))"
   ]
  },
  {
   "cell_type": "code",
   "execution_count": 114,
   "metadata": {},
   "outputs": [],
   "source": [
    "#Create a DataFrame with the name of the countries cleaned\n",
    "df_clean = dfbis.select(clean_udf('countries').alias('countries'),\n",
    "                        'product_name',\n",
    "                        'categories',\n",
    "                        'manufacturing_places',\n",
    "                        'origins',\n",
    "                       )"
   ]
  },
  {
   "cell_type": "code",
   "execution_count": 115,
   "metadata": {},
   "outputs": [
    {
     "name": "stdout",
     "output_type": "stream",
     "text": [
      "+---------+--------------------+----------+--------------------+-------+\n",
      "|countries|        product_name|categories|manufacturing_places|origins|\n",
      "+---------+--------------------+----------+--------------------+-------+\n",
      "| [france]|    Vitória crackers|      null|                null|   null|\n",
      "|     [FR]|               Cacao|      null|                null|   null|\n",
      "| [france]|Sauce Sweety chil...|      null|                null|   null|\n",
      "| [france]|           Mendiants|      null|                null|   null|\n",
      "| [france]|Salade de carotte...|      null|                null|   null|\n",
      "+---------+--------------------+----------+--------------------+-------+\n",
      "only showing top 5 rows\n",
      "\n"
     ]
    }
   ],
   "source": [
    "df_clean.show(5)"
   ]
  },
  {
   "cell_type": "code",
   "execution_count": 116,
   "metadata": {},
   "outputs": [],
   "source": [
    "#Explode the list of countries into one country per row\n",
    "df_clean_final = df_clean.withColumn(\"countries\", explode(df_clean.countries))"
   ]
  },
  {
   "cell_type": "markdown",
   "metadata": {},
   "source": [
    "The names of the countries are written in different languages either in uppercase or lowercase. One way to get rid of this difficulty is to use the utility of python called babel. With the isocode of languages and countries, one list of names of countries can be made in different languages."
   ]
  },
  {
   "cell_type": "code",
   "execution_count": 117,
   "metadata": {},
   "outputs": [],
   "source": [
    "#Create a list of country names in different languages with respect to lower and upper case\n",
    "#The country is given with respect to the norm ISO 3166 alpha 2\n",
    "#The language is given with respect to the norm ISO 639 alpha 2 \n",
    "def iso_3166_1_list(isocode) :\n",
    "    list_names = []\n",
    "    for language in ('en', 'fr', 'de', 'es', 'ar', 'zh'):\n",
    "        locale = Locale(language)\n",
    "        list_names.append(locale.territories[isocode])\n",
    "        list_names.append(locale.territories[isocode].lower())\n",
    "    list_names.append(isocode)\n",
    "    list_names.append(isocode.lower())\n",
    "    if isocode == 'US' :\n",
    "        list_names.append('USA')\n",
    "        list_names.append('USA'.lower()) \n",
    "        list_names.append('United states')\n",
    "    if isocode == 'GB' :\n",
    "        list_names.append('United kingdom')\n",
    "    return list_names"
   ]
  },
  {
   "cell_type": "code",
   "execution_count": 118,
   "metadata": {},
   "outputs": [],
   "source": [
    "#Check if the string given contain one of the names present in the list\n",
    "#If the case give the generic country name\n",
    "def is_country(country_name, list_countries):\n",
    "    if country_name is not None :\n",
    "        if any(x in country_name for x in list_countries) == True : \n",
    "            country_name = list_countries[0]\n",
    "    return country_name\n",
    "\n",
    "def country_udf(countries_list) :\n",
    "    return udf(lambda x : is_country(x, countries_list), StringType())"
   ]
  },
  {
   "cell_type": "code",
   "execution_count": 119,
   "metadata": {},
   "outputs": [],
   "source": [
    "#Clean the data using the list of countries given\n",
    "for countries in (['MX', 'FR', 'ES', 'IT', 'GE', 'NO', 'DE', 'CN', 'TH', 'CA']):\n",
    "    df_clean_final = df_clean_final.select(country_udf(iso_3166_1_list(countries))(col('countries')).alias('countries'),\n",
    "                         'product_name',\n",
    "                         'categories', \n",
    "                         country_udf(iso_3166_1_list(countries))(col('manufacturing_places')).alias('manufacturing_places'),\n",
    "                         country_udf(iso_3166_1_list(countries))(col('origins')).alias('origins'))"
   ]
  },
  {
   "cell_type": "code",
   "execution_count": 120,
   "metadata": {},
   "outputs": [],
   "source": [
    "#Clean the data using the list of countries given\n",
    "for countries in (['CH', 'US', 'GB']):\n",
    "    df_clean_final = df_clean_final.select(country_udf(iso_3166_1_list(countries))(col('countries')).alias('countries'),\n",
    "                         'product_name',\n",
    "                         'categories', \n",
    "                         country_udf(iso_3166_1_list(countries))(col('manufacturing_places')).alias('manufacturing_places'),\n",
    "                         country_udf(iso_3166_1_list(countries))(col('origins')).alias('origins'))"
   ]
  },
  {
   "cell_type": "code",
   "execution_count": 121,
   "metadata": {},
   "outputs": [
    {
     "name": "stdout",
     "output_type": "stream",
     "text": [
      "+---------+--------------------+----------+--------------------+-------+\n",
      "|countries|        product_name|categories|manufacturing_places|origins|\n",
      "+---------+--------------------+----------+--------------------+-------+\n",
      "|   France|    Vitória crackers|      null|                null|   null|\n",
      "|   France|               Cacao|      null|                null|   null|\n",
      "|   France|Sauce Sweety chil...|      null|                null|   null|\n",
      "|   France|           Mendiants|      null|                null|   null|\n",
      "|   France|Salade de carotte...|      null|                null|   null|\n",
      "+---------+--------------------+----------+--------------------+-------+\n",
      "only showing top 5 rows\n",
      "\n"
     ]
    }
   ],
   "source": [
    "df_clean_final.show(5)"
   ]
  },
  {
   "cell_type": "code",
   "execution_count": 122,
   "metadata": {},
   "outputs": [],
   "source": [
    "#Focus on a particular country in term of origin of products or manufacturing places\n",
    "#The country_name represents the name of the country that we focus on\n",
    "#The headers can be either origins or manufacturing_places \n",
    "def country_focus(country_name, headers) :\n",
    "    result = df_clean_final[df_clean_final['countries'] == country_name]\n",
    "    df_local_plus = result.groupby(headers).count().toPandas()\n",
    "    df_local_plus = df_local_plus.dropna()\n",
    "    others = df_local_plus['count'].sum()\n",
    "    df_local = df_local_plus.sort_values(by = ['count'], ascending = False).head(5)\n",
    "    others = others - df_local['count'].sum()\n",
    "    dfappend = pd.DataFrame({headers : ['Others countries'],\n",
    "                                   'count' : [others]}, index = [len(df_local_plus)+1])\n",
    "    df_local = df_local.append(dfappend)\n",
    "    plt.figure(figsize = (20, 10))\n",
    "    plt.pie(df_local['count'], labels = df_local[headers], autopct='%1.1f%%')\n",
    "    plt.title('The ' + headers + ' of food products in ' + country_name)\n",
    "    plt.show() "
   ]
  },
  {
   "cell_type": "code",
   "execution_count": 123,
   "metadata": {},
   "outputs": [
    {
     "data": {
      "image/png": "[encoded data removed]",
      "text/plain": [
       "<Figure size 1440x720 with 1 Axes>"
      ]
     },
     "metadata": {},
     "output_type": "display_data"
    }
   ],
   "source": [
    "country_focus('Italy', 'origins')"
   ]
  },
  {
   "cell_type": "code",
   "execution_count": 131,
   "metadata": {},
   "outputs": [
    {
     "data": {
      "image/png": "[encoded data removed]",
      "text/plain": [
       "<Figure size 1440x720 with 1 Axes>"
      ]
     },
     "metadata": {},
     "output_type": "display_data"
    }
   ],
   "source": [
    "country_focus('France', 'origins')"
   ]
  },
  {
   "cell_type": "code",
   "execution_count": 132,
   "metadata": {},
   "outputs": [
    {
     "data": {
      "image/png": "[encoded data removed]",
      "text/plain": [
       "<Figure size 1440x720 with 1 Axes>"
      ]
     },
     "metadata": {},
     "output_type": "display_data"
    }
   ],
   "source": [
    "country_focus('Switzerland', 'origins')"
   ]
  },
  {
   "cell_type": "code",
   "execution_count": 125,
   "metadata": {},
   "outputs": [
    {
     "data": {
      "image/png": "[encoded data removed]",
      "text/plain": [
       "<Figure size 1440x720 with 1 Axes>"
      ]
     },
     "metadata": {},
     "output_type": "display_data"
    }
   ],
   "source": [
    "country_focus('United States', 'origins')"
   ]
  },
  {
   "cell_type": "code",
   "execution_count": 126,
   "metadata": {},
   "outputs": [
    {
     "data": {
      "image/png": "[encoded data removed]",
      "text/plain": [
       "<Figure size 1440x720 with 1 Axes>"
      ]
     },
     "metadata": {},
     "output_type": "display_data"
    }
   ],
   "source": [
    "country_focus('France', 'manufacturing_places')"
   ]
  },
  {
   "cell_type": "code",
   "execution_count": 127,
   "metadata": {},
   "outputs": [
    {
     "data": {
      "image/png": "[encoded data removed]",
      "text/plain": [
       "<Figure size 1440x720 with 1 Axes>"
      ]
     },
     "metadata": {},
     "output_type": "display_data"
    }
   ],
   "source": [
    "country_focus('Switzerland', 'manufacturing_places')"
   ]
  },
  {
   "cell_type": "code",
   "execution_count": 133,
   "metadata": {},
   "outputs": [
    {
     "data": {
      "image/png": "[encoded data removed]",
      "text/plain": [
       "<Figure size 1440x720 with 1 Axes>"
      ]
     },
     "metadata": {},
     "output_type": "display_data"
    }
   ],
   "source": [
    "country_focus('United States', 'manufacturing_places')"
   ]
  },
  {
   "cell_type": "markdown",
   "metadata": {},
   "source": [
    "The results are represented in a pie chart with the 5 biggest countries in terms of numbers of articles and other countries representing the rest of the world.\n",
    "The percent are given with respect to total number of articles with a value for headers."
   ]
  },
  {
   "cell_type": "markdown",
   "metadata": {},
   "source": [
    "The next step would be to add all this informations into a map where each countries has a color depending on the percent of food products that are manufactured or come from their own country."
   ]
  },
  {
   "cell_type": "markdown",
   "metadata": {},
   "source": [
    "The cleaning can be improved as well, adding more countries to the list and maybe add some specificity like countries with accents or regions that not correspond to countries (Union Européenne, Québec, ...). Another thing that can be improve is not to have a code based on user defined functions (udf), which sould be used with caution."
   ]
  }
 ],
 "metadata": {
  "kernelspec": {
   "display_name": "my_env1",
   "language": "python",
   "name": "my_env1"
  },
  "language_info": {
   "codemirror_mode": {
    "name": "ipython",
    "version": 3
   },
   "file_extension": ".py",
   "mimetype": "text/x-python",
   "name": "python",
   "nbconvert_exporter": "python",
   "pygments_lexer": "ipython3",
   "version": "3.6.7"
  }
 },
 "nbformat": 4,
 "nbformat_minor": 2
}
