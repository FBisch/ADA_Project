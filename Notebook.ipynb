{
 "cells": [
  {
   "cell_type": "code",
   "execution_count": 1,
   "metadata": {},
   "outputs": [],
   "source": [
    "import findspark\n",
    "findspark.init()\n",
    "import pyspark"
   ]
  },
  {
   "cell_type": "code",
   "execution_count": 2,
   "metadata": {},
   "outputs": [
    {
     "name": "stdout",
     "output_type": "stream",
     "text": [
      "/Library/Java/JavaVirtualMachines/jdk1.8.0_192.jdk/Contents/Home\n",
      "/Users/Spark\n",
      "/Users/Spark/python:/Users/Spark/python/lib/py4j-0.10.7-src.zip\n"
     ]
    }
   ],
   "source": [
    "! echo $JAVA_HOME\n",
    "! echo $SPARK_HOME\n",
    "! echo $PYTHONPATH"
   ]
  },
  {
   "cell_type": "code",
   "execution_count": 3,
   "metadata": {},
   "outputs": [
    {
     "name": "stdout",
     "output_type": "stream",
     "text": [
      "/anaconda3/envs/ada/bin/python\n",
      "/Library/Java/JavaVirtualMachines/jdk1.8.0_192.jdk/Contents/Home\n",
      "/Users/Spark\n"
     ]
    }
   ],
   "source": [
    "import os\n",
    "import sys\n",
    "print(sys.executable)\n",
    "print(os.environ['JAVA_HOME'])\n",
    "print(os.environ['SPARK_HOME'])"
   ]
  },
  {
   "cell_type": "code",
   "execution_count": 4,
   "metadata": {},
   "outputs": [],
   "source": [
    "import pandas as pd\n",
    "import numpy as np\n",
    "\n",
    "from pyspark.sql import *\n",
    "#spark = SparkSession.builder.getOrCreate()\n",
    "from pyspark.sql.types import *\n",
    "#from pyspark.sql.types import IntegerType\n",
    "#from pyspark.sql.types import StringType\n",
    "#from pyspark.sql.types import BooleanType\n",
    "\n",
    "from pyspark.sql.functions import explode\n",
    "from pyspark.sql.functions import split\n",
    "\n",
    "from pyspark.sql.functions import udf\n",
    "#from pyspark.sql.functions import col\n",
    "\n",
    "import matplotlib.pyplot as plt\n",
    "\n",
    "#from itertools import cycle, islice"
   ]
  },
  {
   "cell_type": "code",
   "execution_count": 5,
   "metadata": {},
   "outputs": [],
   "source": [
    "spark = SparkSession.builder.getOrCreate()"
   ]
  },
  {
   "cell_type": "markdown",
   "metadata": {},
   "source": [
    "# Openfoodfact data "
   ]
  },
  {
   "cell_type": "code",
   "execution_count": 6,
   "metadata": {},
   "outputs": [],
   "source": [
    "df_data = spark.read.option(\"sep\", \"\\t\").option(\"header\", True).csv('./data.csv')"
   ]
  },
  {
   "cell_type": "code",
   "execution_count": 4,
   "metadata": {},
   "outputs": [
    {
     "data": {
      "text/plain": [
       "DataFrame[code: string, url: string, creator: string, created_t: string, created_datetime: string, last_modified_t: string, last_modified_datetime: string, product_name: string, generic_name: string, quantity: string, packaging: string, packaging_tags: string, brands: string, brands_tags: string, categories: string, categories_tags: string, categories_en: string, origins: string, origins_tags: string, manufacturing_places: string, manufacturing_places_tags: string, labels: string, labels_tags: string, labels_en: string, emb_codes: string, emb_codes_tags: string, first_packaging_code_geo: string, cities: string, cities_tags: string, purchase_places: string, stores: string, countries: string, countries_tags: string, countries_en: string, ingredients_text: string, allergens: string, allergens_en: string, traces: string, traces_tags: string, traces_en: string, serving_size: string, serving_quantity: string, no_nutriments: string, additives_n: string, additives: string, additives_tags: string, additives_en: string, ingredients_from_palm_oil_n: string, ingredients_from_palm_oil: string, ingredients_from_palm_oil_tags: string, ingredients_that_may_be_from_palm_oil_n: string, ingredients_that_may_be_from_palm_oil: string, ingredients_that_may_be_from_palm_oil_tags: string, nutrition_grade_uk: string, nutrition_grade_fr: string, pnns_groups_1: string, pnns_groups_2: string, states: string, states_tags: string, states_en: string, main_category: string, main_category_en: string, image_url: string, image_small_url: string, image_ingredients_url: string, image_ingredients_small_url: string, image_nutrition_url: string, image_nutrition_small_url: string, energy_100g: string, energy-from-fat_100g: string, fat_100g: string, saturated-fat_100g: string, -butyric-acid_100g: string, -caproic-acid_100g: string, -caprylic-acid_100g: string, -capric-acid_100g: string, -lauric-acid_100g: string, -myristic-acid_100g: string, -palmitic-acid_100g: string, -stearic-acid_100g: string, -arachidic-acid_100g: string, -behenic-acid_100g: string, -lignoceric-acid_100g: string, -cerotic-acid_100g: string, -montanic-acid_100g: string, -melissic-acid_100g: string, monounsaturated-fat_100g: string, polyunsaturated-fat_100g: string, omega-3-fat_100g: string, -alpha-linolenic-acid_100g: string, -eicosapentaenoic-acid_100g: string, -docosahexaenoic-acid_100g: string, omega-6-fat_100g: string, -linoleic-acid_100g: string, -arachidonic-acid_100g: string, -gamma-linolenic-acid_100g: string, -dihomo-gamma-linolenic-acid_100g: string, omega-9-fat_100g: string, -oleic-acid_100g: string, -elaidic-acid_100g: string, -gondoic-acid_100g: string, -mead-acid_100g: string, -erucic-acid_100g: string, -nervonic-acid_100g: string, trans-fat_100g: string, cholesterol_100g: string, carbohydrates_100g: string, sugars_100g: string, -sucrose_100g: string, -glucose_100g: string, -fructose_100g: string, -lactose_100g: string, -maltose_100g: string, -maltodextrins_100g: string, starch_100g: string, polyols_100g: string, fiber_100g: string, proteins_100g: string, casein_100g: string, serum-proteins_100g: string, nucleotides_100g: string, salt_100g: string, sodium_100g: string, alcohol_100g: string, vitamin-a_100g: string, beta-carotene_100g: string, vitamin-d_100g: string, vitamin-e_100g: string, vitamin-k_100g: string, vitamin-c_100g: string, vitamin-b1_100g: string, vitamin-b2_100g: string, vitamin-pp_100g: string, vitamin-b6_100g: string, vitamin-b9_100g: string, folates_100g: string, vitamin-b12_100g: string, biotin_100g: string, pantothenic-acid_100g: string, silica_100g: string, bicarbonate_100g: string, potassium_100g: string, chloride_100g: string, calcium_100g: string, phosphorus_100g: string, iron_100g: string, magnesium_100g: string, zinc_100g: string, copper_100g: string, manganese_100g: string, fluoride_100g: string, selenium_100g: string, chromium_100g: string, molybdenum_100g: string, iodine_100g: string, caffeine_100g: string, taurine_100g: string, ph_100g: string, fruits-vegetables-nuts_100g: string, fruits-vegetables-nuts-estimate_100g: string, collagen-meat-protein-ratio_100g: string, cocoa_100g: string, chlorophyl_100g: string, carbon-footprint_100g: string, nutrition-score-fr_100g: string, nutrition-score-uk_100g: string, glycemic-index_100g: string, water-hardness_100g: string, choline_100g: string, phylloquinone_100g: string, beta-glucan_100g: string, inositol_100g: string, carnitine_100g: string]"
      ]
     },
     "execution_count": 4,
     "metadata": {},
     "output_type": "execute_result"
    }
   ],
   "source": [
    "df_data"
   ]
  },
  {
   "cell_type": "code",
   "execution_count": 39,
   "metadata": {},
   "outputs": [
    {
     "name": "stdout",
     "output_type": "stream",
     "text": [
      "+-----------------+------+\n",
      "|   countries_tags| count|\n",
      "+-----------------+------+\n",
      "|        en:france|446394|\n",
      "| en:united-states|175478|\n",
      "|       en:germany| 19489|\n",
      "|   en:switzerland| 19365|\n",
      "|       en:belgium|  9735|\n",
      "|         en:spain|  8341|\n",
      "|en:united-kingdom|  8086|\n",
      "|        en:canada|  3805|\n",
      "|         en:italy|  3035|\n",
      "|     en:australia|  2694|\n",
      "|        en:mexico|  2360|\n",
      "|        en:russia|  2203|\n",
      "|   en:netherlands|  1548|\n",
      "|        en:sweden|  1526|\n",
      "|      en:portugal|  1441|\n",
      "|       en:denmark|   949|\n",
      "|       en:austria|   928|\n",
      "|       en:romania|   799|\n",
      "|en:czech-republic|   646|\n",
      "|       en:hungary|   643|\n",
      "+-----------------+------+\n",
      "only showing top 20 rows\n",
      "\n"
     ]
    }
   ],
   "source": [
    "countries = df_data.select(explode(split('countries_tags', ','))).withColumnRenamed(\"col\", \"countries_tags\")\n",
    "#countries.show(200)\n",
    "\n",
    "counted_countries = countries.groupBy('countries_tags').count().sort(\"count\", ascending = False)\n",
    "counted_countries.show()"
   ]
  },
  {
   "cell_type": "code",
   "execution_count": 36,
   "metadata": {},
   "outputs": [
    {
     "name": "stdout",
     "output_type": "stream",
     "text": [
      "+------------------------------------+-----+\n",
      "|categories_tags                     |count|\n",
      "+------------------------------------+-----+\n",
      "|en:plant-based-foods-and-beverages  |51261|\n",
      "|en:plant-based-foods                |43981|\n",
      "|en:beverages                        |29798|\n",
      "|en:sugary-snacks                    |26277|\n",
      "|en:dairies                          |18477|\n",
      "|en:non-alcoholic-beverages          |16523|\n",
      "|en:meals                            |15601|\n",
      "|en:fruits-and-vegetables-based-foods|15362|\n",
      "|en:cereals-and-potatoes             |15324|\n",
      "|en:fermented-foods                  |12164|\n",
      "|en:fermented-milk-products          |12127|\n",
      "|en:biscuits-and-cakes               |11895|\n",
      "|en:spreads                          |10928|\n",
      "|en:cereals-and-their-products       |9792 |\n",
      "|en:meats                            |9686 |\n",
      "|en:groceries                        |9583 |\n",
      "|en:breakfasts                       |9547 |\n",
      "|en:desserts                         |9091 |\n",
      "|en:plant-based-beverages            |8633 |\n",
      "|en:fruits-based-foods               |8049 |\n",
      "|en:frozen-foods                     |7874 |\n",
      "|en:cheeses                          |7328 |\n",
      "|en:canned-foods                     |7074 |\n",
      "|en:sugared-beverages                |6471 |\n",
      "|en:prepared-meats                   |6428 |\n",
      "|en:vegetables-based-foods           |6413 |\n",
      "|en:biscuits                         |6350 |\n",
      "|en:sweet-spreads                    |6339 |\n",
      "|en:chocolates                       |6224 |\n",
      "|en:sauces                           |6082 |\n",
      "|en:confectioneries                  |5932 |\n",
      "|en:alcoholic-beverages              |5875 |\n",
      "|en:fresh-foods                      |5559 |\n",
      "|en:salty-snacks                     |5266 |\n",
      "|en:plant-based-spreads              |5163 |\n",
      "|en:fruit-based-beverages            |5109 |\n",
      "|en:seafood                          |4909 |\n",
      "|en:fats                             |4767 |\n",
      "|en:appetizers                       |4592 |\n",
      "|en:yogurts                          |4213 |\n",
      "|en:juices-and-nectars               |4005 |\n",
      "|en:cakes                            |3920 |\n",
      "|en:fruit-preserves                  |3785 |\n",
      "|en:fruit-juices-and-nectars         |3779 |\n",
      "|en:condiments                       |3765 |\n",
      "|en:fishes                           |3670 |\n",
      "|en:canned-plant-based-foods         |3636 |\n",
      "|en:breads                           |3617 |\n",
      "|en:non-sugared-beverages            |3558 |\n",
      "|en:meat-based-products              |3378 |\n",
      "|en:jams                             |3378 |\n",
      "|en:hot-beverages                    |3189 |\n",
      "|en:meals-with-meat                  |3142 |\n",
      "|en:fruit-juices                     |3086 |\n",
      "|en:dried-products                   |3027 |\n",
      "|en:fruit-jams                       |3022 |\n",
      "|en:seeds                            |2858 |\n",
      "|en:milks                            |2723 |\n",
      "|en:pastas                           |2700 |\n",
      "|en:salted-spreads                   |2655 |\n",
      "|en:carbonated-drinks                |2630 |\n",
      "|en:dark-chocolates                  |2567 |\n",
      "|en:breakfast-cereals                |2548 |\n",
      "|en:legumes-and-their-products       |2547 |\n",
      "|en:sweeteners                       |2518 |\n",
      "|en:chips-and-fries                  |2514 |\n",
      "|en:cow-cheeses                      |2469 |\n",
      "|en:nuts-and-their-products          |2426 |\n",
      "|en:microwave-meals                  |2396 |\n",
      "|en:beers                            |2392 |\n",
      "|en:wines                            |2363 |\n",
      "|en:farming-products                 |2256 |\n",
      "|en:crisps                           |2242 |\n",
      "|en:frozen-desserts                  |2234 |\n",
      "|en:canned-vegetables                |2224 |\n",
      "|en:candies                          |2175 |\n",
      "|en:dairy-desserts                   |2065 |\n",
      "|en:french-cheeses                   |2035 |\n",
      "|en:chocolate-candies                |1945 |\n",
      "|en:ice-creams-and-sorbets           |1944 |\n",
      "|en:frozen-ready-made-meals          |1932 |\n",
      "|en:chocolate-biscuits               |1898 |\n",
      "|en:sodas                            |1889 |\n",
      "|en:soups                            |1823 |\n",
      "|en:pastries                         |1817 |\n",
      "|en:vegetable-fats                   |1817 |\n",
      "|en:herbal-teas                      |1805 |\n",
      "|en:hams                             |1783 |\n",
      "|en:pasteurized-cheeses              |1770 |\n",
      "|en:refrigerated-foods               |1749 |\n",
      "|en:artificially-sweetened-beverages |1733 |\n",
      "|en:milk-chocolates                  |1718 |\n",
      "|en:cereal-grains                    |1707 |\n",
      "|en:dried-plant-based-foods          |1574 |\n",
      "|en:meals-with-fish                  |1563 |\n",
      "|en:bee-products                     |1544 |\n",
      "|en:compotes                         |1517 |\n",
      "|en:fresh-plant-based-foods          |1516 |\n",
      "|en:crackers                         |1492 |\n",
      "|en:poultries                        |1490 |\n",
      "|en:fruits                           |1490 |\n",
      "|en:canned-fishes                    |1471 |\n",
      "|en:dry-pasta                        |1465 |\n",
      "|en:fruit-yogurts                    |1463 |\n",
      "|en:dried-products-to-be-rehydrated  |1459 |\n",
      "|en:tomato-sauces                    |1455 |\n",
      "|en:baby-foods                       |1447 |\n",
      "|en:vegetable-oils                   |1446 |\n",
      "|en:viennoiseries                    |1446 |\n",
      "|en:bars                             |1440 |\n",
      "|en:pizzas-pies-and-quiches          |1430 |\n",
      "|en:honeys                           |1420 |\n",
      "|en:ice-creams                       |1419 |\n",
      "|en:wines-from-france                |1411 |\n",
      "|en:potato-crisps                    |1406 |\n",
      "|en:flakes                           |1403 |\n",
      "|en:cereal-flakes                    |1394 |\n",
      "|en:olive-tree-products              |1370 |\n",
      "|en:fresh-meals                      |1357 |\n",
      "|en:waters                           |1356 |\n",
      "|en:spreadable-fats                  |1342 |\n",
      "|en:pasta-dishes                     |1323 |\n",
      "|en:squeezed-juices                  |1316 |\n",
      "|en:coffees                          |1308 |\n",
      "|en:berry-jams                       |1303 |\n",
      "|en:canned-meals                     |1264 |\n",
      "|en:nuts                             |1239 |\n",
      "|en:spices                           |1238 |\n",
      "|en:refrigerated-meals               |1220 |\n",
      "|en:canned-legumes                   |1210 |\n",
      "|en:poultry-meals                    |1166 |\n",
      "|en:dried-fruits                     |1158 |\n",
      "|en:legumes                          |1156 |\n",
      "|en:syrups                           |1140 |\n",
      "|en:pickles                          |1122 |\n",
      "|en:fresh-vegetables                 |1116 |\n",
      "|en:sausages                         |1108 |\n",
      "|en:bonbons                          |1104 |\n",
      "|en:plant-based-pickles              |1101 |\n",
      "|en:sandwiches                       |1087 |\n",
      "|en:white-hams                       |1079 |\n",
      "|en:frozen-plant-based-foods         |1066 |\n",
      "|fr:saucissons                       |1065 |\n",
      "|en:chickens                         |1052 |\n",
      "|en:chocolate-cakes                  |1042 |\n",
      "|en:milk-substitute                  |1036 |\n",
      "|en:apple-compotes                   |1034 |\n",
      "|en:teas                             |1031 |\n",
      "|en:animal-fats                      |1028 |\n",
      "|en:tomatoes-and-tomato-products     |1026 |\n",
      "|en:plant-milks                      |1021 |\n",
      "|en:plant-based-pates                |1020 |\n",
      "|en:mixed-cereal-flakes              |1016 |\n",
      "|en:mueslis                          |999  |\n",
      "|en:milkfat                          |981  |\n",
      "|en:butters                          |973  |\n",
      "|en:rices                            |950  |\n",
      "|en:pork                             |936  |\n",
      "|en:fish-and-meat-and-eggs           |932  |\n",
      "|en:preparations-made-from-fish-meat |928  |\n",
      "|en:spring-waters                    |907  |\n",
      "|en:vegetable-soups                  |904  |\n",
      "|en:prepared-vegetables              |896  |\n",
      "|fr:pates-a-tartiner                 |883  |\n",
      "|en:pizzas                           |880  |\n",
      "|en:plant-based-meals                |869  |\n",
      "|en:shortbread-cookies               |864  |\n",
      "|en:culinary-plants                  |848  |\n",
      "|en:stuffed-pastas                   |842  |\n",
      "|en:brioches                         |834  |\n",
      "|en:rillettes                        |825  |\n",
      "|en:soft-cheeses-with-bloomy-rind    |818  |\n",
      "|en:salmons                          |811  |\n",
      "|en:dietary-supplements              |808  |\n",
      "|en:legume-seeds                     |804  |\n",
      "|en:cream-cheeses                    |799  |\n",
      "|en:potato-crisps-in-sunflower-oil   |799  |\n",
      "|en:beef-dishes                      |798  |\n",
      "|en:prepared-salads                  |794  |\n",
      "|en:bird-eggs                        |792  |\n",
      "|en:tunas                            |791  |\n",
      "|en:dairy-drinks                     |784  |\n",
      "|en:smoked-fishes                    |783  |\n",
      "|en:christmas-foods-and-drinks       |783  |\n",
      "|en:italian-cheeses                  |781  |\n",
      "|en:beef                             |773  |\n",
      "|en:breaded-products                 |763  |\n",
      "|en:pulses                           |762  |\n",
      "|en:foies-gras                       |760  |\n",
      "|en:frozen-vegetables                |754  |\n",
      "|en:mineral-waters                   |753  |\n",
      "|en:apple-juices                     |751  |\n",
      "|en:red-wines                        |751  |\n",
      "|en:eggs                             |748  |\n",
      "|                                    |740  |\n",
      "|en:olive-oils                       |736  |\n",
      "|en:flavoured-syrups                 |725  |\n",
      "|en:creams                           |721  |\n",
      "|en:ketchup                          |716  |\n",
      "|en:instant-hot-beverages            |716  |\n",
      "+------------------------------------+-----+\n",
      "only showing top 200 rows\n",
      "\n"
     ]
    }
   ],
   "source": [
    "categories = df_data.select(explode(split('categories_tags', ','))).withColumnRenamed(\"col\", \"categories_tags\")\n",
    "#categories.show(200, False)\n",
    "\n",
    "counted_categories = categories.groupBy('categories_tags').count().sort(\"count\", ascending = False)\n",
    "counted_categories.show(200, False)"
   ]
  },
  {
   "cell_type": "code",
   "execution_count": 47,
   "metadata": {},
   "outputs": [],
   "source": [
    "#We define the colors corresponding to the Nutri-score for our following plots\n",
    "\n",
    "score_colors =['green', 'lightgreen', 'yellow', 'orange','red']"
   ]
  },
  {
   "cell_type": "markdown",
   "metadata": {},
   "source": [
    "# France data"
   ]
  },
  {
   "cell_type": "markdown",
   "metadata": {},
   "source": [
    "### Overall"
   ]
  },
  {
   "cell_type": "code",
   "execution_count": 4,
   "metadata": {},
   "outputs": [],
   "source": [
    "df_france = df_data.where(df_data.countries_tags.contains('en:france')).select('product_name','categories_tags','nutrition_grade_fr', 'nutrition-score-fr_100g')\n",
    "#df_france.show(200)"
   ]
  },
  {
   "cell_type": "code",
   "execution_count": 26,
   "metadata": {},
   "outputs": [
    {
     "data": {
      "text/plain": [
       "446394"
      ]
     },
     "execution_count": 26,
     "metadata": {},
     "output_type": "execute_result"
    }
   ],
   "source": [
    "df_france.count()"
   ]
  },
  {
   "cell_type": "code",
   "execution_count": 41,
   "metadata": {
    "scrolled": false
   },
   "outputs": [
    {
     "name": "stdout",
     "output_type": "stream",
     "text": [
      "+--------------------+--------------------+------------------+-----------------------+\n",
      "|        product_name|     categories_tags|nutrition_grade_fr|nutrition-score-fr_100g|\n",
      "+--------------------+--------------------+------------------+-----------------------+\n",
      "|  Tarte noix de coco|en:pies,en:sweet-...|                 d|                     14|\n",
      "|    Compote de poire|en:plant-based-fo...|                 a|                     -4|\n",
      "|    BAguette bressan|en:plant-based-fo...|                 a|                     -4|\n",
      "|Pavé de saumon fu...|en:seafood,en:fis...|                 d|                     15|\n",
      "|  Stylo glaçage gris| en:food-decorations|                 e|                     29|\n",
      "|Blanquette de Vol...|en:meals,en:meat-...|                 b|                      0|\n",
      "|Raviolini au From...|en:meals,en:micro...|                 b|                      1|\n",
      "|           Root Beer|en:beverages,en:c...|                 e|                     12|\n",
      "|A&w - Root Beer -...|en:beverages,en:n...|                 e|                     16|\n",
      "|    Compote de Pomme|en:plant-based-fo...|                 b|                      1|\n",
      "|Bonbons acidulés ...|en:sugary-snacks,...|                 d|                     14|\n",
      "|Thé noir aromatis...|en:beverages,en:n...|                 c|                      2|\n",
      "|      Pâte d'Amandes|en:marzipan,en:al...|                 d|                     15|\n",
      "|        Pâte à Sucre|en:sugary-snacks,...|                 d|                     18|\n",
      "|             Tripoux|en:meals,en:meat-...|                 d|                     15|\n",
      "|        Plain bagels|en:plant-based-fo...|                 b|                      1|\n",
      "|      Pastille Vichy|en:sugary-snacks,...|                 c|                      3|\n",
      "| Kitkat White Wafers|en:sugary-snacks,...|                 d|                     13|\n",
      "| M&M's Peanut Butter|en:sugary-snacks,...|                 e|                     36|\n",
      "|Pepsi, Nouveau go...|en:beverages,en:c...|                 e|                     13|\n",
      "|Heinz Squeeze Sau...|en:groceries,en:s...|                 d|                     14|\n",
      "|Blle Pet 50CL Coc...|en:beverages,en:s...|                 e|                     14|\n",
      "|Galette de Pommes...|en:frozen-foods,e...|                 b|                      2|\n",
      "|       Chicken Chips|en:meats,en:froze...|                 c|                      4|\n",
      "|Crêpes jambon fro...|fr:crepes-au-jamb...|                 b|                      1|\n",
      "|       Babas au rhum|en:sugary-snacks,...|                 d|                     13|\n",
      "| Big Choco Framboise|en:desserts,en:fr...|                 e|                     20|\n",
      "|Marmite Original ...|en:plant-based-fo...|                 c|                     10|\n",
      "|      Tomato Ketchup|en:groceries,en:s...|                 d|                     13|\n",
      "|                 7Up|en:plant-based-fo...|                 e|                     13|\n",
      "|   Madeleines nature|en:sugary-snacks,...|                 d|                     13|\n",
      "|Véritable pâte à ...|en:spreads,en:bre...|                 e|                     23|\n",
      "|       Cakes Raisins|en:sugary-snacks,...|                 d|                     13|\n",
      "|    Cakes aux Fruits|en:sugary-snacks,...|                 d|                     12|\n",
      "|Pure Whey Protein...|en:dietary-supple...|                 d|                     11|\n",
      "|Pure Whey Protein...|en:dietary-supple...|                 d|                     12|\n",
      "|Financiers aux Am...|en:sugary-snacks,...|                 e|                     22|\n",
      "|     Fondants Citron|en:sugary-snacks,...|                 e|                     22|\n",
      "| L'Envoûtante (Pain)|en:plant-based-fo...|                 c|                      3|\n",
      "|   30 Panach' Fruits|en:sugary-snacks,...|                 d|                     13|\n",
      "|Curiously Strong ...|en:sugary-snacks,...|                 d|                     14|\n",
      "|All Butter Cookie...|en:sugary-snacks,...|                 e|                     24|\n",
      "|All Butter Sultan...|en:sugary-snacks,...|                 e|                     21|\n",
      "|All Butter Belgia...|en:sugary-snacks,...|                 e|                     26|\n",
      "|All Butter Fruity...|en:sugary-snacks,...|                 e|                     21|\n",
      "|Cookies aux pista...|en:sugary-snacks,...|                 e|                     19|\n",
      "|All butter Cranbe...|en:sugary-snacks,...|                 e|                     22|\n",
      "|Triple Belgian Ch...|en:sugary-snacks,...|                 e|                     23|\n",
      "| Cookies Stem Ginger|en:sugary-snacks,...|                 e|                     20|\n",
      "| Stem Ginger Cookies|en:sugary-snacks,...|                 d|                     18|\n",
      "| Stem Ginger Dunkers|en:sugary-snacks,...|                 e|                     20|\n",
      "|Smoothie Strawber...|en:plant-based-fo...|                 e|                     12|\n",
      "|    Chicken pad thaï|en:meals,en:meat-...|                 a|                     -2|\n",
      "|Strawberries, ras...|en:plant-based-fo...|                 a|                     -4|\n",
      "|             Popcorn|en:sugary-snacks,...|                 c|                      7|\n",
      "| 6 Ultimate Crumpets|en:breakfasts,fr:...|                 b|                      1|\n",
      "|Carrot & coriandr...|en:carrot-coriand...|                 b|                      1|\n",
      "|     Porridge de Riz|en:plant-based-fo...|                 a|                     -5|\n",
      "|Highland Shortbre...|en:sugary-snacks,...|                 e|                     22|\n",
      "|         Salade roma|en:meals,en:prepa...|                 b|                      2|\n",
      "|      Ruby breakfast|en:beverages,en:n...|                 e|                     14|\n",
      "|      Acras de morue|en:meals,en:salty...|                 d|                     11|\n",
      "|           Panettone|en:sugary-snacks,...|                 d|                     15|\n",
      "|Bijou Caramel Cho...|en:sugary-snacks,...|                 e|                     19|\n",
      "|4 Indulgent & Che...|en:sugary-snacks,...|                 d|                     18|\n",
      "|  All Butter Cookies|en:sugary-snacks,...|                 e|                     20|\n",
      "|     Honey roast ham|en:charcuteries,e...|                 c|                      4|\n",
      "|Scottish Shortbreads|en:sugary-snacks,...|                 e|                     21|\n",
      "|Made Without Whea...|en:sugary-snacks,...|                 d|                     12|\n",
      "|Chocolate Fudge Cake|en:sugary-snacks,...|                 e|                     24|\n",
      "|All Butter Vienne...|en:sugary-snacks,...|                 e|                     24|\n",
      "|Cornish Cruncher ...|en:plant-based-fo...|                 c|                      9|\n",
      "|Gluten Free Melba...|en:plant-based-fo...|                 c|                     10|\n",
      "|Scottish All Butt...|en:sugary-snacks,...|                 d|                     18|\n",
      "|Liquorice Catheri...|en:sugary-snacks,...|                 d|                     12|\n",
      "|Chinois Nature Dé...|en:sugary-snacks,...|                 e|                     27|\n",
      "|Iced Tea Spanish ...|en:beverages,en:r...|                 e|                     11|\n",
      "|Pressed Pineapple...|en:plant-based-fo...|                 c|                      3|\n",
      "|Sweet chilli hand...|en:confitures-de-...|                 c|                      9|\n",
      "|All Butter Summer...|en:sugary-snacks,...|                 e|                     21|\n",
      "|Ultimate English ...|en:plant-based-fo...|                 c|                      7|\n",
      "|Gâteau à la Carot...|en:sugary-snacks,...|                 d|                     15|\n",
      "|Pur Soup' Velouté...|en:plant-based-fo...|                 b|                      2|\n",
      "|6 Breaded Jumbo T...|en:meals,en:refri...|                 c|                      3|\n",
      "|Salade à la Mexic...|en:plant-based-fo...|                 b|                      0|\n",
      "|Lattice Topped Mi...|en:christmas-food...|                 e|                     21|\n",
      "|Jambon fumé et co...|en:sandwiches,en:...|                 b|                      2|\n",
      "|All Butter Scotti...|en:sugary-snacks,...|                 e|                     20|\n",
      "|Diet Sparkling Fi...|en:beverages,en:a...|                 b|                      1|\n",
      "|Winter Berries & ...|en:plant-based-fo...|                 d|                     11|\n",
      "|Bramley Apple Cru...|en:sugary-snacks,...|                 d|                     11|\n",
      "|4 Ultimate Butter...|         en:pancakes|                 b|                      1|\n",
      "|Pancakes au Choco...|en:crepes-and-gal...|                 c|                      4|\n",
      "|    Rollmop Herrings|en:harengs,en:poi...|                 d|                     15|\n",
      "|  Creamy Chicken Pie|en:meals,en:meat-...|                 d|                     11|\n",
      "|Hollow Milk Choco...|en:sugary-snacks,...|                 e|                     25|\n",
      "|Spiketail the din...|en:sugary-snacks,...|                 e|                     26|\n",
      "|Smoothie super Berry|en:beverages,en:n...|                 e|                     17|\n",
      "|Aloe Vera Grape &...|en:plant-based-fo...|                 e|                     12|\n",
      "|Smoothie Orange, ...|en:plant-based-fo...|                 c|                      2|\n",
      "|CRANBERRY & RASPE...|en:beverages,en:a...|                 c|                      2|\n",
      "|Sandwich Poulet R...|en:sandwiches,en:...|                 b|                      0|\n",
      "|grilled Cajun chi...|en:meals,en:meat-...|                 a|                     -4|\n",
      "|Cornish Cove Cheddar|en:dairies,en:fer...|                 d|                     15|\n",
      "|Mango & Passion F...|en:dairies,en:fer...|                 c|                      4|\n",
      "|assortiment de tu...|en:sugary-snacks,...|                 e|                     26|\n",
      "|    Banana & Berries|en:plant-based-fo...|                 a|                     -4|\n",
      "|Mild Cheddar with...|en:dairies,en:fer...|                 d|                     14|\n",
      "|        Berry Medley|en:plant-based-fo...|                 a|                     -4|\n",
      "|Poulet Korma & Ri...|en:meals,en:meat-...|                 a|                     -1|\n",
      "|Poulet Tikka Masa...|en:meals,en:meat-...|                 a|                     -4|\n",
      "|         Ginger Beer|en:plant-based-fo...|                 e|                     14|\n",
      "|Malt Beverage Plu...|en:beverages,en:n...|                 e|                     20|\n",
      "|  Vitamalt Plus Plus|en:beverages,en:n...|                 e|                     20|\n",
      "|  Brioche Pur Beurre|en:sugary-snacks,...|                 e|                     20|\n",
      "|Poulet Kip Piri-Piri|en:meals,en:pasta...|                 a|                     -3|\n",
      "|   Macarons Pistache|en:sugary-snacks,...|                 d|                     16|\n",
      "|            Macarons|en:sugary-snacks,...|                 d|                     17|\n",
      "| Macarons de Pauline|en:sugary-snacks,...|                 d|                     14|\n",
      "|Traditional Coleslaw|en:meals,en:coles...|                 c|                      6|\n",
      "|      Dolly Mixtures|en:sugary-snacks,...|                 d|                     14|\n",
      "|        Milk Bottles|en:sugary-snacks,...|                 d|                     14|\n",
      "|British Self Rais...|en:farines,en:far...|                 d|                     14|\n",
      "|Pressed carrot juice|en:beverages,en:n...|                 d|                      6|\n",
      "|Organic raw cacao...|en:sugary-snacks,...|                 b|                      0|\n",
      "|Tomato & Sausage ...|en:groceries,en:m...|                 b|                      2|\n",
      "|         Beurre doux|             en:fats|                 e|                     19|\n",
      "|        goji berries|en:plant-based-fo...|                 a|                     -1|\n",
      "|Pulled Pork & Cho...|en:meals,en:meat-...|                 a|                     -4|\n",
      "|Roasted Vegetable...|en:meals,en:pasta...|                 b|                      1|\n",
      "|Wrap poulet piri-...|en:sandwiches,fr:...|                 a|                     -2|\n",
      "|   Moutarde Posh Dog|en:groceries,en:c...|                 c|                      6|\n",
      "|        Beef Lasagne|en:meals,en:pasta...|                 b|                      1|\n",
      "|       Chocolat sale|en:sugary-snacks,...|                 e|                     26|\n",
      "|Made Without Whea...|en:sugary-snacks,...|                 e|                     19|\n",
      "|Ferrero Rocher Fi...|en:sugary-snacks,...|                 d|                     15|\n",
      "|Cracked Black Pep...|en:salty-snacks,e...|                 c|                      8|\n",
      "|       Cheese Twists|en:sugary-snacks,...|                 e|                     20|\n",
      "|Wrap Poulet à la ...|en:meals,en:fresh...|                 a|                     -3|\n",
      "|      Haricots noirs|en:plant-based-fo...|                 b|                      1|\n",
      "|       Chocolat noir|en:sugary-snacks,...|                 e|                     22|\n",
      "|Dark Chocolate Si...|en:sugary-snacks,...|                 e|                     19|\n",
      "|3 Apple, Ginger &...|en:sugary-snacks,...|                 d|                     16|\n",
      "|   Blueberry Muffins|en:sugary-snacks,...|                 c|                      6|\n",
      "|              Haggis|en:fish-and-meat-...|                 d|                     17|\n",
      "|Reduced fat Tzatziki|en:groceries,en:s...|                 a|                     -1|\n",
      "|         Chick-a-Boo|en:sugary-snacks,...|                 e|                     26|\n",
      "|Crispy Crunchy Oa...|en:sugary-snacks,...|                 e|                     23|\n",
      "|Natural Crunchy P...|en:aliments-d-ori...|                 c|                      6|\n",
      "|Private Selection...|en:sugary-snacks,...|                 b|                      2|\n",
      "|Kimura Ramune Sof...|en:beverages,en:n...|                 e|                     13|\n",
      "|Jfc Nori Fumi Fur...|en:plant-based-fo...|                 b|                      0|\n",
      "|              Ramune|en:beverages,en:n...|                 d|                      6|\n",
      "|Ramune carbonated...|en:beverages,en:n...|                 e|                     12|\n",
      "|       Wrapper Gyoza|en:bouchees-vapeu...|                 b|                      0|\n",
      "|Tabasco Pepper Sauce|en:groceries,en:s...|                 c|                      7|\n",
      "|Salsa de chiles p...|en:groceries,en:s...|                 c|                      7|\n",
      "|  Green Pepper Sauce|en:groceries,en:s...|                 c|                      9|\n",
      "|    Tabasco Chipotle|en:groceries,en:s...|                 d|                     11|\n",
      "|Canadian Dressed ...|en:seafood,en:mea...|                 c|                      3|\n",
      "|Mini Crêpes Choco...|en:sugary-snacks,...|                 e|                     24|\n",
      "|        Jus d'Orange|en:plant-based-fo...|                 c|                      3|\n",
      "|        Ginger candy|en:sugary-snacks,...|                 d|                     14|\n",
      "|            新亞姜糖 薄荷味|en:sugary-snacks,...|                 d|                     14|\n",
      "|Reduced Fat Belgi...|en:sugary-snacks,...|                 e|                     24|\n",
      "|All Butter Reduce...|en:sugary-snacks,...|                 d|                     18|\n",
      "|               X hot|en:groceries,en:s...|                 c|                     10|\n",
      "|            Pancakes|en:beverages,en:s...|                 e|                     21|\n",
      "|Diet Green Tea Ci...|en:boissons-edulc...|                 c|                      2|\n",
      "|Soda Mountain Dew...|en:beverages,en:n...|                 e|                     15|\n",
      "|             Mtn Dew|en:beverages,en:c...|                 e|                     15|\n",
      "|Refreshers Black ...|en:plant-based-fo...|                 d|                      8|\n",
      "|Mountain Dew Pitc...|en:beverages,en:n...|                 e|                     16|\n",
      "|Ting grapefruit soda|en:beverages,en:s...|                 e|                     16|\n",
      "|Sweet Potato, Par...|en:salty-snacks,e...|                 d|                     13|\n",
      "|Microwave Mexican...|en:plant-based-fo...|                 c|                      7|\n",
      "|Extremely Chocola...|en:sugary-snacks,...|                 e|                     29|\n",
      "|Jamaican Jerk Spi...|en:meals,en:refri...|                 a|                     -4|\n",
      "|      Dark chocolate|en:sugary-snacks,...|                 e|                     22|\n",
      "|   Bouchée Apéritive|en:salty-snacks,e...|                 a|                     -1|\n",
      "|        Dentyne fire|en:sugary-snacks,...|                 b|                      0|\n",
      "|     Pure Sesame Oil| en:huiles-de-sesame|                 d|                     11|\n",
      "|Kadoya Sesame Oil...|             en:fats|                 d|                     11|\n",
      "|Crispy Cheese Cra...|en:salty-snacks,e...|                 e|                     22|\n",
      "|           Red Pesto|en:groceries,en:s...|                 c|                      9|\n",
      "|          Framboises|en:plant-based-fo...|                 a|                     -6|\n",
      "|Honey Barbecue Sauce|en:groceries,en:s...|                 d|                     12|\n",
      "|Sweet 'n Spicy Ba...|en:squuezer,en:pl...|                 d|                     13|\n",
      "|       organic Bread|en:plant-based-fo...|                 a|                     -2|\n",
      "|Parmesan & Spring...|en:salty-snacks,e...|                 e|                     21|\n",
      "|Sundried Tomato &...|en:salty-snacks,e...|                 e|                     19|\n",
      "|Rye & Wheat Crackers|en:salty-snacks,e...|                 c|                      7|\n",
      "|  Noix de coco rapee|en:plant-based-fo...|                 c|                      5|\n",
      "|Pure Flow Beurre ...|             en:fats|                 e|                     19|\n",
      "|COOKIES AU CHOCOL...|en:sugary-snacks,...|                 b|                      0|\n",
      "|Cinnamon raisin b...|      en:pains-bagel|                 b|                      2|\n",
      "|Chesapeake Dark C...|en:sugary-snacks,...|                 e|                     24|\n",
      "|   Bagels Everything|en:plant-based-fo...|                 b|                      0|\n",
      "|Goldfish Baked Sn...|en:snacks,en:snac...|                 e|                     21|\n",
      "|Goldfish Flavor B...|en:salty-snacks,e...|                 c|                      3|\n",
      "+--------------------+--------------------+------------------+-----------------------+\n",
      "only showing top 200 rows\n",
      "\n"
     ]
    }
   ],
   "source": [
    "df_france = df_france.na.drop()\n",
    "df_france.show(200)"
   ]
  },
  {
   "cell_type": "code",
   "execution_count": 24,
   "metadata": {},
   "outputs": [
    {
     "data": {
      "text/plain": [
       "116780"
      ]
     },
     "execution_count": 24,
     "metadata": {},
     "output_type": "execute_result"
    }
   ],
   "source": [
    "total_france = df_france.count()\n",
    "total_france"
   ]
  },
  {
   "cell_type": "code",
   "execution_count": 9,
   "metadata": {},
   "outputs": [
    {
     "name": "stdout",
     "output_type": "stream",
     "text": [
      "+------------------+-----+\n",
      "|nutrition_grade_fr|count|\n",
      "+------------------+-----+\n",
      "|                 a|15270|\n",
      "|                 b|16192|\n",
      "|                 c|24137|\n",
      "|                 d|34280|\n",
      "|                 e|26901|\n",
      "+------------------+-----+\n",
      "\n"
     ]
    }
   ],
   "source": [
    "counted_nutriscore = df_france.groupBy('nutrition_grade_fr').count().sort(\"nutrition_grade_fr\")\n",
    "counted_nutriscore.show()"
   ]
  },
  {
   "cell_type": "code",
   "execution_count": 10,
   "metadata": {
    "scrolled": true
   },
   "outputs": [
    {
     "data": {
      "text/plain": [
       "Text(0.5, 0, 'Nutri-Score')"
      ]
     },
     "execution_count": 10,
     "metadata": {},
     "output_type": "execute_result"
    },
    {
     "data": {
      "image/png": "[encoded data removed]",
      "text/plain": [
       "<Figure size 792x432 with 1 Axes>"
      ]
     },
     "metadata": {
      "needs_background": "light"
     },
     "output_type": "display_data"
    }
   ],
   "source": [
    "pd_nutriscore_france = counted_nutriscore.toPandas()\n",
    "\n",
    "pd_nutriscore_france.plot.bar(x= 'nutrition_grade_fr', y = 'count', rot=0, figsize=(11,6), color=score_colors)\n",
    "plt.title(\"Number of products available in France depending on the Nutri-Score\")\n",
    "plt.xlabel(\"Nutri-Score\")"
   ]
  },
  {
   "cell_type": "markdown",
   "metadata": {},
   "source": [
    "### Beverages"
   ]
  },
  {
   "cell_type": "code",
   "execution_count": 43,
   "metadata": {},
   "outputs": [],
   "source": [
    "france_beverages = df_france.filter(df_france.categories_tags.contains(\"en:beverages\"))\n",
    "#france_beverages.show(200)"
   ]
  },
  {
   "cell_type": "code",
   "execution_count": 44,
   "metadata": {},
   "outputs": [
    {
     "data": {
      "text/plain": [
       "15419"
      ]
     },
     "execution_count": 44,
     "metadata": {},
     "output_type": "execute_result"
    }
   ],
   "source": [
    "france_beverages.count()"
   ]
  },
  {
   "cell_type": "code",
   "execution_count": 49,
   "metadata": {},
   "outputs": [
    {
     "name": "stdout",
     "output_type": "stream",
     "text": [
      "+------------------+-----+\n",
      "|nutrition_grade_fr|count|\n",
      "+------------------+-----+\n",
      "|                 a|  238|\n",
      "|                 b| 2632|\n",
      "|                 c| 2826|\n",
      "|                 d| 2495|\n",
      "|                 e| 7228|\n",
      "+------------------+-----+\n",
      "\n"
     ]
    }
   ],
   "source": [
    "beverage_nutriscore = france_beverages.groupBy('nutrition_grade_fr').count().sort(\"nutrition_grade_fr\")\n",
    "beverage_nutriscore.show()"
   ]
  },
  {
   "cell_type": "code",
   "execution_count": 50,
   "metadata": {},
   "outputs": [
    {
     "data": {
      "text/plain": [
       "Text(0.5, 0, 'Nutri-Score')"
      ]
     },
     "execution_count": 50,
     "metadata": {},
     "output_type": "execute_result"
    },
    {
     "data": {
      "image/png": "[encoded data removed]",
      "text/plain": [
       "<Figure size 792x432 with 1 Axes>"
      ]
     },
     "metadata": {
      "needs_background": "light"
     },
     "output_type": "display_data"
    }
   ],
   "source": [
    "pd_beverages_france = beverage_nutriscore.toPandas()\n",
    "\n",
    "pd_beverages_france.plot.bar(x= 'nutrition_grade_fr', y = 'count', rot=0, figsize=(11,6), color=score_colors)\n",
    "plt.title(\"Number of beverages available in France depending on the Nutri-Score\")\n",
    "plt.xlabel(\"Nutri-Score\")"
   ]
  },
  {
   "cell_type": "markdown",
   "metadata": {},
   "source": [
    "# Switzerland data"
   ]
  },
  {
   "cell_type": "code",
   "execution_count": 11,
   "metadata": {},
   "outputs": [],
   "source": [
    "df_switzerland = df_data.where(df_data.countries_tags.contains('en:switzerland')).select('product_name','categories_tags','nutrition_grade_fr', 'nutrition-score-fr_100g')\n",
    "#df_switzerland.show(200)"
   ]
  },
  {
   "cell_type": "code",
   "execution_count": 44,
   "metadata": {},
   "outputs": [
    {
     "data": {
      "text/plain": [
       "19365"
      ]
     },
     "execution_count": 44,
     "metadata": {},
     "output_type": "execute_result"
    }
   ],
   "source": [
    "df_switzerland.count()"
   ]
  },
  {
   "cell_type": "code",
   "execution_count": 12,
   "metadata": {},
   "outputs": [
    {
     "name": "stdout",
     "output_type": "stream",
     "text": [
      "+--------------------+--------------------+------------------+-----------------------+\n",
      "|        product_name|     categories_tags|nutrition_grade_fr|nutrition-score-fr_100g|\n",
      "+--------------------+--------------------+------------------+-----------------------+\n",
      "|             Nutella|en:petit-dejeuner...|                 e|                     24|\n",
      "|                skyr|en:dairies,en:fer...|                 a|                     -5|\n",
      "|Chocolate Chunk D...|en:sugary-snacks,...|                 e|                     21|\n",
      "|Chocolate Chunk M...|en:sugary-snacks,...|                 e|                     22|\n",
      "|Poires demi-fruit...|en:plant-based-fo...|                 a|                     -3|\n",
      "|  Pêches Demi-Fruits|en:plant-based-fo...|                 a|                     -3|\n",
      "|Cocktail de fruit...|en:plant-based-fo...|                 a|                     -3|\n",
      "|Mandarines au sir...|en:plant-based-fo...|                 a|                     -3|\n",
      "|  Cocktail de fruits|en:plant-based-fo...|                 a|                     -3|\n",
      "|Microwave Popcorn...|en:sugary-snacks,...|                 d|                     15|\n",
      "| Dark chocolate 85 %|en:sugary-snacks,...|                 e|                     19|\n",
      "|         Corn Flakes|en:plant-based-fo...|                 c|                      9|\n",
      "|Pure Butter Short...|en:sugary-snacks,...|                 e|                     20|\n",
      "|Pure Butter Short...|en:sugary-snacks,...|                 e|                     21|\n",
      "|Chocolate Chip Sh...|en:sugary-snacks,...|                 e|                     22|\n",
      "|Gluten Free Choco...|en:sugary-snacks,...|                 e|                     23|\n",
      "|Shortbread Festiv...|en:sugary-snacks,...|                 e|                     19|\n",
      "|    Chunky Salsa Dip|        fr:salsa-dip|                 c|                      4|\n",
      "|Mélange d'épices ...|en:plant-based-fo...|                 d|                     14|\n",
      "|Marshmallows clas...|en:sugary-snacks,...|                 d|                     14|\n",
      "|      Sirop d'Érable|en:sweeteners,en:...|                 d|                     14|\n",
      "|      Frosted Flakes|en:plant-based-fo...|                 d|                     16|\n",
      "| Sweet mango Chutney|en:plant-based-fo...|                 d|                     16|\n",
      "|Of London Camomil...|en:beverages,en:n...|                 b|                      1|\n",
      "|          Le Gruyère|en:fromages,en:fr...|                 e|                     20|\n",
      "|        Bean Boozled|en:sugary-snacks,...|                 d|                     14|\n",
      "|Cadbury Fingers M...|en:sugary-snacks,...|                 e|                     22|\n",
      "|Nanami Togarashi ...|en:assaisonnement...|                 c|                      4|\n",
      "|    Special K nature|en:plant-based-fo...|                 c|                      7|\n",
      "|               Glace|en:desserts,en:cr...|                 d|                     16|\n",
      "|Chocolate Fudge B...|en:desserts,en:fr...|                 d|                     15|\n",
      "|Blended Scotch Wh...|en:beverages,en:w...|                 e|                     11|\n",
      "|Mori-nu silken To...|en:plant-based-fo...|                 a|                     -4|\n",
      "|       crème fraîche|en:dairies,en:fer...|                 e|                     20|\n",
      "|     Quiche Lorraine|en:frozen-foods,e...|                 d|                     15|\n",
      "|        jus de pomme|en:plant-based-fo...|                 c|                      4|\n",
      "|                Bura|          en:dairies|                 d|                     18|\n",
      "| Bouillon de légume |        fr:concentre|                 c|                      4|\n",
      "|Craquelins au Son...|en:sugary-snacks,...|                 d|                     16|\n",
      "|Original green te...|en:beverages,en:i...|                 d|                      9|\n",
      "|Pomegrenate Green...|en:plant-based-fo...|                 e|                     11|\n",
      "| Blueberry white tea|en:beverages,en:s...|                 e|                     11|\n",
      "|Arizona Lite Half...|en:beverages,en:a...|                 d|                      7|\n",
      "|Watermelon Chewes...|en:plant-based-fo...|                 e|                     11|\n",
      "|Seville orange Ma...|en:plant-based-fo...|                 d|                     13|\n",
      "|ISO 100  Hydrolyz...|en:dietary-supple...|                 b|                      1|\n",
      "|EL Lobo Turrón De...|en:sugary-snacks,...|                 d|                     11|\n",
      "|     Smokey Mesquite|en:groceries,en:s...|                 d|                     16|\n",
      "|Sauce Barbecue av...|en:groceries,en:s...|                 c|                      8|\n",
      "|             fitness|en:plant-based-fo...|                 b|                      0|\n",
      "|Chips de Banane P...|en:plant-based-fo...|                 d|                     15|\n",
      "|Blevita Quinoa ép...|        en:groceries|                 d|                     13|\n",
      "|        filet hareng|en:seafood,en:fis...|                 d|                     15|\n",
      "|             Gäddsas|en:groceries,en:s...|                 c|                      9|\n",
      "|Galettes de riz c...|en:plant-based-fo...|                 e|                     21|\n",
      "|        Petit Beurre|en:sugary-snacks,...|                 d|                     13|\n",
      "|    Gruyère surchoix|en:dairies,en:fer...|                 d|                     15|\n",
      "|Fromage frais aux...|en:dairies,en:fer...|                 d|                     16|\n",
      "|  Vacherin Mont-d'Or|en:dairies,en:fer...|                 d|                     14|\n",
      "| Körniger Frischkäse|en:dairies,en:fer...|                 b|                      1|\n",
      "|               Toast|en:dairies,en:fer...|                 d|                     18|\n",
      "|       Semmel Knödel|en:meals,en:micro...|                 d|                     16|\n",
      "|    Purée de tomates|en:plant-based-fo...|                 a|                     -2|\n",
      "|            Apfelmus|en:plant-based-fo...|                 a|                     -2|\n",
      "|          Cornichons|en:plant-based-fo...|                 b|                      2|\n",
      "|Col lombarda Alpe...|en:plant-based-fo...|                 c|                      3|\n",
      "|Le Jambon Supérie...|en:meats,en:prepa...|                 c|                      5|\n",
      "|Gaufres aux Œufs ...|en:sugary-snacks,...|                 e|                     19|\n",
      "|    Flips Cacahuètes|en:salty-snacks,e...|                 d|                     16|\n",
      "|Amandes de Califo...|en:plant-based-fo...|                 a|                     -3|\n",
      "|           Spaghetti|en:plant-based-fo...|                 a|                     -4|\n",
      "|Boisson lactée à ...|en:beverages,en:d...|                 b|                      0|\n",
      "|Crefée Paprika-Chili|en:dairies,en:fer...|                 d|                     14|\n",
      "|Zwieback - Grafsc...|en:plant-based-fo...|                 d|                     11|\n",
      "|         Puff Pastry|en:pet-food,en:pi...|                 d|                     16|\n",
      "|              Ambito|en:sugary-snacks,...|                 e|                     24|\n",
      "|Sugo al pomodoro ...|en:groceries,en:s...|                 b|                      2|\n",
      "|Tostas integrales...|en:plant-based-fo...|                 a|                     -1|\n",
      "|         Maple Syrup|de:endulzantes,de...|                 d|                     14|\n",
      "|Ice Cream Sandwic...|en:desserts,en:fr...|                 d|                     13|\n",
      "|Compote de pommes...|en:plant-based-fo...|                 a|                     -2|\n",
      "|   Moutarde de Dijon|en:groceries,en:c...|                 d|                     11|\n",
      "|        Oriental Mix|    fr:snacks-salees|                 d|                     12|\n",
      "|            Polenta |        fr:feculents|                 a|                     -1|\n",
      "|              Hörnli|             it:pate|                 a|                     -4|\n",
      "|      Cerises Noires|de:aliments-d-ori...|                 c|                      7|\n",
      "| Haferflocken, grove|en:plant-based-fo...|                 a|                     -5|\n",
      "|         Corn Flakes|en:plant-based-fo...|                 a|                     -1|\n",
      "|     Poulet-Bouillon|en:groceries,en:c...|                 c|                      4|\n",
      "|   Gnocchi klassisch|en:plant-based-fo...|                 c|                      5|\n",
      "|          Alpen fest|    en:sugary-snacks|                 d|                     16|\n",
      "|Quark Traum Natur...|          en:dairies|                 a|                     -5|\n",
      "|5 Croissants Choc...|en:sugary-snacks,...|                 e|                     21|\n",
      "|          Tuna Steak|de:conserves,de:f...|                 b|                      1|\n",
      "|     Thunfish-filets|en:seafood,en:fis...|                 b|                      1|\n",
      "|Haricots blancs g...|en:plant-based-fo...|                 a|                     -7|\n",
      "|Cassolette au Col...|en:frozen-foods,e...|                 c|                      3|\n",
      "|            Skyr Pur|en:dairies,en:fer...|                 a|                     -5|\n",
      "|  Coings Gelée Extra|en:plant-based-fo...|                 d|                     13|\n",
      "|    Ailes de poulet |            en:meats|                 a|                     -3|\n",
      "|     Bio Apfel Chips|en:plant-based-fo...|                 c|                      3|\n",
      "| Biographie Walnüsse|en:plant-based-fo...|                 d|                     14|\n",
      "|   Yaourt Fraise Bio|fr:yaourts-brasse...|                 a|                     -1|\n",
      "|   Terrine au poivre|          en:terrine|                 e|                     22|\n",
      "|         Tofu nature|en:plant-based-fo...|                 a|                     -5|\n",
      "|     Le Gruyère doux|en:dairies,en:fer...|                 d|                     16|\n",
      "|gruyère surchoix ...|en:dairies,en:fer...|                 d|                     16|\n",
      "|Jambon d'épaule p...|en:meats,en:prepa...|                 d|                     12|\n",
      "|Gran Gusto Prosci...|en:meats,en:prepa...|                 c|                      5|\n",
      "|  Tomme du Châtelard|en:dairies,en:fer...|                 d|                     17|\n",
      "|   Saucisson vaudois|en:meats,en:prepa...|                 e|                     23|\n",
      "|delikatess fleisc...|en:meats,en:prepa...|                 d|                     17|\n",
      "|           Lard salé|fr:viande-porc-salee|                 d|                     17|\n",
      "|Filets de Truite ...|en:seafood,en:fis...|                 b|                      2|\n",
      "|  Coquelet / Güggeli|en:meats,en:poult...|                 a|                     -3|\n",
      "|       Salami Paysan|en:meats,en:prepa...|                 e|                     24|\n",
      "|  Salsiccia ticinese| fr:saucisse-de-porc|                 d|                     18|\n",
      "|     Bünder Bergkäse|en:dairies,en:fer...|                 d|                     12|\n",
      "|           Minitaler|en:dairies,en:fer...|                 d|                     12|\n",
      "|          Pâté royal|   en:meats,en:meals|                 d|                     16|\n",
      "|Raccard Tradition...|en:dairies,en:fer...|                 d|                     17|\n",
      "|Mortadelle 3 Stel...|en:meats,en:prepa...|                 e|                     21|\n",
      "|       Tilsiter doux|en:dairies,en:fer...|                 c|                      8|\n",
      "|Salade d'algues G...|en:plant-based-fo...|                 c|                      4|\n",
      "|       Maïs Doux Bio|en:plant-based-fo...|                 a|                     -4|\n",
      "|Viande Hachée Mél...|en:meats,en:froze...|                 b|                      2|\n",
      "|Jambon Cru Portugais|en:meats,en:prepa...|                 d|                     15|\n",
      "| Plateau de fromages|en:dairies,en:fer...|                 d|                     14|\n",
      "|    Fromage d'Italie|en:meats,en:prepa...|                 d|                     15|\n",
      "|               Gouda|en:dairies,en:fer...|                 d|                     16|\n",
      "|   Betteraves Rouges|en:plant-based-fo...|                 a|                     -7|\n",
      "|     Ragoût de boeuf|            en:meats|                 a|                     -3|\n",
      "| Viande hachée mêlée|            en:meats|                 b|                      1|\n",
      "| Museau de porc salé|fr:viande-porc-salee|                 d|                     14|\n",
      "|Filet d'agneau ma...|en:meats,en:meat-...|                 b|                      2|\n",
      "|             Atriaux|en:meats,en:pork,...|                 d|                     17|\n",
      "|   kokosblütenzucker|            de:sucre|                 d|                     15|\n",
      "|Jogourt Nature ferme|           en:yaourt|                 b|                      1|\n",
      "|      Yogourt Ananas|en:dairies,en:fer...|                 c|                      3|\n",
      "|   Migros, M Classic|en:dairies,en:fer...|                 c|                      4|\n",
      "|      Himbeerjoghurt|de:yaourts-a-la-f...|                 c|                      4|\n",
      "|    Yogurt Mandarine|en:dairies,en:fer...|                 c|                      4|\n",
      "|Birchermuesli Jog...|en:dairies,en:fer...|                 c|                      3|\n",
      "|Yogourt Rhubarbe/...|en:dairies,en:fer...|                 c|                      4|\n",
      "|  Schokolade Joghurt|en:dairies,en:fer...|                 c|                      3|\n",
      "|Yogourt Moka ferm...|en:dairies,en:fer...|                 c|                      3|\n",
      "|    Joghurt Caramel |en:dairies,en:fer...|                 c|                      4|\n",
      "|Coupe Chantilly V...|en:dairies,en:des...|                 c|                      5|\n",
      "|Yaourt Müesli Cla...|en:dairies,en:fer...|                 b|                      2|\n",
      "|        Crème à Café|en:dairies,en:creams|                 c|                      9|\n",
      "|         Coupe choco|         en:desserts|                 b|                      0|\n",
      "|      Cottage cheese|en:dairies,en:fer...|                 b|                      2|\n",
      "|       Coupe caramel|         en:desserts|                 b|                      1|\n",
      "| Olives espagnole...|en:plant-based-fo...|                 d|                     11|\n",
      "|   Olives espagnoles|en:plant-based-fo...|                 c|                      9|\n",
      "|         Choco Drink|          en:dairies|                 a|                     -1|\n",
      "|Yogourt Moka ferm...|en:dairies,en:fer...|                 c|                      3|\n",
      "|Kim Delikatess Ma...|             en:fats|                 d|                     11|\n",
      "|Toast Le petit Mo...|en:plant-based-fo...|                 c|                      5|\n",
      "|Crème Dessert Cho...|en:dairies,en:creams|                 c|                      5|\n",
      "|          Mozzarella|en:dairies,en:fer...|                 c|                     10|\n",
      "|Sirop d'érable yo...|en:dairies,en:fer...|                 c|                      4|\n",
      "|           Milch UHT|en:dairies,en:mil...|                 b|                      1|\n",
      "|Milch Lait Latte ...|en:dairies,en:mil...|                 b|                      1|\n",
      "|Milch Drink, Lait...| en:dairies,en:milks|                 b|                      0|\n",
      "|           Vita lait|          fr:h-milch|                 a|                     -1|\n",
      "|Crème entière UHT...|en:dairies,en:cre...|                 d|                     14|\n",
      "|      Müesli Truffes|en:dairies,en:fer...|                 c|                      7|\n",
      "|        Yogos nature|en:dairies,en:fer...|                 c|                      5|\n",
      "|     Olives Grecques|en:plant-based-fo...|                 c|                      9|\n",
      "|      Yogourt Nature|en:dairies,en:fer...|                 b|                      1|\n",
      "|           Swiss Fit|en:dairies,en:fer...|                 c|                     10|\n",
      "|          Emmentaler|en:dairies,en:fer...|                 c|                     10|\n",
      "|Meringues Dessert...|en:dairies,en:des...|                 c|                      5|\n",
      "|Meringues Dessert...|en:dairies,en:des...|                 c|                      3|\n",
      "|        Calcium lait|            fr:milch|                 a|                     -1|\n",
      "|Joghurt Léger (Na...|en:dairies,en:fer...|                 a|                     -1|\n",
      "|       Joghurt pêche|          en:dairies|                 a|                     -4|\n",
      "|      Joghurt fraise|          en:dairies|                 a|                     -4|\n",
      "|    Joghurt myrtille|en:dairies,en:fer...|                 a|                     -4|\n",
      "|        Joghurt Moka|          en:dairies|                 a|                     -1|\n",
      "|      Yogourt Nature|en:dairies,en:fer...|                 b|                      1|\n",
      "|          Mozzarella|en:dairies,en:fer...|                 c|                     10|\n",
      "|          Ice Coffee|en:beverages,en:d...|                 b|                      1|\n",
      "|Yogourt orange/ci...|en:dairies,en:fer...|                 a|                     -3|\n",
      "|          Mozzarella|en:dairies,en:fer...|                 c|                      3|\n",
      "|        Crème à Café|en:dairies,en:creams|                 d|                     11|\n",
      "|        Zaziki Quark|en:groceries,en:s...|                 c|                      4|\n",
      "|Joghurt Drink fra...|          en:dairies|                 a|                     -1|\n",
      "|Double Crème de l...|fr:fromages-doubl...|                 d|                     15|\n",
      "| Excellence, Truffes|en:dairies,en:fer...|                 c|                      5|\n",
      "|      Bolognesesosse|en:dairies,en:fer...|                 b|                      1|\n",
      "|Mini Weihnachts-F...|          en:dairies|                 e|                     28|\n",
      "|     Kokosschokolade|en:sugary-snacks,...|                 e|                     26|\n",
      "|         Coffee Milk|en:dairies,en:creams|                 c|                      4|\n",
      "|Basis Müsli Cerea...|en:plant-based-fo...|                 a|                     -6|\n",
      "|      Cremia Balance|en:spreads,en:dai...|                 c|                      5|\n",
      "|Red Bull energy d...|en:beverages,en:c...|                 e|                     15|\n",
      "|     galettes de riz|    en:sugary-snacks|                 a|                     -6|\n",
      "|Deluxe Chocolate ...|en:sugary-snacks,...|                 e|                     26|\n",
      "+--------------------+--------------------+------------------+-----------------------+\n",
      "only showing top 200 rows\n",
      "\n"
     ]
    }
   ],
   "source": [
    "df_switzerland = df_switzerland.na.drop()\n",
    "df_switzerland.show(200)"
   ]
  },
  {
   "cell_type": "code",
   "execution_count": 23,
   "metadata": {},
   "outputs": [
    {
     "data": {
      "text/plain": [
       "4463"
      ]
     },
     "execution_count": 23,
     "metadata": {},
     "output_type": "execute_result"
    }
   ],
   "source": [
    "total_switz = df_switzerland.count()\n",
    "total_switz"
   ]
  },
  {
   "cell_type": "markdown",
   "metadata": {},
   "source": [
    "Each time we have the Nutri-score for about 1/4 of the datas."
   ]
  },
  {
   "cell_type": "code",
   "execution_count": 13,
   "metadata": {},
   "outputs": [
    {
     "name": "stdout",
     "output_type": "stream",
     "text": [
      "+------------------+-----+\n",
      "|nutrition_grade_fr|count|\n",
      "+------------------+-----+\n",
      "|                 a|  723|\n",
      "|                 b|  664|\n",
      "|                 c|  897|\n",
      "|                 d| 1220|\n",
      "|                 e|  959|\n",
      "+------------------+-----+\n",
      "\n"
     ]
    }
   ],
   "source": [
    "counted_nutriscore_s = df_switzerland.groupBy('nutrition_grade_fr').count().sort(\"nutrition_grade_fr\")\n",
    "counted_nutriscore_s.show()"
   ]
  },
  {
   "cell_type": "code",
   "execution_count": 14,
   "metadata": {},
   "outputs": [
    {
     "data": {
      "text/plain": [
       "Text(0.5, 0, 'Nutri-Score')"
      ]
     },
     "execution_count": 14,
     "metadata": {},
     "output_type": "execute_result"
    },
    {
     "data": {
      "image/png": "[encoded data removed]",
      "text/plain": [
       "<Figure size 792x432 with 1 Axes>"
      ]
     },
     "metadata": {
      "needs_background": "light"
     },
     "output_type": "display_data"
    }
   ],
   "source": [
    "pd_nutriscore_switzerland = counted_nutriscore_s.toPandas()\n",
    "\n",
    "pd_nutriscore_switzerland.plot.bar(x= 'nutrition_grade_fr', y = 'count', rot=0, figsize=(11,6), color= score_colors)\n",
    "plt.title(\"Number of products available in Switzerland depending on the Nutri-Score\")\n",
    "plt.xlabel(\"Nutri-Score\")"
   ]
  },
  {
   "cell_type": "markdown",
   "metadata": {},
   "source": [
    "# United states datas"
   ]
  },
  {
   "cell_type": "code",
   "execution_count": 15,
   "metadata": {},
   "outputs": [],
   "source": [
    "df_usa = df_data.where(df_data.countries_tags.contains('en:united-states')).select('product_name','categories_tags','nutrition_grade_fr', 'nutrition-score-fr_100g')\n",
    "#df_usa.show(200)"
   ]
  },
  {
   "cell_type": "code",
   "execution_count": 54,
   "metadata": {},
   "outputs": [
    {
     "data": {
      "text/plain": [
       "175479"
      ]
     },
     "execution_count": 54,
     "metadata": {},
     "output_type": "execute_result"
    }
   ],
   "source": [
    "df_usa.count()"
   ]
  },
  {
   "cell_type": "code",
   "execution_count": 16,
   "metadata": {},
   "outputs": [
    {
     "name": "stdout",
     "output_type": "stream",
     "text": [
      "+--------------------+--------------------+------------------+-----------------------+\n",
      "|        product_name|     categories_tags|nutrition_grade_fr|nutrition-score-fr_100g|\n",
      "+--------------------+--------------------+------------------+-----------------------+\n",
      "|           Root Beer|en:beverages,en:c...|                 e|                     12|\n",
      "|  Sliced Plain Bagel|      en:pains-bagel|                 c|                      3|\n",
      "|Sea Salt Potato C...|en:chips-and-frie...|                 c|                      8|\n",
      "|        clam chowder|en:meals,en:soups...|                 b|                      2|\n",
      "|      Pizza Parlanno|en:meals,en:pizza...|                 d|                     11|\n",
      "|       Mac 'n Cheese|en:meals,en:micro...|                 c|                      4|\n",
      "|      Yellow Mustard|en:groceries,en:c...|                 b|                      0|\n",
      "|Vanilla Nonfat Yo...|en:dairies,en:fer...|                 a|                     -1|\n",
      "|          Tortellini|en:plant-based-fo...|                 c|                      9|\n",
      "|         Hello Panda|en:sugary-snacks,...|                 e|                     22|\n",
      "|         Ginger Beer|en:plant-based-fo...|                 e|                     14|\n",
      "|Spaghetti sauce w...|en:groceries,en:s...|                 b|                      1|\n",
      "|        Creme Brulee|en:sugary-snacks,...|                 e|                     25|\n",
      "|Creation Hazelnut...|en:sugary-snacks,...|                 e|                     24|\n",
      "|    Molten Lava Cake|en:sugary-snacks,...|                 e|                     24|\n",
      "|           Mini Cups|en:pates-a-tartin...|                 e|                     22|\n",
      "|             Nutella|en:petit-dejeuner...|                 e|                     24|\n",
      "|             Nutella|en:petit-dejeuner...|                 e|                     25|\n",
      "|             Nutella|en:petit-dejeuner...|                 e|                     24|\n",
      "|D' Sabor, Aloe Ve...|en:plant-based-fo...|                 e|                     10|\n",
      "|D' Sabor, Aloe Ve...|en:plant-based-fo...|                 e|                     10|\n",
      "|           Milk Duds|en:sugary-snacks,...|                 e|                     25|\n",
      "|            Whoppers|en:sugary-snacks,...|                 e|                     27|\n",
      "|       Good & Plenty|en:sugary-snacks,...|                 d|                     17|\n",
      "|           Milk Duds|en:sugary-snacks,...|                 e|                     24|\n",
      "|Cream on Top stra...|en:dairies,en:fer...|                 c|                      5|\n",
      "|White enriched bread|en:plant-based-fo...|                 b|                      2|\n",
      "|           Light Rye|en:plant-based-fo...|                 c|                      3|\n",
      "|      Hamburger Buns|en:plant-based-fo...|                 b|                      1|\n",
      "|Jumbo Hamburger E...|en:plant-based-fo...|                 b|                      1|\n",
      "|Natural Crunchy P...|en:aliments-d-ori...|                 c|                      6|\n",
      "|Hamburger enriche...|en:plant-based-fo...|                 b|                      2|\n",
      "|Original Hamburge...|en:plant-based-fo...|                 c|                     10|\n",
      "|100% Juice Unfilt...|en:plant-based-fo...|                 c|                      5|\n",
      "|White Hamburger E...|en:plant-based-fo...|                 a|                     -2|\n",
      "|Spicy Boneless Ch...|en:meats,en:poult...|                 d|                     13|\n",
      "|Soynuts Roasted &...|en:plant-based-fo...|                 c|                      7|\n",
      "|      Sliced Almonds|en:plant-based-fo...|                 b|                      0|\n",
      "|Creamy Almond Butter|en:plant-based-fo...|                 d|                     12|\n",
      "|Microwave Kettle ...|en:sugary-snacks,...|                 c|                     10|\n",
      "|Microwave Natural...|en:sugary-snacks,...|                 d|                     11|\n",
      "|Microwave Popcorn...|en:sugary-snacks,...|                 d|                     17|\n",
      "|     cut green beans|en:plant-based-fo...|                 a|                     -3|\n",
      "|Original Tomato K...|en:groceries,en:s...|                 d|                     16|\n",
      "|Original Tomato K...|en:groceries,en:s...|                 d|                     16|\n",
      "|Diced tomatoes in...|en:plant-based-fo...|                 a|                     -4|\n",
      "|        Tomato Paste|en:plant-based-fo...|                 a|                     -8|\n",
      "|100% Juice Apple ...|en:plant-based-fo...|                 c|                      5|\n",
      "|    100% Apple Juice|en:plant-based-fo...|                 c|                      5|\n",
      "|   100% Juice, Apple|en:plant-based-fo...|                 c|                      5|\n",
      "|Tomato Ketchup Fr...|en:groceries,en:s...|                 d|                     16|\n",
      "|Double Cheeseburg...|en:sandwiches,en:...|                 d|                     11|\n",
      "|    100% Apple Juice|en:plant-based-fo...|                 c|                      5|\n",
      "|Microwave Kettle ...|en:sugary-snacks,...|                 d|                     11|\n",
      "|Original Tomato K...|en:groceries,en:s...|                 d|                     16|\n",
      "|italian style tom...|en:plant-based-fo...|                 a|                     -3|\n",
      "|Aloe Vera Drink, ...|en:plant-based-fo...|                 e|                     14|\n",
      "|Microwave Popcorn...|en:sugary-snacks,...|                 c|                      8|\n",
      "|      Garbanzo Beans|en:plant-based-fo...|                 a|                     -4|\n",
      "|      Tomato Ketchup|en:groceries,en:s...|                 d|                     15|\n",
      "|    Sriracha Ketchup|en:groceries,en:s...|                 c|                      9|\n",
      "|    Sriracha Ketchup|en:groceries,en:s...|                 c|                      9|\n",
      "|Aloe Vera Drink, ...|en:plant-based-fo...|                 e|                     14|\n",
      "|Pre Sliced Whole ...|      en:pains-bagel|                 a|                     -3|\n",
      "|Pre-Sliced Mini B...|      en:pains-bagel|                 b|                      2|\n",
      "|Pre-Sliced Mini S...|      en:pains-bagel|                 b|                      2|\n",
      "|       Bagels, Plain|      en:pains-bagel|                 c|                      3|\n",
      "|Original Tomato K...|en:groceries,en:s...|                 d|                     16|\n",
      "|Cinnamon Raisin B...|      en:pains-bagel|                 b|                      1|\n",
      "|5 Presliced Plain...|      en:pains-bagel|                 b|                      0|\n",
      "|      Tomato Ketchup|en:groceries,en:s...|                 d|                     16|\n",
      "|      Tomato Ketchup|en:groceries,en:s...|                 d|                     16|\n",
      "|      Tomato Ketchup|en:groceries,en:s...|                 d|                     16|\n",
      "|      Tomato Ketchup|en:groceries,en:s...|                 d|                     16|\n",
      "|      Tomato Ketchup|en:groceries,en:s...|                 d|                     16|\n",
      "|      Tomato Ketchup|en:groceries,en:s...|                 d|                     16|\n",
      "|Organic Tomato Ke...|en:groceries,en:s...|                 d|                     16|\n",
      "|      Tomato Ketchup|en:groceries,en:s...|                 d|                     16|\n",
      "|Organic, Organic ...|en:plant-based-fo...|                 c|                      4|\n",
      "|      Tzatziki Sauce|en:groceries,en:s...|                 c|                      8|\n",
      "|Wheat Hamburger Buns|en:plant-based-fo...|                 b|                      2|\n",
      "|      Hamburger Buns|en:plant-based-fo...|                 b|                      0|\n",
      "|Wheat Hamburger S...|en:plant-based-fo...|                 b|                      0|\n",
      "|Hamburger Sliced ...|en:plant-based-fo...|                 b|                      1|\n",
      "|       Sliced Bagels|      en:pains-bagel|                 b|                      0|\n",
      "|Sliced Bagels, Ci...|      en:pains-bagel|                 b|                      1|\n",
      "|Sliced Bagels, Bl...|      en:pains-bagel|                 b|                      2|\n",
      "|Every Thing Slice...|      en:pains-bagel|                 b|                      0|\n",
      "|Organic Microwave...|en:sugary-snacks,...|                 d|                     15|\n",
      "|Sliced Hamburger ...|en:plant-based-fo...|                 c|                      3|\n",
      "|Presliced Plain B...|      en:pains-bagel|                 b|                      2|\n",
      "|Presliced Cinnamo...|      en:pains-bagel|                 b|                      2|\n",
      "|Presliced Everyth...|      en:pains-bagel|                 b|                      0|\n",
      "|Jfc Nori Fumi Fur...|en:plant-based-fo...|                 b|                      0|\n",
      "|Original Aloe Ver...|en:plant-based-fo...|                 c|                      5|\n",
      "|     Aloe Vera Drink|en:plant-based-fo...|                 c|                      5|\n",
      "|              Ramune|en:beverages,en:n...|                 d|                      6|\n",
      "|             Ketchup|en:groceries,en:s...|                 d|                     16|\n",
      "| Dark Sweet Cherries|en:plant-based-fo...|                 a|                     -2|\n",
      "|Tabasco Pepper Sauce|en:groceries,en:s...|                 c|                      7|\n",
      "|        Jumbo Bagels|      en:pains-bagel|                 a|                     -1|\n",
      "|   Microwave Popcorn|en:sugary-snacks,...|                 a|                     -4|\n",
      "|Microwave Popcorn...|en:sugary-snacks,...|                 e|                     19|\n",
      "|      Tomato Ketchup|en:groceries,en:s...|                 d|                     16|\n",
      "|      Tomato Ketchup|en:groceries,en:s...|                 d|                     16|\n",
      "|      Tomato Ketchup|en:groceries,en:s...|                 d|                     16|\n",
      "|      Tomato Ketchup|en:groceries,en:s...|                 d|                     16|\n",
      "|      Tomato Ketchup|en:groceries,en:s...|                 d|                     16|\n",
      "|      Tomato Ketchup|en:groceries,en:s...|                 d|                     16|\n",
      "|Microwave Popcorn...|en:sugary-snacks,...|                 d|                     17|\n",
      "|Microwave Kettle ...|en:sugary-snacks,...|                 d|                     17|\n",
      "|Microwave Popcorn...|en:sugary-snacks,...|                 d|                     17|\n",
      "|   Microwave Popcorn|en:sugary-snacks,...|                 d|                     13|\n",
      "|Microwave Popcorn...|en:sugary-snacks,...|                 e|                     20|\n",
      "|Microwave Popcorn...|en:sugary-snacks,...|                 a|                     -4|\n",
      "|    8 Hamburger Buns|en:plant-based-fo...|                 b|                      2|\n",
      "|Microwave Popcorn...|en:sugary-snacks,...|                 e|                     19|\n",
      "|Microwave Popcorn...|en:sugary-snacks,...|                 e|                     21|\n",
      "|   Microwave Popcorn|en:sugary-snacks,...|                 d|                     17|\n",
      "|Microwave Popcorn...|en:sugary-snacks,...|                 d|                     18|\n",
      "|Organic Microwave...|en:sugary-snacks,...|                 d|                     15|\n",
      "| Fruit & Nut Granola|en:plant-based-fo...|                 c|                      8|\n",
      "|Tims extra thick ...|en:salty-snacks,e...|                 c|                      3|\n",
      "|Original Kettle S...|en:plant-based-fo...|                 d|                     15|\n",
      "|     Honey Soy Drink|en:plant-based-fo...|                 b|                      0|\n",
      "|Bellavitano, Merl...|en:fermentados,en...|                 e|                     25|\n",
      "|Diet Green Tea Ci...|en:boissons-edulc...|                 c|                      2|\n",
      "|           Pepsi Max|       en:diet-colas|                 c|                      3|\n",
      "|    Citrus Green Tea|       en:tea-drinks|                 c|                      5|\n",
      "|   100% Orange Juice|en:jus-d-orange,e...|                 e|                     13|\n",
      "|             Mtn Dew|en:beverages,en:c...|                 e|                     15|\n",
      "|Lemon-lime flavor...|en:beverages,en:c...|                 b|                      0|\n",
      "| Strawberry Lemonade|en:plant-based-fo...|                 b|                     -2|\n",
      "|Organic Coconut P...|en:sweeteners,en:...|                 b|                      0|\n",
      "|Gluten Free Bagel...|      en:pains-bagel|                 d|                     12|\n",
      "|     Pure Sesame Oil| en:huiles-de-sesame|                 d|                     11|\n",
      "|Kadoya Sesame Oil...|             en:fats|                 d|                     11|\n",
      "|      Barbecue Sauce|en:groceries,en:s...|                 e|                     19|\n",
      "|Honey Barbecue Sauce|en:groceries,en:s...|                 d|                     12|\n",
      "|Sweet 'n Spicy Ba...|en:squuezer,en:pl...|                 d|                     13|\n",
      "|Sweet 'n Spicy Ba...|en:groceries,en:s...|                 e|                     19|\n",
      "|      Honey Barbecue|en:groceries,en:s...|                 e|                     23|\n",
      "|            Tzatziki|en:groceries,en:s...|                 d|                     11|\n",
      "|   Macaroni & Cheese|en:plant-based-fo...|                 d|                     13|\n",
      "|   Macaroni & Cheese|en:plant-based-fo...|                 c|                     10|\n",
      "|       organic Bread|en:plant-based-fo...|                 a|                     -2|\n",
      "|Paleonola, Granol...|en:plant-based-fo...|                 d|                     15|\n",
      "|Bluberry Protein ...|en:dietary-supple...|                 b|                      0|\n",
      "|Milano Lemon Flav...|en:sugary-snacks,...|                 e|                     20|\n",
      "|Milano dulce de l...|en:sugary-snacks,...|                 e|                     24|\n",
      "|   Farmhouse Oatmeal|en:plant-based-fo...|                 a|                     -1|\n",
      "|Milano Distinctiv...|en:sugary-snacks,...|                 e|                     22|\n",
      "|Milano Orange Fla...|en:sugary-snacks,...|                 e|                     21|\n",
      "| Farmhouse Sourdough|en:plant-based-fo...|                 b|                      2|\n",
      "|Milano Double Cho...|en:sugary-snacks,...|                 e|                     21|\n",
      "|Cinnamon raisin b...|      en:pains-bagel|                 b|                      2|\n",
      "|Tahoe White Choco...|en:sugary-snacks,...|                 e|                     26|\n",
      "|Chesapeake Dark C...|en:sugary-snacks,...|                 e|                     24|\n",
      "|Sausalito Milk Ch...|en:sugary-snacks,...|                 e|                     26|\n",
      "|Double chocolate ...|en:sugary-snacks,...|                 e|                     26|\n",
      "|     Goldfish Colors|en:salty-snacks,e...|                 d|                     13|\n",
      "|Goldfish Baked Sn...|en:snacks,en:snac...|                 e|                     21|\n",
      "|Goldfish Flavor B...|en:salty-snacks,e...|                 c|                      3|\n",
      "|Goldfish Original...|en:aperitif,en:bi...|                 b|                      1|\n",
      "|Goldfish baked sn...|           en:snacks|                 d|                     14|\n",
      "|Goldfish baked sn...|           en:snacks|                 d|                     14|\n",
      "|Lexington Milk Ch...|en:sugary-snacks,...|                 e|                     23|\n",
      "|Maui Milk Chocola...|en:sugary-snacks,...|                 e|                     21|\n",
      "|    Goldfish Cheddar|en:salty-snacks,e...|                 d|                     14|\n",
      "|Pasta & Broccoli ...|en:plant-based-fo...|                 a|                     -1|\n",
      "|   100% Tomato Juice|en:plant-based-fo...|                 b|                     -3|\n",
      "|Extra Fancy Tomat...|en:groceries,en:s...|                 d|                     16|\n",
      "|             Ketchup|en:groceries,en:s...|                 d|                     15|\n",
      "|             Ketchup|en:groceries,en:s...|                 d|                     15|\n",
      "|     Organic Ketchup|en:groceries,en:s...|                 d|                     15|\n",
      "|        Plain Bagels|      en:pains-bagel|                 b|                      1|\n",
      "|Cinnamon Raisin S...|      en:pains-bagel|                 b|                      2|\n",
      "|100% Whole Wheat ...|      en:pains-bagel|                 a|                     -2|\n",
      "|Redner's, Microwa...|en:sugary-snacks,...|                 d|                     17|\n",
      "|Microwave Popcorn...|en:sugary-snacks,...|                 e|                     21|\n",
      "|       Reese's Puffs|en:plant-based-fo...|                 d|                     15|\n",
      "|  Honey Nut Cheerios|en:plant-based-fo...|                 c|                      8|\n",
      "|        Lucky Charms|en:plant-based-fo...|                 c|                      7|\n",
      "|Crunchy Granola B...|en:sugary-snacks,...|                 d|                     11|\n",
      "|Crunchy Granola Bars|en:sugary-snacks,...|                 c|                      7|\n",
      "|Crunchy Peanut Bu...|en:sugary-snacks,...|                 d|                     11|\n",
      "|  Fiber One Original|en:plant-based-fo...|                 a|                     -3|\n",
      "|          Coco Puffs|en:plant-based-fo...|                 b|                      0|\n",
      "|            Cheerios|en:plant-based-fo...|                 b|                      0|\n",
      "|  Honey Nut Cheerios|en:cereales-pour-...|                 d|                     13|\n",
      "|            Cheerios|en:plant-based-fo...|                 a|                     -3|\n",
      "|     Raisin Nut Bran|en:plant-based-fo...|                 c|                     10|\n",
      "|           Mini Trix|en:plant-based-fo...|                 d|                     12|\n",
      "|        Lucky Charms|en:plant-based-fo...|                 d|                     12|\n",
      "|  Honey Nut Cheerios|en:plant-based-fo...|                 d|                     12|\n",
      "|Nature Valley Pea...|en:plant-based-fo...|                 d|                     18|\n",
      "|Crunchy Granola B...|en:sugary-snacks,...|                 c|                     10|\n",
      "|Party Rainbow Chi...|         en:cake-mix|                 e|                     21|\n",
      "|100% Mashed Potat...|  en:mashed-potatoes|                 a|                     -4|\n",
      "|Cinnamon Toast Cr...|en:cereales-pour-...|                 c|                      3|\n",
      "+--------------------+--------------------+------------------+-----------------------+\n",
      "only showing top 200 rows\n",
      "\n"
     ]
    }
   ],
   "source": [
    "df_usa = df_usa.na.drop()\n",
    "df_usa.show(200)"
   ]
  },
  {
   "cell_type": "code",
   "execution_count": 22,
   "metadata": {},
   "outputs": [
    {
     "data": {
      "text/plain": [
       "2685"
      ]
     },
     "execution_count": 22,
     "metadata": {},
     "output_type": "execute_result"
    }
   ],
   "source": [
    "total_usa = df_usa.count()\n",
    "total_usa"
   ]
  },
  {
   "cell_type": "code",
   "execution_count": 17,
   "metadata": {},
   "outputs": [
    {
     "name": "stdout",
     "output_type": "stream",
     "text": [
      "+------------------+-----+\n",
      "|nutrition_grade_fr|count|\n",
      "+------------------+-----+\n",
      "|                 a|  336|\n",
      "|                 b|  432|\n",
      "|                 c|  496|\n",
      "|                 d|  862|\n",
      "|                 e|  559|\n",
      "+------------------+-----+\n",
      "\n"
     ]
    }
   ],
   "source": [
    "counted_nutriscore_usa = df_usa.groupBy('nutrition_grade_fr').count().sort(\"nutrition_grade_fr\")\n",
    "counted_nutriscore_usa.show()"
   ]
  },
  {
   "cell_type": "code",
   "execution_count": 18,
   "metadata": {},
   "outputs": [
    {
     "data": {
      "text/plain": [
       "Text(0.5, 0, 'Nutri-Score')"
      ]
     },
     "execution_count": 18,
     "metadata": {},
     "output_type": "execute_result"
    },
    {
     "data": {
      "image/png": "[encoded data removed]",
      "text/plain": [
       "<Figure size 792x432 with 1 Axes>"
      ]
     },
     "metadata": {
      "needs_background": "light"
     },
     "output_type": "display_data"
    }
   ],
   "source": [
    "pd_nutriscore_usa = counted_nutriscore_usa.toPandas()\n",
    "\n",
    "pd_nutriscore_usa.plot.bar(x= 'nutrition_grade_fr', y = 'count', rot=0, figsize=(11,6), color= score_colors)\n",
    "plt.title(\"Number of products available in the United States depending on the Nutri-Score\")\n",
    "plt.xlabel(\"Nutri-Score\")"
   ]
  },
  {
   "cell_type": "markdown",
   "metadata": {},
   "source": [
    "# Overall comparison"
   ]
  },
  {
   "cell_type": "code",
   "execution_count": 57,
   "metadata": {},
   "outputs": [],
   "source": [
    "nb_lines = len(pd_nutriscore_france.iloc[:,0])\n",
    "\n",
    "France_percent = []\n",
    "Switzerland_percent = []\n",
    "United_States_percent = []\n",
    "nutri_score = []\n",
    "\n",
    "for i in range (0, nb_lines):\n",
    "    nutri_score.append(pd_nutriscore_france.index[i])\n",
    "    France_percent.append(pd_nutriscore_france.iloc[i,0]/total_france*100)\n",
    "    Switzerland_percent.append(pd_nutriscore_switzerland.iloc[i,0]/total_switz*100)\n",
    "    United_States_percent.append(pd_nutriscore_usa.iloc[i,0]/total_usa*100)\n"
   ]
  },
  {
   "cell_type": "code",
   "execution_count": 58,
   "metadata": {},
   "outputs": [
    {
     "data": {
      "text/html": [
       "<div>\n",
       "<style scoped>\n",
       "    .dataframe tbody tr th:only-of-type {\n",
       "        vertical-align: middle;\n",
       "    }\n",
       "\n",
       "    .dataframe tbody tr th {\n",
       "        vertical-align: top;\n",
       "    }\n",
       "\n",
       "    .dataframe thead th {\n",
       "        text-align: right;\n",
       "    }\n",
       "</style>\n",
       "<table border=\"1\" class=\"dataframe\">\n",
       "  <thead>\n",
       "    <tr style=\"text-align: right;\">\n",
       "      <th></th>\n",
       "      <th>France</th>\n",
       "      <th>Switzerland</th>\n",
       "      <th>United States</th>\n",
       "    </tr>\n",
       "    <tr>\n",
       "      <th>Nutri-score</th>\n",
       "      <th></th>\n",
       "      <th></th>\n",
       "      <th></th>\n",
       "    </tr>\n",
       "  </thead>\n",
       "  <tbody>\n",
       "    <tr>\n",
       "      <th>a</th>\n",
       "      <td>13.075869</td>\n",
       "      <td>16.199866</td>\n",
       "      <td>12.513966</td>\n",
       "    </tr>\n",
       "    <tr>\n",
       "      <th>b</th>\n",
       "      <td>13.865388</td>\n",
       "      <td>14.877885</td>\n",
       "      <td>16.089385</td>\n",
       "    </tr>\n",
       "    <tr>\n",
       "      <th>c</th>\n",
       "      <td>20.668779</td>\n",
       "      <td>20.098588</td>\n",
       "      <td>18.472998</td>\n",
       "    </tr>\n",
       "    <tr>\n",
       "      <th>d</th>\n",
       "      <td>29.354341</td>\n",
       "      <td>27.335873</td>\n",
       "      <td>32.104283</td>\n",
       "    </tr>\n",
       "    <tr>\n",
       "      <th>e</th>\n",
       "      <td>23.035623</td>\n",
       "      <td>21.487788</td>\n",
       "      <td>20.819367</td>\n",
       "    </tr>\n",
       "  </tbody>\n",
       "</table>\n",
       "</div>"
      ],
      "text/plain": [
       "                France  Switzerland  United States\n",
       "Nutri-score                                       \n",
       "a            13.075869    16.199866      12.513966\n",
       "b            13.865388    14.877885      16.089385\n",
       "c            20.668779    20.098588      18.472998\n",
       "d            29.354341    27.335873      32.104283\n",
       "e            23.035623    21.487788      20.819367"
      ]
     },
     "execution_count": 58,
     "metadata": {},
     "output_type": "execute_result"
    }
   ],
   "source": [
    "df_comparison = pd.DataFrame({'France': France_percent, 'Switzerland': Switzerland_percent, 'United States': United_States_percent, 'Nutri-score': nutri_score}).set_index('Nutri-score')\n",
    "\n",
    "df_comparison"
   ]
  },
  {
   "cell_type": "code",
   "execution_count": 60,
   "metadata": {},
   "outputs": [
    {
     "data": {
      "text/plain": [
       "Text(0, 0.5, 'Percentage')"
      ]
     },
     "execution_count": 60,
     "metadata": {},
     "output_type": "execute_result"
    },
    {
     "data": {
      "image/png": "[encoded data removed]",
      "text/plain": [
       "<Figure size 792x432 with 1 Axes>"
      ]
     },
     "metadata": {
      "needs_background": "light"
     },
     "output_type": "display_data"
    }
   ],
   "source": [
    "df_comparison.plot.bar(rot=0, figsize=(11,6))\n",
    "\n",
    "plt.title(\"Percentage of products per nutri-score available in different countries\")\n",
    "plt.xlabel(\"Nutri-Score\")\n",
    "plt.ylabel(\"Percentage\")"
   ]
  },
  {
   "cell_type": "markdown",
   "metadata": {},
   "source": [
    "# # Brouillou"
   ]
  },
  {
   "cell_type": "code",
   "execution_count": null,
   "metadata": {},
   "outputs": [],
   "source": [
    "from sklearn.preprocessing import normalize"
   ]
  },
  {
   "cell_type": "code",
   "execution_count": 32,
   "metadata": {},
   "outputs": [],
   "source": [
    "pd_nutriscore_france = pd_nutriscore_france.rename(columns={'count': 'France'}).set_index('nutrition_grade_fr')\n",
    "pd_nutriscore_switzerland = pd_nutriscore_switzerland.rename(columns={'count': 'Switzerland'}).set_index('nutrition_grade_fr')\n",
    "pd_nutriscore_usa = pd_nutriscore_usa.rename(columns={'count': 'United States'}).set_index('nutrition_grade_fr')"
   ]
  },
  {
   "cell_type": "code",
   "execution_count": 34,
   "metadata": {},
   "outputs": [
    {
     "data": {
      "text/plain": [
       "<matplotlib.axes._subplots.AxesSubplot at 0x1a24519198>"
      ]
     },
     "execution_count": 34,
     "metadata": {},
     "output_type": "execute_result"
    },
    {
     "data": {
      "image/png": "[encoded data removed]",
      "text/plain": [
       "<Figure size 432x288 with 1 Axes>"
      ]
     },
     "metadata": {
      "needs_background": "light"
     },
     "output_type": "display_data"
    }
   ],
   "source": [
    "df_comparison = pd.concat([pd_nutriscore_switzerland, pd_nutriscore_france, pd_nutriscore_usa], axis=1, join_axes=[pd_nutriscore_switzerland.index])\n",
    "#df_comparison = normalize(df_comparison, axis=0)\n",
    "df_comparison\n",
    "df_comparison.plot.bar(rot=0)"
   ]
  },
  {
   "cell_type": "code",
   "execution_count": 62,
   "metadata": {},
   "outputs": [
    {
     "ename": "AnalysisException",
     "evalue": "'Table or view not found: df_france; line 3 pos 5'",
     "output_type": "error",
     "traceback": [
      "\u001b[0;31m---------------------------------------------------------------------------\u001b[0m",
      "\u001b[0;31mPy4JJavaError\u001b[0m                             Traceback (most recent call last)",
      "\u001b[0;32m/Users/Spark/python/pyspark/sql/utils.py\u001b[0m in \u001b[0;36mdeco\u001b[0;34m(*a, **kw)\u001b[0m\n\u001b[1;32m     62\u001b[0m         \u001b[0;32mtry\u001b[0m\u001b[0;34m:\u001b[0m\u001b[0;34m\u001b[0m\u001b[0;34m\u001b[0m\u001b[0m\n\u001b[0;32m---> 63\u001b[0;31m             \u001b[0;32mreturn\u001b[0m \u001b[0mf\u001b[0m\u001b[0;34m(\u001b[0m\u001b[0;34m*\u001b[0m\u001b[0ma\u001b[0m\u001b[0;34m,\u001b[0m \u001b[0;34m**\u001b[0m\u001b[0mkw\u001b[0m\u001b[0;34m)\u001b[0m\u001b[0;34m\u001b[0m\u001b[0;34m\u001b[0m\u001b[0m\n\u001b[0m\u001b[1;32m     64\u001b[0m         \u001b[0;32mexcept\u001b[0m \u001b[0mpy4j\u001b[0m\u001b[0;34m.\u001b[0m\u001b[0mprotocol\u001b[0m\u001b[0;34m.\u001b[0m\u001b[0mPy4JJavaError\u001b[0m \u001b[0;32mas\u001b[0m \u001b[0me\u001b[0m\u001b[0;34m:\u001b[0m\u001b[0;34m\u001b[0m\u001b[0;34m\u001b[0m\u001b[0m\n",
      "\u001b[0;32m/Users/Spark/python/lib/py4j-0.10.7-src.zip/py4j/protocol.py\u001b[0m in \u001b[0;36mget_return_value\u001b[0;34m(answer, gateway_client, target_id, name)\u001b[0m\n\u001b[1;32m    327\u001b[0m                     \u001b[0;34m\"An error occurred while calling {0}{1}{2}.\\n\"\u001b[0m\u001b[0;34m.\u001b[0m\u001b[0;34m\u001b[0m\u001b[0;34m\u001b[0m\u001b[0m\n\u001b[0;32m--> 328\u001b[0;31m                     format(target_id, \".\", name), value)\n\u001b[0m\u001b[1;32m    329\u001b[0m             \u001b[0;32melse\u001b[0m\u001b[0;34m:\u001b[0m\u001b[0;34m\u001b[0m\u001b[0;34m\u001b[0m\u001b[0m\n",
      "\u001b[0;31mPy4JJavaError\u001b[0m: An error occurred while calling o23.sql.\n: org.apache.spark.sql.AnalysisException: Table or view not found: df_france; line 3 pos 5\n\tat org.apache.spark.sql.catalyst.analysis.package$AnalysisErrorAt.failAnalysis(package.scala:47)\n\tat org.apache.spark.sql.catalyst.analysis.Analyzer$ResolveRelations$.org$apache$spark$sql$catalyst$analysis$Analyzer$ResolveRelations$$lookupTableFromCatalog(Analyzer.scala:665)\n\tat org.apache.spark.sql.catalyst.analysis.Analyzer$ResolveRelations$.resolveRelation(Analyzer.scala:617)\n\tat org.apache.spark.sql.catalyst.analysis.Analyzer$ResolveRelations$$anonfun$apply$8.applyOrElse(Analyzer.scala:647)\n\tat org.apache.spark.sql.catalyst.analysis.Analyzer$ResolveRelations$$anonfun$apply$8.applyOrElse(Analyzer.scala:640)\n\tat org.apache.spark.sql.catalyst.trees.TreeNode$$anonfun$transformUp$1.apply(TreeNode.scala:289)\n\tat org.apache.spark.sql.catalyst.trees.TreeNode$$anonfun$transformUp$1.apply(TreeNode.scala:289)\n\tat org.apache.spark.sql.catalyst.trees.CurrentOrigin$.withOrigin(TreeNode.scala:70)\n\tat org.apache.spark.sql.catalyst.trees.TreeNode.transformUp(TreeNode.scala:288)\n\tat org.apache.spark.sql.catalyst.trees.TreeNode$$anonfun$3.apply(TreeNode.scala:286)\n\tat org.apache.spark.sql.catalyst.trees.TreeNode$$anonfun$3.apply(TreeNode.scala:286)\n\tat org.apache.spark.sql.catalyst.trees.TreeNode$$anonfun$4.apply(TreeNode.scala:306)\n\tat org.apache.spark.sql.catalyst.trees.TreeNode.mapProductIterator(TreeNode.scala:187)\n\tat org.apache.spark.sql.catalyst.trees.TreeNode.mapChildren(TreeNode.scala:304)\n\tat org.apache.spark.sql.catalyst.trees.TreeNode.transformUp(TreeNode.scala:286)\n\tat org.apache.spark.sql.catalyst.trees.TreeNode$$anonfun$3.apply(TreeNode.scala:286)\n\tat org.apache.spark.sql.catalyst.trees.TreeNode$$anonfun$3.apply(TreeNode.scala:286)\n\tat org.apache.spark.sql.catalyst.trees.TreeNode$$anonfun$4.apply(TreeNode.scala:306)\n\tat org.apache.spark.sql.catalyst.trees.TreeNode.mapProductIterator(TreeNode.scala:187)\n\tat org.apache.spark.sql.catalyst.trees.TreeNode.mapChildren(TreeNode.scala:304)\n\tat org.apache.spark.sql.catalyst.trees.TreeNode.transformUp(TreeNode.scala:286)\n\tat org.apache.spark.sql.catalyst.analysis.Analyzer$ResolveRelations$.apply(Analyzer.scala:640)\n\tat org.apache.spark.sql.catalyst.analysis.Analyzer$ResolveRelations$.apply(Analyzer.scala:586)\n\tat org.apache.spark.sql.catalyst.rules.RuleExecutor$$anonfun$execute$1$$anonfun$apply$1.apply(RuleExecutor.scala:87)\n\tat org.apache.spark.sql.catalyst.rules.RuleExecutor$$anonfun$execute$1$$anonfun$apply$1.apply(RuleExecutor.scala:84)\n\tat scala.collection.LinearSeqOptimized$class.foldLeft(LinearSeqOptimized.scala:124)\n\tat scala.collection.immutable.List.foldLeft(List.scala:84)\n\tat org.apache.spark.sql.catalyst.rules.RuleExecutor$$anonfun$execute$1.apply(RuleExecutor.scala:84)\n\tat org.apache.spark.sql.catalyst.rules.RuleExecutor$$anonfun$execute$1.apply(RuleExecutor.scala:76)\n\tat scala.collection.immutable.List.foreach(List.scala:381)\n\tat org.apache.spark.sql.catalyst.rules.RuleExecutor.execute(RuleExecutor.scala:76)\n\tat org.apache.spark.sql.catalyst.analysis.Analyzer.org$apache$spark$sql$catalyst$analysis$Analyzer$$executeSameContext(Analyzer.scala:124)\n\tat org.apache.spark.sql.catalyst.analysis.Analyzer.execute(Analyzer.scala:118)\n\tat org.apache.spark.sql.catalyst.analysis.Analyzer.executeAndCheck(Analyzer.scala:103)\n\tat org.apache.spark.sql.execution.QueryExecution.analyzed$lzycompute(QueryExecution.scala:57)\n\tat org.apache.spark.sql.execution.QueryExecution.analyzed(QueryExecution.scala:55)\n\tat org.apache.spark.sql.execution.QueryExecution.assertAnalyzed(QueryExecution.scala:47)\n\tat org.apache.spark.sql.Dataset$.ofRows(Dataset.scala:74)\n\tat org.apache.spark.sql.SparkSession.sql(SparkSession.scala:642)\n\tat sun.reflect.NativeMethodAccessorImpl.invoke0(Native Method)\n\tat sun.reflect.NativeMethodAccessorImpl.invoke(NativeMethodAccessorImpl.java:62)\n\tat sun.reflect.DelegatingMethodAccessorImpl.invoke(DelegatingMethodAccessorImpl.java:43)\n\tat java.lang.reflect.Method.invoke(Method.java:498)\n\tat py4j.reflection.MethodInvoker.invoke(MethodInvoker.java:244)\n\tat py4j.reflection.ReflectionEngine.invoke(ReflectionEngine.java:357)\n\tat py4j.Gateway.invoke(Gateway.java:282)\n\tat py4j.commands.AbstractCommand.invokeMethod(AbstractCommand.java:132)\n\tat py4j.commands.CallCommand.execute(CallCommand.java:79)\n\tat py4j.GatewayConnection.run(GatewayConnection.java:238)\n\tat java.lang.Thread.run(Thread.java:748)\nCaused by: org.apache.spark.sql.catalyst.analysis.NoSuchTableException: Table or view 'df_france' not found in database 'default';\n\tat org.apache.spark.sql.catalyst.catalog.ExternalCatalog.requireTableExists(ExternalCatalog.scala:46)\n\tat org.apache.spark.sql.catalyst.catalog.InMemoryCatalog.getTable(InMemoryCatalog.scala:326)\n\tat org.apache.spark.sql.catalyst.catalog.SessionCatalog.lookupRelation(SessionCatalog.scala:669)\n\tat org.apache.spark.sql.catalyst.analysis.Analyzer$ResolveRelations$.org$apache$spark$sql$catalyst$analysis$Analyzer$ResolveRelations$$lookupTableFromCatalog(Analyzer.scala:662)\n\t... 48 more\n",
      "\nDuring handling of the above exception, another exception occurred:\n",
      "\u001b[0;31mAnalysisException\u001b[0m                         Traceback (most recent call last)",
      "\u001b[0;32m<ipython-input-62-11862c2a248f>\u001b[0m in \u001b[0;36m<module>\u001b[0;34m\u001b[0m\n\u001b[1;32m      6\u001b[0m \"\"\"\n\u001b[1;32m      7\u001b[0m \u001b[0;34m\u001b[0m\u001b[0m\n\u001b[0;32m----> 8\u001b[0;31m \u001b[0mfrance_beverages\u001b[0m \u001b[0;34m=\u001b[0m \u001b[0mspark\u001b[0m\u001b[0;34m.\u001b[0m\u001b[0msql\u001b[0m\u001b[0;34m(\u001b[0m\u001b[0mquery\u001b[0m\u001b[0;34m)\u001b[0m\u001b[0;34m\u001b[0m\u001b[0;34m\u001b[0m\u001b[0m\n\u001b[0m\u001b[1;32m      9\u001b[0m \u001b[0mfrance_beverages\u001b[0m\u001b[0;34m.\u001b[0m\u001b[0mshow\u001b[0m\u001b[0;34m(\u001b[0m\u001b[0;36m200\u001b[0m\u001b[0;34m)\u001b[0m\u001b[0;34m\u001b[0m\u001b[0;34m\u001b[0m\u001b[0m\n",
      "\u001b[0;32m/Users/Spark/python/pyspark/sql/session.py\u001b[0m in \u001b[0;36msql\u001b[0;34m(self, sqlQuery)\u001b[0m\n\u001b[1;32m    708\u001b[0m         \u001b[0;34m[\u001b[0m\u001b[0mRow\u001b[0m\u001b[0;34m(\u001b[0m\u001b[0mf1\u001b[0m\u001b[0;34m=\u001b[0m\u001b[0;36m1\u001b[0m\u001b[0;34m,\u001b[0m \u001b[0mf2\u001b[0m\u001b[0;34m=\u001b[0m\u001b[0;34mu'row1'\u001b[0m\u001b[0;34m)\u001b[0m\u001b[0;34m,\u001b[0m \u001b[0mRow\u001b[0m\u001b[0;34m(\u001b[0m\u001b[0mf1\u001b[0m\u001b[0;34m=\u001b[0m\u001b[0;36m2\u001b[0m\u001b[0;34m,\u001b[0m \u001b[0mf2\u001b[0m\u001b[0;34m=\u001b[0m\u001b[0;34mu'row2'\u001b[0m\u001b[0;34m)\u001b[0m\u001b[0;34m,\u001b[0m \u001b[0mRow\u001b[0m\u001b[0;34m(\u001b[0m\u001b[0mf1\u001b[0m\u001b[0;34m=\u001b[0m\u001b[0;36m3\u001b[0m\u001b[0;34m,\u001b[0m \u001b[0mf2\u001b[0m\u001b[0;34m=\u001b[0m\u001b[0;34mu'row3'\u001b[0m\u001b[0;34m)\u001b[0m\u001b[0;34m]\u001b[0m\u001b[0;34m\u001b[0m\u001b[0;34m\u001b[0m\u001b[0m\n\u001b[1;32m    709\u001b[0m         \"\"\"\n\u001b[0;32m--> 710\u001b[0;31m         \u001b[0;32mreturn\u001b[0m \u001b[0mDataFrame\u001b[0m\u001b[0;34m(\u001b[0m\u001b[0mself\u001b[0m\u001b[0;34m.\u001b[0m\u001b[0m_jsparkSession\u001b[0m\u001b[0;34m.\u001b[0m\u001b[0msql\u001b[0m\u001b[0;34m(\u001b[0m\u001b[0msqlQuery\u001b[0m\u001b[0;34m)\u001b[0m\u001b[0;34m,\u001b[0m \u001b[0mself\u001b[0m\u001b[0;34m.\u001b[0m\u001b[0m_wrapped\u001b[0m\u001b[0;34m)\u001b[0m\u001b[0;34m\u001b[0m\u001b[0;34m\u001b[0m\u001b[0m\n\u001b[0m\u001b[1;32m    711\u001b[0m \u001b[0;34m\u001b[0m\u001b[0m\n\u001b[1;32m    712\u001b[0m     \u001b[0;34m@\u001b[0m\u001b[0msince\u001b[0m\u001b[0;34m(\u001b[0m\u001b[0;36m2.0\u001b[0m\u001b[0;34m)\u001b[0m\u001b[0;34m\u001b[0m\u001b[0;34m\u001b[0m\u001b[0m\n",
      "\u001b[0;32m/Users/Spark/python/lib/py4j-0.10.7-src.zip/py4j/java_gateway.py\u001b[0m in \u001b[0;36m__call__\u001b[0;34m(self, *args)\u001b[0m\n\u001b[1;32m   1255\u001b[0m         \u001b[0manswer\u001b[0m \u001b[0;34m=\u001b[0m \u001b[0mself\u001b[0m\u001b[0;34m.\u001b[0m\u001b[0mgateway_client\u001b[0m\u001b[0;34m.\u001b[0m\u001b[0msend_command\u001b[0m\u001b[0;34m(\u001b[0m\u001b[0mcommand\u001b[0m\u001b[0;34m)\u001b[0m\u001b[0;34m\u001b[0m\u001b[0;34m\u001b[0m\u001b[0m\n\u001b[1;32m   1256\u001b[0m         return_value = get_return_value(\n\u001b[0;32m-> 1257\u001b[0;31m             answer, self.gateway_client, self.target_id, self.name)\n\u001b[0m\u001b[1;32m   1258\u001b[0m \u001b[0;34m\u001b[0m\u001b[0m\n\u001b[1;32m   1259\u001b[0m         \u001b[0;32mfor\u001b[0m \u001b[0mtemp_arg\u001b[0m \u001b[0;32min\u001b[0m \u001b[0mtemp_args\u001b[0m\u001b[0;34m:\u001b[0m\u001b[0;34m\u001b[0m\u001b[0;34m\u001b[0m\u001b[0m\n",
      "\u001b[0;32m/Users/Spark/python/pyspark/sql/utils.py\u001b[0m in \u001b[0;36mdeco\u001b[0;34m(*a, **kw)\u001b[0m\n\u001b[1;32m     67\u001b[0m                                              e.java_exception.getStackTrace()))\n\u001b[1;32m     68\u001b[0m             \u001b[0;32mif\u001b[0m \u001b[0ms\u001b[0m\u001b[0;34m.\u001b[0m\u001b[0mstartswith\u001b[0m\u001b[0;34m(\u001b[0m\u001b[0;34m'org.apache.spark.sql.AnalysisException: '\u001b[0m\u001b[0;34m)\u001b[0m\u001b[0;34m:\u001b[0m\u001b[0;34m\u001b[0m\u001b[0;34m\u001b[0m\u001b[0m\n\u001b[0;32m---> 69\u001b[0;31m                 \u001b[0;32mraise\u001b[0m \u001b[0mAnalysisException\u001b[0m\u001b[0;34m(\u001b[0m\u001b[0ms\u001b[0m\u001b[0;34m.\u001b[0m\u001b[0msplit\u001b[0m\u001b[0;34m(\u001b[0m\u001b[0;34m': '\u001b[0m\u001b[0;34m,\u001b[0m \u001b[0;36m1\u001b[0m\u001b[0;34m)\u001b[0m\u001b[0;34m[\u001b[0m\u001b[0;36m1\u001b[0m\u001b[0;34m]\u001b[0m\u001b[0;34m,\u001b[0m \u001b[0mstackTrace\u001b[0m\u001b[0;34m)\u001b[0m\u001b[0;34m\u001b[0m\u001b[0;34m\u001b[0m\u001b[0m\n\u001b[0m\u001b[1;32m     70\u001b[0m             \u001b[0;32mif\u001b[0m \u001b[0ms\u001b[0m\u001b[0;34m.\u001b[0m\u001b[0mstartswith\u001b[0m\u001b[0;34m(\u001b[0m\u001b[0;34m'org.apache.spark.sql.catalyst.analysis'\u001b[0m\u001b[0;34m)\u001b[0m\u001b[0;34m:\u001b[0m\u001b[0;34m\u001b[0m\u001b[0;34m\u001b[0m\u001b[0m\n\u001b[1;32m     71\u001b[0m                 \u001b[0;32mraise\u001b[0m \u001b[0mAnalysisException\u001b[0m\u001b[0;34m(\u001b[0m\u001b[0ms\u001b[0m\u001b[0;34m.\u001b[0m\u001b[0msplit\u001b[0m\u001b[0;34m(\u001b[0m\u001b[0;34m': '\u001b[0m\u001b[0;34m,\u001b[0m \u001b[0;36m1\u001b[0m\u001b[0;34m)\u001b[0m\u001b[0;34m[\u001b[0m\u001b[0;36m1\u001b[0m\u001b[0;34m]\u001b[0m\u001b[0;34m,\u001b[0m \u001b[0mstackTrace\u001b[0m\u001b[0;34m)\u001b[0m\u001b[0;34m\u001b[0m\u001b[0;34m\u001b[0m\u001b[0m\n",
      "\u001b[0;31mAnalysisException\u001b[0m: 'Table or view not found: df_france; line 3 pos 5'"
     ]
    }
   ],
   "source": [
    "query = \"\"\"\n",
    "SELECT *\n",
    "FROM df_france\n",
    "WHERE categories_tags\n",
    "RLIKE 'en:beverages.*'\n",
    "\"\"\"\n",
    "\n",
    "france_beverages = spark.sql(query)\n",
    "france_beverages.show(200)\n",
    "\n",
    "\n",
    "# Vérifier les imports !!!"
   ]
  }
 ],
 "metadata": {
  "kernelspec": {
   "display_name": "my_env1",
   "language": "python",
   "name": "my_env1"
  },
  "language_info": {
   "codemirror_mode": {
    "name": "ipython",
    "version": 3
   },
   "file_extension": ".py",
   "mimetype": "text/x-python",
   "name": "python",
   "nbconvert_exporter": "python",
   "pygments_lexer": "ipython3",
   "version": "3.6.7"
  }
 },
 "nbformat": 4,
 "nbformat_minor": 2
}
