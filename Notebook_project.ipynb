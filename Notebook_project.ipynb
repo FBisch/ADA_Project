{
 "cells": [
  {
   "cell_type": "code",
   "execution_count": 43,
   "metadata": {},
   "outputs": [],
   "source": [
    "import findspark\n",
    "findspark.init()\n",
    "import pyspark"
   ]
  },
  {
   "cell_type": "code",
   "execution_count": 3,
   "metadata": {},
   "outputs": [
    {
     "name": "stdout",
     "output_type": "stream",
     "text": [
      "/anaconda3/envs/ada/bin/python\n",
      "/Library/Java/JavaVirtualMachines/jdk1.8.0_192.jdk/Contents/Home\n",
      "/Users/Spark\n"
     ]
    }
   ],
   "source": [
    "import os\n",
    "import sys\n",
    "print(sys.executable)\n",
    "print(os.environ['JAVA_HOME'])\n",
    "print(os.environ['SPARK_HOME'])"
   ]
  },
  {
   "cell_type": "code",
   "execution_count": 44,
   "metadata": {},
   "outputs": [],
   "source": [
    "import pandas as pd\n",
    "import numpy as np\n",
    "\n",
    "from pyspark.sql import *\n",
    "from pyspark.sql.types import *\n",
    "\n",
    "from pyspark.sql.functions import explode\n",
    "from pyspark.sql.functions import split\n",
    "\n",
    "from pyspark.sql.functions import udf\n",
    "#from pyspark.sql.functions import col\n",
    "\n",
    "import matplotlib.pyplot as plt"
   ]
  },
  {
   "cell_type": "code",
   "execution_count": 5,
   "metadata": {},
   "outputs": [],
   "source": [
    "spark = SparkSession.builder.getOrCreate()"
   ]
  },
  {
   "cell_type": "markdown",
   "metadata": {},
   "source": [
    "# Openfoodfact data "
   ]
  },
  {
   "cell_type": "code",
   "execution_count": 111,
   "metadata": {},
   "outputs": [],
   "source": [
    "#We load the entire OpenFoodFacts file\n",
    "\n",
    "df_data = spark.read.option(\"sep\", \"\\t\").option(\"header\", True).csv('./data.csv')"
   ]
  },
  {
   "cell_type": "code",
   "execution_count": 110,
   "metadata": {},
   "outputs": [],
   "source": [
    "#df_data"
   ]
  },
  {
   "cell_type": "markdown",
   "metadata": {},
   "source": [
    "We check which countries are the most represented in the datafile.\n",
    "\n",
    "For the nutri-score part, we first decided to focus on three countries: France, United-States and switzerland.\n",
    "\n",
    "France, because the OpenFactFood project was initiated by a french man, in France. Thus, it is the country for which we have the most data. The United States because it is the second country in term of number of data and because it is a far away country, known for its obesity problems. And finally, switzerland, because we also have numerous data, because it is the country where we live, and because we wanted to know if people in this 'rich' country consumes more healthy than in other countries."
   ]
  },
  {
   "cell_type": "code",
   "execution_count": 112,
   "metadata": {},
   "outputs": [
    {
     "name": "stdout",
     "output_type": "stream",
     "text": [
      "+-----------------+------+\n",
      "|   countries_tags| count|\n",
      "+-----------------+------+\n",
      "|        en:france|446394|\n",
      "| en:united-states|175478|\n",
      "|       en:germany| 19489|\n",
      "|   en:switzerland| 19365|\n",
      "|       en:belgium|  9735|\n",
      "|         en:spain|  8341|\n",
      "|en:united-kingdom|  8086|\n",
      "|        en:canada|  3805|\n",
      "|         en:italy|  3035|\n",
      "|     en:australia|  2694|\n",
      "|        en:mexico|  2360|\n",
      "|        en:russia|  2203|\n",
      "|   en:netherlands|  1548|\n",
      "|        en:sweden|  1526|\n",
      "|      en:portugal|  1441|\n",
      "|       en:denmark|   949|\n",
      "|       en:austria|   928|\n",
      "|       en:romania|   799|\n",
      "|en:czech-republic|   646|\n",
      "|       en:hungary|   643|\n",
      "+-----------------+------+\n",
      "only showing top 20 rows\n",
      "\n"
     ]
    }
   ],
   "source": [
    "#We split the countries_tags column to have single countries in each row.\n",
    "#Then we count the occurrence of each country, and order them from the bigger to the smaller count.\n",
    "\n",
    "countries = df_data.select(explode(split('countries_tags', ','))).withColumnRenamed(\"col\", \"countries_tags\")\n",
    "#countries.show(200)\n",
    "\n",
    "counted_countries = countries.groupBy('countries_tags').count().sort(\"count\", ascending = False)\n",
    "counted_countries.show()"
   ]
  },
  {
   "cell_type": "markdown",
   "metadata": {},
   "source": [
    "Then, we wanted to see the most represented categories, to be able to treat not only the entire dataset, but also interesting sub-datasets."
   ]
  },
  {
   "cell_type": "code",
   "execution_count": 8,
   "metadata": {},
   "outputs": [
    {
     "name": "stdout",
     "output_type": "stream",
     "text": [
      "+------------------------------------+-----+\n",
      "|categories_tags                     |count|\n",
      "+------------------------------------+-----+\n",
      "|en:plant-based-foods-and-beverages  |51261|\n",
      "|en:plant-based-foods                |43981|\n",
      "|en:beverages                        |29798|\n",
      "|en:sugary-snacks                    |26277|\n",
      "|en:dairies                          |18477|\n",
      "|en:non-alcoholic-beverages          |16523|\n",
      "|en:meals                            |15601|\n",
      "|en:fruits-and-vegetables-based-foods|15362|\n",
      "|en:cereals-and-potatoes             |15324|\n",
      "|en:fermented-foods                  |12164|\n",
      "|en:fermented-milk-products          |12127|\n",
      "|en:biscuits-and-cakes               |11895|\n",
      "|en:spreads                          |10928|\n",
      "|en:cereals-and-their-products       |9792 |\n",
      "|en:meats                            |9686 |\n",
      "|en:groceries                        |9583 |\n",
      "|en:breakfasts                       |9547 |\n",
      "|en:desserts                         |9091 |\n",
      "|en:plant-based-beverages            |8633 |\n",
      "|en:fruits-based-foods               |8049 |\n",
      "+------------------------------------+-----+\n",
      "only showing top 20 rows\n",
      "\n"
     ]
    }
   ],
   "source": [
    "#We split the categories_tags column to have single categories in each row.\n",
    "#Then we count the occurrence of each category, and order them from the bigger to the smaller count.\n",
    "\n",
    "categories = df_data.select(explode(split('categories_tags', ','))).withColumnRenamed(\"col\", \"categories_tags\")\n",
    "#categories.show(200, False)\n",
    "\n",
    "counted_categories = categories.groupBy('categories_tags').count().sort(\"count\", ascending = False)\n",
    "counted_categories.show(20, False)"
   ]
  },
  {
   "cell_type": "code",
   "execution_count": 26,
   "metadata": {},
   "outputs": [],
   "source": [
    "#We define the colors corresponding to the Nutri-score for our following plots\n",
    "#We chose the re-use the 'official' colors from the website\n",
    "\n",
    "score_colors =['green', 'lightgreen', 'yellow', 'orange','red']"
   ]
  },
  {
   "cell_type": "markdown",
   "metadata": {},
   "source": [
    "# France data"
   ]
  },
  {
   "cell_type": "markdown",
   "metadata": {},
   "source": [
    "### Overall"
   ]
  },
  {
   "cell_type": "code",
   "execution_count": 46,
   "metadata": {},
   "outputs": [],
   "source": [
    "#We create a dataframe with all the data for France\n",
    "\n",
    "df_france = df_data.where(df_data.countries_tags.contains('en:france')).select('product_name','categories_tags','nutrition_grade_fr', 'nutrition-score-fr_100g')\n",
    "#df_france.show(200)"
   ]
  },
  {
   "cell_type": "code",
   "execution_count": 26,
   "metadata": {},
   "outputs": [
    {
     "data": {
      "text/plain": [
       "446394"
      ]
     },
     "execution_count": 26,
     "metadata": {},
     "output_type": "execute_result"
    }
   ],
   "source": [
    "df_france.count()"
   ]
  },
  {
   "cell_type": "code",
   "execution_count": 121,
   "metadata": {
    "scrolled": false
   },
   "outputs": [
    {
     "name": "stdout",
     "output_type": "stream",
     "text": [
      "+--------------------+--------------------+------------------+-----------------------+\n",
      "|        product_name|     categories_tags|nutrition_grade_fr|nutrition-score-fr_100g|\n",
      "+--------------------+--------------------+------------------+-----------------------+\n",
      "|  Tarte noix de coco|en:pies,en:sweet-...|                 d|                     14|\n",
      "|    Compote de poire|en:plant-based-fo...|                 a|                     -4|\n",
      "|    BAguette bressan|en:plant-based-fo...|                 a|                     -4|\n",
      "|Pavé de saumon fu...|en:seafood,en:fis...|                 d|                     15|\n",
      "|  Stylo glaçage gris| en:food-decorations|                 e|                     29|\n",
      "|Blanquette de Vol...|en:meals,en:meat-...|                 b|                      0|\n",
      "|Raviolini au From...|en:meals,en:micro...|                 b|                      1|\n",
      "|           Root Beer|en:beverages,en:c...|                 e|                     12|\n",
      "|A&w - Root Beer -...|en:beverages,en:n...|                 e|                     16|\n",
      "|    Compote de Pomme|en:plant-based-fo...|                 b|                      1|\n",
      "+--------------------+--------------------+------------------+-----------------------+\n",
      "only showing top 10 rows\n",
      "\n"
     ]
    }
   ],
   "source": [
    "#We drop the Null rows, as this values cannot be treated\n",
    "\n",
    "df_france = df_france.na.drop()\n",
    "df_france.show(10)"
   ]
  },
  {
   "cell_type": "code",
   "execution_count": 80,
   "metadata": {},
   "outputs": [
    {
     "data": {
      "text/plain": [
       "116780"
      ]
     },
     "execution_count": 80,
     "metadata": {},
     "output_type": "execute_result"
    }
   ],
   "source": [
    "total_france = df_france.count()\n",
    "total_france"
   ]
  },
  {
   "cell_type": "markdown",
   "metadata": {},
   "source": [
    "We see that on the 446394 products we had, only 116780 are exploitable here, that is around 1/4 of the data."
   ]
  },
  {
   "cell_type": "code",
   "execution_count": 117,
   "metadata": {},
   "outputs": [
    {
     "name": "stdout",
     "output_type": "stream",
     "text": [
      "+------------------+-----+\n",
      "|nutrition_grade_fr|count|\n",
      "+------------------+-----+\n",
      "|                 a|15270|\n",
      "|                 b|16192|\n",
      "|                 c|24137|\n",
      "|                 d|34280|\n",
      "|                 e|26901|\n",
      "+------------------+-----+\n",
      "\n"
     ]
    }
   ],
   "source": [
    "#We count the number of products we have for the different Nutri-Score (from a to e)\n",
    "\n",
    "counted_nutriscore_fr = df_france.groupBy('nutrition_grade_fr').count().sort(\"nutrition_grade_fr\")\n",
    "counted_nutriscore_fr.show()"
   ]
  },
  {
   "cell_type": "code",
   "execution_count": 118,
   "metadata": {
    "scrolled": true
   },
   "outputs": [
    {
     "data": {
      "text/plain": [
       "Text(0.5, 0, 'Nutri-Score')"
      ]
     },
     "execution_count": 118,
     "metadata": {},
     "output_type": "execute_result"
    },
    {
     "data": {
      "image/png": "[encoded data removed]",
      "text/plain": [
       "<Figure size 792x432 with 1 Axes>"
      ]
     },
     "metadata": {
      "needs_background": "light"
     },
     "output_type": "display_data"
    }
   ],
   "source": [
    "#We create a panda dataframe from the spark dataframe\n",
    "#Then we plot our results\n",
    "\n",
    "pd_nutriscore_france = counted_nutriscore_fr.toPandas()\n",
    "\n",
    "pd_nutriscore_france.plot.bar(x= 'nutrition_grade_fr', y = 'count', rot=0, figsize=(11,6), color=score_colors)\n",
    "plt.title(\"Number of products available in France depending on the Nutri-Score\")\n",
    "plt.xlabel(\"Nutri-Score\")"
   ]
  },
  {
   "cell_type": "markdown",
   "metadata": {},
   "source": [
    "### Beverages"
   ]
  },
  {
   "cell_type": "code",
   "execution_count": 122,
   "metadata": {},
   "outputs": [
    {
     "name": "stdout",
     "output_type": "stream",
     "text": [
      "+--------------------+--------------------+------------------+-----------------------+\n",
      "|        product_name|     categories_tags|nutrition_grade_fr|nutrition-score-fr_100g|\n",
      "+--------------------+--------------------+------------------+-----------------------+\n",
      "|           Root Beer|en:beverages,en:c...|                 e|                     12|\n",
      "|A&w - Root Beer -...|en:beverages,en:n...|                 e|                     16|\n",
      "|Thé noir aromatis...|en:beverages,en:n...|                 c|                      2|\n",
      "|Pepsi, Nouveau go...|en:beverages,en:c...|                 e|                     13|\n",
      "|Blle Pet 50CL Coc...|en:beverages,en:s...|                 e|                     14|\n",
      "|                 7Up|en:plant-based-fo...|                 e|                     13|\n",
      "|Smoothie Strawber...|en:plant-based-fo...|                 e|                     12|\n",
      "|      Ruby breakfast|en:beverages,en:n...|                 e|                     14|\n",
      "|Iced Tea Spanish ...|en:beverages,en:r...|                 e|                     11|\n",
      "|Pressed Pineapple...|en:plant-based-fo...|                 c|                      3|\n",
      "+--------------------+--------------------+------------------+-----------------------+\n",
      "only showing top 10 rows\n",
      "\n"
     ]
    }
   ],
   "source": [
    "#Then we re-do the same but only for the products in the \"beverage\" category\n",
    "\n",
    "#We create a new dataframe with all the beverages, in France\n",
    "\n",
    "france_beverages = df_france.filter(df_france.categories_tags.contains(\"en:beverages\"))\n",
    "france_beverages.show(10)"
   ]
  },
  {
   "cell_type": "code",
   "execution_count": 36,
   "metadata": {},
   "outputs": [
    {
     "data": {
      "text/plain": [
       "15419"
      ]
     },
     "execution_count": 36,
     "metadata": {},
     "output_type": "execute_result"
    }
   ],
   "source": [
    "tot_bev_france = france_beverages.count()\n",
    "tot_bev_france"
   ]
  },
  {
   "cell_type": "markdown",
   "metadata": {},
   "source": [
    "Over the 116780 exploitable datas for France, 15419 are beverages, that is between 1/7 and 1/8 of these datas."
   ]
  },
  {
   "cell_type": "code",
   "execution_count": 119,
   "metadata": {},
   "outputs": [
    {
     "name": "stdout",
     "output_type": "stream",
     "text": [
      "+------------------+-----+\n",
      "|nutrition_grade_fr|count|\n",
      "+------------------+-----+\n",
      "|                 a|  238|\n",
      "|                 b| 2632|\n",
      "|                 c| 2826|\n",
      "|                 d| 2495|\n",
      "|                 e| 7228|\n",
      "+------------------+-----+\n",
      "\n"
     ]
    }
   ],
   "source": [
    "#We count the number of beverages we have for the different Nutri-Score (from a to e)\n",
    "\n",
    "beverage_nutriscore_fr = france_beverages.groupBy('nutrition_grade_fr').count().sort(\"nutrition_grade_fr\")\n",
    "beverage_nutriscore_fr.show()"
   ]
  },
  {
   "cell_type": "code",
   "execution_count": 120,
   "metadata": {},
   "outputs": [
    {
     "data": {
      "text/plain": [
       "Text(0.5, 0, 'Nutri-Score')"
      ]
     },
     "execution_count": 120,
     "metadata": {},
     "output_type": "execute_result"
    },
    {
     "data": {
      "image/png": "[encoded data removed]",
      "text/plain": [
       "<Figure size 792x432 with 1 Axes>"
      ]
     },
     "metadata": {
      "needs_background": "light"
     },
     "output_type": "display_data"
    }
   ],
   "source": [
    "#We create a panda dataframe from the spark dataframe\n",
    "\n",
    "pd_beverages_france = beverage_nutriscore_fr.toPandas()\n",
    "\n",
    "#We plot our results\n",
    "\n",
    "pd_beverages_france.plot.bar(x= 'nutrition_grade_fr', y = 'count', rot=0, figsize=(11,6), color=score_colors)\n",
    "plt.title(\"Number of beverages available in France depending on the Nutri-Score\")\n",
    "plt.xlabel(\"Nutri-Score\")"
   ]
  },
  {
   "cell_type": "markdown",
   "metadata": {},
   "source": [
    "# Switzerland data"
   ]
  },
  {
   "cell_type": "code",
   "execution_count": 53,
   "metadata": {},
   "outputs": [],
   "source": [
    "#We create a new dataframe for the datas for Switzerland\n",
    "\n",
    "df_switzerland = df_data.where(df_data.countries_tags.contains('en:switzerland')).select('product_name','categories_tags','nutrition_grade_fr', 'nutrition-score-fr_100g')\n",
    "#df_switzerland.show(200)"
   ]
  },
  {
   "cell_type": "code",
   "execution_count": 44,
   "metadata": {},
   "outputs": [
    {
     "data": {
      "text/plain": [
       "19365"
      ]
     },
     "execution_count": 44,
     "metadata": {},
     "output_type": "execute_result"
    }
   ],
   "source": [
    "df_switzerland.count()"
   ]
  },
  {
   "cell_type": "code",
   "execution_count": 123,
   "metadata": {},
   "outputs": [
    {
     "name": "stdout",
     "output_type": "stream",
     "text": [
      "+--------------------+--------------------+------------------+-----------------------+\n",
      "|        product_name|     categories_tags|nutrition_grade_fr|nutrition-score-fr_100g|\n",
      "+--------------------+--------------------+------------------+-----------------------+\n",
      "|             Nutella|en:petit-dejeuner...|                 e|                     24|\n",
      "|                skyr|en:dairies,en:fer...|                 a|                     -5|\n",
      "|Chocolate Chunk D...|en:sugary-snacks,...|                 e|                     21|\n",
      "|Chocolate Chunk M...|en:sugary-snacks,...|                 e|                     22|\n",
      "|Poires demi-fruit...|en:plant-based-fo...|                 a|                     -3|\n",
      "|  Pêches Demi-Fruits|en:plant-based-fo...|                 a|                     -3|\n",
      "|Cocktail de fruit...|en:plant-based-fo...|                 a|                     -3|\n",
      "|Mandarines au sir...|en:plant-based-fo...|                 a|                     -3|\n",
      "|  Cocktail de fruits|en:plant-based-fo...|                 a|                     -3|\n",
      "|Microwave Popcorn...|en:sugary-snacks,...|                 d|                     15|\n",
      "+--------------------+--------------------+------------------+-----------------------+\n",
      "only showing top 10 rows\n",
      "\n"
     ]
    }
   ],
   "source": [
    "#We drop the Null values\n",
    "\n",
    "df_switzerland = df_switzerland.na.drop()\n",
    "df_switzerland.show(10)"
   ]
  },
  {
   "cell_type": "code",
   "execution_count": 81,
   "metadata": {},
   "outputs": [
    {
     "data": {
      "text/plain": [
       "4463"
      ]
     },
     "execution_count": 81,
     "metadata": {},
     "output_type": "execute_result"
    }
   ],
   "source": [
    "total_switz = df_switzerland.count()\n",
    "total_switz"
   ]
  },
  {
   "cell_type": "markdown",
   "metadata": {},
   "source": [
    "Here again, around 1/4 of the data are exploitable. (4463 over 19365)"
   ]
  },
  {
   "cell_type": "code",
   "execution_count": 55,
   "metadata": {},
   "outputs": [
    {
     "name": "stdout",
     "output_type": "stream",
     "text": [
      "+------------------+-----+\n",
      "|nutrition_grade_fr|count|\n",
      "+------------------+-----+\n",
      "|                 a|  723|\n",
      "|                 b|  664|\n",
      "|                 c|  897|\n",
      "|                 d| 1220|\n",
      "|                 e|  959|\n",
      "+------------------+-----+\n",
      "\n"
     ]
    }
   ],
   "source": [
    "#We count the number of products we have for the different Nutri-Score (from a to e)\n",
    "\n",
    "counted_nutriscore_s = df_switzerland.groupBy('nutrition_grade_fr').count().sort(\"nutrition_grade_fr\")\n",
    "counted_nutriscore_s.show()"
   ]
  },
  {
   "cell_type": "code",
   "execution_count": 56,
   "metadata": {},
   "outputs": [
    {
     "data": {
      "text/plain": [
       "Text(0.5, 0, 'Nutri-Score')"
      ]
     },
     "execution_count": 56,
     "metadata": {},
     "output_type": "execute_result"
    },
    {
     "data": {
      "image/png": "[encoded data removed]",
      "text/plain": [
       "<Figure size 792x432 with 1 Axes>"
      ]
     },
     "metadata": {
      "needs_background": "light"
     },
     "output_type": "display_data"
    }
   ],
   "source": [
    "#We create a panda dataframe from the spark dataframe\n",
    "\n",
    "pd_nutriscore_switzerland = counted_nutriscore_s.toPandas()\n",
    "\n",
    "#Then we plot our results\n",
    "\n",
    "pd_nutriscore_switzerland.plot.bar(x= 'nutrition_grade_fr', y = 'count', rot=0, figsize=(11,6), color= score_colors)\n",
    "plt.title(\"Number of products available in Switzerland depending on the Nutri-Score\")\n",
    "plt.xlabel(\"Nutri-Score\")"
   ]
  },
  {
   "cell_type": "markdown",
   "metadata": {},
   "source": [
    "### Beverages"
   ]
  },
  {
   "cell_type": "code",
   "execution_count": 124,
   "metadata": {},
   "outputs": [
    {
     "name": "stdout",
     "output_type": "stream",
     "text": [
      "+--------------------+--------------------+------------------+-----------------------+\n",
      "|        product_name|     categories_tags|nutrition_grade_fr|nutrition-score-fr_100g|\n",
      "+--------------------+--------------------+------------------+-----------------------+\n",
      "|Of London Camomil...|en:beverages,en:n...|                 b|                      1|\n",
      "|Blended Scotch Wh...|en:beverages,en:w...|                 e|                     11|\n",
      "|        jus de pomme|en:plant-based-fo...|                 c|                      4|\n",
      "|Original green te...|en:beverages,en:i...|                 d|                      9|\n",
      "|Pomegrenate Green...|en:plant-based-fo...|                 e|                     11|\n",
      "| Blueberry white tea|en:beverages,en:s...|                 e|                     11|\n",
      "|Arizona Lite Half...|en:beverages,en:a...|                 d|                      7|\n",
      "|Watermelon Chewes...|en:plant-based-fo...|                 e|                     11|\n",
      "|Boisson lactée à ...|en:beverages,en:d...|                 b|                      0|\n",
      "|          Ice Coffee|en:beverages,en:d...|                 b|                      1|\n",
      "+--------------------+--------------------+------------------+-----------------------+\n",
      "only showing top 10 rows\n",
      "\n"
     ]
    }
   ],
   "source": [
    "#We do it again for the beverages in Switzerland\n",
    "\n",
    "switzerland_beverages = df_switzerland.filter(df_switzerland.categories_tags.contains(\"en:beverages\"))\n",
    "switzerland_beverages.show(10)"
   ]
  },
  {
   "cell_type": "code",
   "execution_count": 82,
   "metadata": {},
   "outputs": [
    {
     "data": {
      "text/plain": [
       "537"
      ]
     },
     "execution_count": 82,
     "metadata": {},
     "output_type": "execute_result"
    }
   ],
   "source": [
    "tot_bev_switz = switzerland_beverages.count()\n",
    "tot_bev_switz"
   ]
  },
  {
   "cell_type": "markdown",
   "metadata": {},
   "source": [
    "Over the 4463 exploitable data we have for switzerland, 537 are beverages, that is around 1/8 of these data."
   ]
  },
  {
   "cell_type": "code",
   "execution_count": 58,
   "metadata": {},
   "outputs": [
    {
     "name": "stdout",
     "output_type": "stream",
     "text": [
      "+------------------+-----+\n",
      "|nutrition_grade_fr|count|\n",
      "+------------------+-----+\n",
      "|                 a|   18|\n",
      "|                 b|   98|\n",
      "|                 c|  120|\n",
      "|                 d|  116|\n",
      "|                 e|  185|\n",
      "+------------------+-----+\n",
      "\n"
     ]
    }
   ],
   "source": [
    "#We count the number of beverages for the different nutri-score in switzerland\n",
    "\n",
    "beverage_score_switz = switzerland_beverages.groupBy('nutrition_grade_fr').count().sort(\"nutrition_grade_fr\")\n",
    "beverage_score_switz.show()"
   ]
  },
  {
   "cell_type": "code",
   "execution_count": 59,
   "metadata": {},
   "outputs": [
    {
     "data": {
      "text/plain": [
       "Text(0.5, 0, 'Nutri-Score')"
      ]
     },
     "execution_count": 59,
     "metadata": {},
     "output_type": "execute_result"
    },
    {
     "data": {
      "image/png": "[encoded data removed]",
      "text/plain": [
       "<Figure size 792x432 with 1 Axes>"
      ]
     },
     "metadata": {
      "needs_background": "light"
     },
     "output_type": "display_data"
    }
   ],
   "source": [
    "#We create a panda dataframe from the spark dataframe\n",
    "\n",
    "pd_beverages_switzerland = beverage_score_switz.toPandas()\n",
    "\n",
    "#We plot our results\n",
    "\n",
    "pd_beverages_switzerland.plot.bar(x= 'nutrition_grade_fr', y = 'count', rot=0, figsize=(11,6), color=score_colors)\n",
    "plt.title(\"Number of beverages available in Switzerland depending on the Nutri-Score\")\n",
    "plt.xlabel(\"Nutri-Score\")"
   ]
  },
  {
   "cell_type": "markdown",
   "metadata": {},
   "source": [
    "# United states datas"
   ]
  },
  {
   "cell_type": "code",
   "execution_count": 113,
   "metadata": {},
   "outputs": [],
   "source": [
    "#We create a dataframe for the United States data\n",
    "\n",
    "df_usa = df_data.where(df_data.countries_tags.contains('en:united-states')).select('product_name','categories_tags','nutrition_grade_fr', 'nutrition-score-fr_100g')\n",
    "#df_usa.show(200)"
   ]
  },
  {
   "cell_type": "code",
   "execution_count": 54,
   "metadata": {},
   "outputs": [
    {
     "data": {
      "text/plain": [
       "175479"
      ]
     },
     "execution_count": 54,
     "metadata": {},
     "output_type": "execute_result"
    }
   ],
   "source": [
    "df_usa.count()"
   ]
  },
  {
   "cell_type": "code",
   "execution_count": 125,
   "metadata": {},
   "outputs": [
    {
     "name": "stdout",
     "output_type": "stream",
     "text": [
      "+--------------------+--------------------+------------------+-----------------------+\n",
      "|        product_name|     categories_tags|nutrition_grade_fr|nutrition-score-fr_100g|\n",
      "+--------------------+--------------------+------------------+-----------------------+\n",
      "|           Root Beer|en:beverages,en:c...|                 e|                     12|\n",
      "|  Sliced Plain Bagel|      en:pains-bagel|                 c|                      3|\n",
      "|Sea Salt Potato C...|en:chips-and-frie...|                 c|                      8|\n",
      "|        clam chowder|en:meals,en:soups...|                 b|                      2|\n",
      "|      Pizza Parlanno|en:meals,en:pizza...|                 d|                     11|\n",
      "|       Mac 'n Cheese|en:meals,en:micro...|                 c|                      4|\n",
      "|      Yellow Mustard|en:groceries,en:c...|                 b|                      0|\n",
      "|Vanilla Nonfat Yo...|en:dairies,en:fer...|                 a|                     -1|\n",
      "|          Tortellini|en:plant-based-fo...|                 c|                      9|\n",
      "|         Hello Panda|en:sugary-snacks,...|                 e|                     22|\n",
      "+--------------------+--------------------+------------------+-----------------------+\n",
      "only showing top 10 rows\n",
      "\n"
     ]
    }
   ],
   "source": [
    "#We drop the null values\n",
    "\n",
    "df_usa = df_usa.na.drop()\n",
    "df_usa.show(10)"
   ]
  },
  {
   "cell_type": "code",
   "execution_count": 115,
   "metadata": {},
   "outputs": [
    {
     "data": {
      "text/plain": [
       "2685"
      ]
     },
     "execution_count": 115,
     "metadata": {},
     "output_type": "execute_result"
    }
   ],
   "source": [
    "total_usa = df_usa.count()\n",
    "total_usa"
   ]
  },
  {
   "cell_type": "markdown",
   "metadata": {},
   "source": [
    "Over the 175479 data we have for the United States, 2685 are exploitable, that is only 1/65 !\n",
    "\n",
    "We see that only a very few datas are exploitable for the United States, even though it is a very big country.\n",
    "\n",
    "Thus we must be careful when we interpret our results. This data may not represent very well the United States."
   ]
  },
  {
   "cell_type": "code",
   "execution_count": 62,
   "metadata": {},
   "outputs": [
    {
     "name": "stdout",
     "output_type": "stream",
     "text": [
      "+------------------+-----+\n",
      "|nutrition_grade_fr|count|\n",
      "+------------------+-----+\n",
      "|                 a|  336|\n",
      "|                 b|  432|\n",
      "|                 c|  496|\n",
      "|                 d|  862|\n",
      "|                 e|  559|\n",
      "+------------------+-----+\n",
      "\n"
     ]
    }
   ],
   "source": [
    "#We count the number of products for each nutri-score in the united states\n",
    "\n",
    "counted_nutriscore_usa = df_usa.groupBy('nutrition_grade_fr').count().sort(\"nutrition_grade_fr\")\n",
    "counted_nutriscore_usa.show()"
   ]
  },
  {
   "cell_type": "code",
   "execution_count": 63,
   "metadata": {},
   "outputs": [
    {
     "data": {
      "text/plain": [
       "Text(0.5, 0, 'Nutri-Score')"
      ]
     },
     "execution_count": 63,
     "metadata": {},
     "output_type": "execute_result"
    },
    {
     "data": {
      "image/png": "[encoded data removed]",
      "text/plain": [
       "<Figure size 792x432 with 1 Axes>"
      ]
     },
     "metadata": {
      "needs_background": "light"
     },
     "output_type": "display_data"
    }
   ],
   "source": [
    "#We create a panda dataframe from the spark dataframe, then we plot our results\n",
    "\n",
    "pd_nutriscore_usa = counted_nutriscore_usa.toPandas()\n",
    "\n",
    "pd_nutriscore_usa.plot.bar(x= 'nutrition_grade_fr', y = 'count', rot=0, figsize=(11,6), color= score_colors)\n",
    "plt.title(\"Number of products available in the United States depending on the Nutri-Score\")\n",
    "plt.xlabel(\"Nutri-Score\")"
   ]
  },
  {
   "cell_type": "markdown",
   "metadata": {},
   "source": [
    "### Beverages"
   ]
  },
  {
   "cell_type": "code",
   "execution_count": 126,
   "metadata": {},
   "outputs": [
    {
     "name": "stdout",
     "output_type": "stream",
     "text": [
      "+--------------------+--------------------+------------------+-----------------------+\n",
      "|        product_name|     categories_tags|nutrition_grade_fr|nutrition-score-fr_100g|\n",
      "+--------------------+--------------------+------------------+-----------------------+\n",
      "|           Root Beer|en:beverages,en:c...|                 e|                     12|\n",
      "|         Ginger Beer|en:plant-based-fo...|                 e|                     14|\n",
      "|D' Sabor, Aloe Ve...|en:plant-based-fo...|                 e|                     10|\n",
      "|D' Sabor, Aloe Ve...|en:plant-based-fo...|                 e|                     10|\n",
      "|100% Juice Unfilt...|en:plant-based-fo...|                 c|                      5|\n",
      "|100% Juice Apple ...|en:plant-based-fo...|                 c|                      5|\n",
      "|    100% Apple Juice|en:plant-based-fo...|                 c|                      5|\n",
      "|   100% Juice, Apple|en:plant-based-fo...|                 c|                      5|\n",
      "|    100% Apple Juice|en:plant-based-fo...|                 c|                      5|\n",
      "|Aloe Vera Drink, ...|en:plant-based-fo...|                 e|                     14|\n",
      "+--------------------+--------------------+------------------+-----------------------+\n",
      "only showing top 10 rows\n",
      "\n"
     ]
    }
   ],
   "source": [
    "# We select the beverages, in a new dataframe we create\n",
    "\n",
    "usa_beverages = df_usa.filter(df_usa.categories_tags.contains(\"en:beverages\"))\n",
    "usa_beverages.show(10)"
   ]
  },
  {
   "cell_type": "code",
   "execution_count": 38,
   "metadata": {},
   "outputs": [
    {
     "data": {
      "text/plain": [
       "342"
      ]
     },
     "execution_count": 38,
     "metadata": {},
     "output_type": "execute_result"
    }
   ],
   "source": [
    "tot_bev_usa = usa_beverages.count()\n",
    "tot_bev_usa"
   ]
  },
  {
   "cell_type": "markdown",
   "metadata": {},
   "source": [
    "Over the 2685 exploitable data for the United States, 342 are beverages, that is around 1/8."
   ]
  },
  {
   "cell_type": "code",
   "execution_count": 65,
   "metadata": {},
   "outputs": [
    {
     "name": "stdout",
     "output_type": "stream",
     "text": [
      "+------------------+-----+\n",
      "|nutrition_grade_fr|count|\n",
      "+------------------+-----+\n",
      "|                 a|    7|\n",
      "|                 b|   55|\n",
      "|                 c|   62|\n",
      "|                 d|   67|\n",
      "|                 e|  151|\n",
      "+------------------+-----+\n",
      "\n"
     ]
    }
   ],
   "source": [
    "#We count the number of beverages for each nutri-score\n",
    "\n",
    "beverage_score_usa = usa_beverages.groupBy('nutrition_grade_fr').count().sort(\"nutrition_grade_fr\")\n",
    "beverage_score_usa.show()"
   ]
  },
  {
   "cell_type": "code",
   "execution_count": 116,
   "metadata": {},
   "outputs": [
    {
     "data": {
      "text/plain": [
       "Text(0.5, 0, 'Nutri-Score')"
      ]
     },
     "execution_count": 116,
     "metadata": {},
     "output_type": "execute_result"
    },
    {
     "data": {
      "image/png": "[encoded data removed]",
      "text/plain": [
       "<Figure size 792x432 with 1 Axes>"
      ]
     },
     "metadata": {
      "needs_background": "light"
     },
     "output_type": "display_data"
    }
   ],
   "source": [
    "#We create a panda dataframe from the spark dataframe\n",
    "\n",
    "pd_beverages_usa = beverage_score_usa.toPandas()\n",
    "\n",
    "#Then we plot our results\n",
    "\n",
    "pd_beverages_usa.plot.bar(x= 'nutrition_grade_fr', y = 'count', rot=0, figsize=(11,6), color=score_colors)\n",
    "plt.title(\"Number of beverages available in the United States depending on the Nutri-Score\")\n",
    "plt.xlabel(\"Nutri-Score\")"
   ]
  },
  {
   "cell_type": "markdown",
   "metadata": {},
   "source": [
    "# Overall comparison"
   ]
  },
  {
   "cell_type": "markdown",
   "metadata": {},
   "source": [
    "In this part we want to directly compare the proportion of each Nutri-Score (a, b, c, d and e), for the different countries.\n",
    "\n",
    "As the datasets for the different countries have different sizes, we need to use percentages to be able to do the comparison."
   ]
  },
  {
   "cell_type": "code",
   "execution_count": 129,
   "metadata": {},
   "outputs": [],
   "source": [
    "#We calculate the percentages for the different nutri-score for each country\n",
    "\n",
    "nb_lines = len(pd_nutriscore_france.iloc[:,0])\n",
    "\n",
    "France_percent = []\n",
    "Switzerland_percent = []\n",
    "United_States_percent = []\n",
    "nutri_score = []\n",
    "\n",
    "for i in range (0, nb_lines):\n",
    "    nutri_score.append(pd_nutriscore_france.iloc[i, 0])\n",
    "    France_percent.append(pd_nutriscore_france.iloc[i,1]/total_france*100)\n",
    "    Switzerland_percent.append(pd_nutriscore_switzerland.iloc[i,1]/total_switz*100)\n",
    "    United_States_percent.append(pd_nutriscore_usa.iloc[i,1]/total_usa*100)\n"
   ]
  },
  {
   "cell_type": "code",
   "execution_count": 130,
   "metadata": {},
   "outputs": [
    {
     "data": {
      "text/html": [
       "<div>\n",
       "<style scoped>\n",
       "    .dataframe tbody tr th:only-of-type {\n",
       "        vertical-align: middle;\n",
       "    }\n",
       "\n",
       "    .dataframe tbody tr th {\n",
       "        vertical-align: top;\n",
       "    }\n",
       "\n",
       "    .dataframe thead th {\n",
       "        text-align: right;\n",
       "    }\n",
       "</style>\n",
       "<table border=\"1\" class=\"dataframe\">\n",
       "  <thead>\n",
       "    <tr style=\"text-align: right;\">\n",
       "      <th></th>\n",
       "      <th>France</th>\n",
       "      <th>Switzerland</th>\n",
       "      <th>United States</th>\n",
       "    </tr>\n",
       "    <tr>\n",
       "      <th>Nutri-score</th>\n",
       "      <th></th>\n",
       "      <th></th>\n",
       "      <th></th>\n",
       "    </tr>\n",
       "  </thead>\n",
       "  <tbody>\n",
       "    <tr>\n",
       "      <th>a</th>\n",
       "      <td>13.075869</td>\n",
       "      <td>16.199866</td>\n",
       "      <td>12.513966</td>\n",
       "    </tr>\n",
       "    <tr>\n",
       "      <th>b</th>\n",
       "      <td>13.865388</td>\n",
       "      <td>14.877885</td>\n",
       "      <td>16.089385</td>\n",
       "    </tr>\n",
       "    <tr>\n",
       "      <th>c</th>\n",
       "      <td>20.668779</td>\n",
       "      <td>20.098588</td>\n",
       "      <td>18.472998</td>\n",
       "    </tr>\n",
       "    <tr>\n",
       "      <th>d</th>\n",
       "      <td>29.354341</td>\n",
       "      <td>27.335873</td>\n",
       "      <td>32.104283</td>\n",
       "    </tr>\n",
       "    <tr>\n",
       "      <th>e</th>\n",
       "      <td>23.035623</td>\n",
       "      <td>21.487788</td>\n",
       "      <td>20.819367</td>\n",
       "    </tr>\n",
       "  </tbody>\n",
       "</table>\n",
       "</div>"
      ],
      "text/plain": [
       "                France  Switzerland  United States\n",
       "Nutri-score                                       \n",
       "a            13.075869    16.199866      12.513966\n",
       "b            13.865388    14.877885      16.089385\n",
       "c            20.668779    20.098588      18.472998\n",
       "d            29.354341    27.335873      32.104283\n",
       "e            23.035623    21.487788      20.819367"
      ]
     },
     "execution_count": 130,
     "metadata": {},
     "output_type": "execute_result"
    }
   ],
   "source": [
    "#We create a panda dataframe with these percentages\n",
    "\n",
    "df_comparison = pd.DataFrame({'France': France_percent, 'Switzerland': Switzerland_percent, 'United States': United_States_percent, 'Nutri-score': nutri_score}).set_index('Nutri-score')\n",
    "\n",
    "df_comparison"
   ]
  },
  {
   "cell_type": "code",
   "execution_count": 131,
   "metadata": {},
   "outputs": [
    {
     "data": {
      "text/plain": [
       "Text(0, 0.5, 'Percentage')"
      ]
     },
     "execution_count": 131,
     "metadata": {},
     "output_type": "execute_result"
    },
    {
     "data": {
      "image/png": "[encoded data removed]",
      "text/plain": [
       "<Figure size 792x432 with 1 Axes>"
      ]
     },
     "metadata": {
      "needs_background": "light"
     },
     "output_type": "display_data"
    }
   ],
   "source": [
    "#Then we plot our results\n",
    "\n",
    "df_comparison.plot.bar(rot=0, figsize=(11,6), color=('b', 'r', 'darkgrey'))\n",
    "\n",
    "plt.title(\"Percentage of products per nutri-score available in different countries\")\n",
    "plt.xlabel(\"Nutri-Score\")\n",
    "plt.ylabel(\"Percentage\")"
   ]
  },
  {
   "cell_type": "markdown",
   "metadata": {},
   "source": [
    "### Beverages"
   ]
  },
  {
   "cell_type": "code",
   "execution_count": 132,
   "metadata": {},
   "outputs": [],
   "source": [
    "#This time we calculate the percentages for the different nutri-score for each country for the beverages\n",
    "\n",
    "nb_lines = len(pd_beverages_france.iloc[:,0])\n",
    "\n",
    "France_bev_percent = []\n",
    "Switzerland_bev_percent = []\n",
    "United_States_bev_percent = []\n",
    "#nutri_score = []\n",
    "\n",
    "for i in range (0, nb_lines):\n",
    "  #  nutri_score.append(pd_nutriscore_france.index[i])\n",
    "    France_bev_percent.append(pd_beverages_france.iloc[i,1]/tot_bev_france*100)\n",
    "    Switzerland_bev_percent.append(pd_beverages_switzerland.iloc[i,1]/tot_bev_switz*100)\n",
    "    United_States_bev_percent.append(pd_beverages_usa.iloc[i,1]/tot_bev_usa*100)\n",
    "\n"
   ]
  },
  {
   "cell_type": "code",
   "execution_count": 133,
   "metadata": {},
   "outputs": [
    {
     "data": {
      "text/html": [
       "<div>\n",
       "<style scoped>\n",
       "    .dataframe tbody tr th:only-of-type {\n",
       "        vertical-align: middle;\n",
       "    }\n",
       "\n",
       "    .dataframe tbody tr th {\n",
       "        vertical-align: top;\n",
       "    }\n",
       "\n",
       "    .dataframe thead th {\n",
       "        text-align: right;\n",
       "    }\n",
       "</style>\n",
       "<table border=\"1\" class=\"dataframe\">\n",
       "  <thead>\n",
       "    <tr style=\"text-align: right;\">\n",
       "      <th></th>\n",
       "      <th>France</th>\n",
       "      <th>Switzerland</th>\n",
       "      <th>United States</th>\n",
       "    </tr>\n",
       "    <tr>\n",
       "      <th>Nutri-score</th>\n",
       "      <th></th>\n",
       "      <th></th>\n",
       "      <th></th>\n",
       "    </tr>\n",
       "  </thead>\n",
       "  <tbody>\n",
       "    <tr>\n",
       "      <th>a</th>\n",
       "      <td>1.543550</td>\n",
       "      <td>3.351955</td>\n",
       "      <td>2.046784</td>\n",
       "    </tr>\n",
       "    <tr>\n",
       "      <th>b</th>\n",
       "      <td>17.069849</td>\n",
       "      <td>18.249534</td>\n",
       "      <td>16.081871</td>\n",
       "    </tr>\n",
       "    <tr>\n",
       "      <th>c</th>\n",
       "      <td>18.328037</td>\n",
       "      <td>22.346369</td>\n",
       "      <td>18.128655</td>\n",
       "    </tr>\n",
       "    <tr>\n",
       "      <th>d</th>\n",
       "      <td>16.181335</td>\n",
       "      <td>21.601490</td>\n",
       "      <td>19.590643</td>\n",
       "    </tr>\n",
       "    <tr>\n",
       "      <th>e</th>\n",
       "      <td>46.877229</td>\n",
       "      <td>34.450652</td>\n",
       "      <td>44.152047</td>\n",
       "    </tr>\n",
       "  </tbody>\n",
       "</table>\n",
       "</div>"
      ],
      "text/plain": [
       "                France  Switzerland  United States\n",
       "Nutri-score                                       \n",
       "a             1.543550     3.351955       2.046784\n",
       "b            17.069849    18.249534      16.081871\n",
       "c            18.328037    22.346369      18.128655\n",
       "d            16.181335    21.601490      19.590643\n",
       "e            46.877229    34.450652      44.152047"
      ]
     },
     "execution_count": 133,
     "metadata": {},
     "output_type": "execute_result"
    }
   ],
   "source": [
    "#We create a panda dataframe with these percentages\n",
    "\n",
    "df_comparison_beverages = pd.DataFrame({'France': France_bev_percent, 'Switzerland': Switzerland_bev_percent, 'United States': United_States_bev_percent, 'Nutri-score': nutri_score}).set_index('Nutri-score')\n",
    "\n",
    "df_comparison_beverages"
   ]
  },
  {
   "cell_type": "code",
   "execution_count": 134,
   "metadata": {},
   "outputs": [
    {
     "data": {
      "text/plain": [
       "Text(0, 0.5, 'Percentage')"
      ]
     },
     "execution_count": 134,
     "metadata": {},
     "output_type": "execute_result"
    },
    {
     "data": {
      "image/png": "[encoded data removed]",
      "text/plain": [
       "<Figure size 792x432 with 1 Axes>"
      ]
     },
     "metadata": {
      "needs_background": "light"
     },
     "output_type": "display_data"
    }
   ],
   "source": [
    "#Then we plot our results\n",
    "\n",
    "df_comparison_beverages.plot.bar(rot=0, figsize=(11,6), color=('b', 'r', 'darkgrey'))\n",
    "\n",
    "plt.title(\"Percentage of beverages per nutri-score available in different countries\")\n",
    "plt.xlabel(\"Nutri-Score\")\n",
    "plt.ylabel(\"Percentage\")"
   ]
  },
  {
   "cell_type": "markdown",
   "metadata": {},
   "source": [
    "First, we need to be careful, because the dataset we have is not complete. A lot of products are still not on the OpenFactFood website, and thus are not treated. Furthermore, the product we have are products available in the countries, but we do not know how popular they are, and if people do consume them a lot or not.\n",
    "\n",
    "Here, we do not see any big difference between France, Switzerland and the United States.\n",
    "It could be biaised due to the fact that the majority of the products in the United States are not on the website already.\n",
    "\n",
    "Maybe we should then focus on much more specific and thus much smaller dataset.\n",
    "\n",
    "The overall tendency for all the products is an increase in number as the Nutri-Score increases from a to d, and then a small decrease from d to e.\n",
    "\n",
    "For the beverages, we observe an important increase in number of products available as the Nutri-Score increases from a to e. \n",
    "\n",
    "It means that the majority of the products available in supermarket have low nutritional values."
   ]
  }
 ],
 "metadata": {
  "kernelspec": {
   "display_name": "my_env1",
   "language": "python",
   "name": "my_env1"
  },
  "language_info": {
   "codemirror_mode": {
    "name": "ipython",
    "version": 3
   },
   "file_extension": ".py",
   "mimetype": "text/x-python",
   "name": "python",
   "nbconvert_exporter": "python",
   "pygments_lexer": "ipython3",
   "version": "3.6.7"
  }
 },
 "nbformat": 4,
 "nbformat_minor": 2
}
