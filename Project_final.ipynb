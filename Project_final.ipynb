{
 "cells": [
  {
   "cell_type": "code",
   "execution_count": 2,
   "metadata": {},
   "outputs": [],
   "source": [
    "import findspark\n",
    "findspark.init()\n",
    "import pyspark"
   ]
  },
  {
   "cell_type": "code",
   "execution_count": 75,
   "metadata": {},
   "outputs": [],
   "source": [
    "import pandas as pd\n",
    "import numpy as np\n",
    "\n",
    "from pyspark.sql import *\n",
    "from pyspark.sql.types import *\n",
    "\n",
    "from pyspark.sql.functions import explode\n",
    "from pyspark.sql.functions import split\n",
    "\n",
    "from pyspark.sql.functions import udf\n",
    "from pyspark.sql.functions import col\n",
    "\n",
    "import matplotlib.pyplot as plt\n",
    "\n",
    "from geopy.geocoders import Nominatim\n",
    "from geopy import distance\n",
    "from babel import Locale"
   ]
  },
  {
   "cell_type": "code",
   "execution_count": 4,
   "metadata": {},
   "outputs": [],
   "source": [
    "import plotly as pyy\n",
    "import plotly.plotly as py\n",
    "import plotly.graph_objs as go\n",
    "pyy.tools.set_credentials_file(username='frederic.bischoff',api_key='TEQ3zcIlRzzdVP08naSo')"
   ]
  },
  {
   "cell_type": "code",
   "execution_count": 5,
   "metadata": {},
   "outputs": [],
   "source": [
    "#to generate colors\n",
    "import seaborn as sns\n",
    "sns.set()"
   ]
  },
  {
   "cell_type": "code",
   "execution_count": 6,
   "metadata": {},
   "outputs": [],
   "source": [
    "spark = SparkSession.builder.getOrCreate()"
   ]
  },
  {
   "cell_type": "code",
   "execution_count": 7,
   "metadata": {},
   "outputs": [],
   "source": [
    "import json\n",
    "import folium\n",
    "import branca.colormap as cm"
   ]
  },
  {
   "cell_type": "code",
   "execution_count": 8,
   "metadata": {},
   "outputs": [],
   "source": [
    "from pyspark.sql.functions import initcap"
   ]
  },
  {
   "cell_type": "markdown",
   "metadata": {},
   "source": [
    "# Openfoodfact data "
   ]
  },
  {
   "cell_type": "code",
   "execution_count": 9,
   "metadata": {},
   "outputs": [],
   "source": [
    "#We load the entire OpenFoodFacts file\n",
    "\n",
    "df_data = spark.read.option(\"sep\", \"\\t\").option(\"header\", True).csv('./data/data.csv')"
   ]
  },
  {
   "cell_type": "code",
   "execution_count": 10,
   "metadata": {},
   "outputs": [
    {
     "data": {
      "text/plain": [
       "DataFrame[code: string, url: string, creator: string, created_t: string, created_datetime: string, last_modified_t: string, last_modified_datetime: string, product_name: string, generic_name: string, quantity: string, packaging: string, packaging_tags: string, brands: string, brands_tags: string, categories: string, categories_tags: string, categories_en: string, origins: string, origins_tags: string, manufacturing_places: string, manufacturing_places_tags: string, labels: string, labels_tags: string, labels_en: string, emb_codes: string, emb_codes_tags: string, first_packaging_code_geo: string, cities: string, cities_tags: string, purchase_places: string, stores: string, countries: string, countries_tags: string, countries_en: string, ingredients_text: string, allergens: string, allergens_en: string, traces: string, traces_tags: string, traces_en: string, serving_size: string, serving_quantity: string, no_nutriments: string, additives_n: string, additives: string, additives_tags: string, additives_en: string, ingredients_from_palm_oil_n: string, ingredients_from_palm_oil: string, ingredients_from_palm_oil_tags: string, ingredients_that_may_be_from_palm_oil_n: string, ingredients_that_may_be_from_palm_oil: string, ingredients_that_may_be_from_palm_oil_tags: string, nutrition_grade_uk: string, nutrition_grade_fr: string, pnns_groups_1: string, pnns_groups_2: string, states: string, states_tags: string, states_en: string, main_category: string, main_category_en: string, image_url: string, image_small_url: string, image_ingredients_url: string, image_ingredients_small_url: string, image_nutrition_url: string, image_nutrition_small_url: string, energy_100g: string, energy-from-fat_100g: string, fat_100g: string, saturated-fat_100g: string, -butyric-acid_100g: string, -caproic-acid_100g: string, -caprylic-acid_100g: string, -capric-acid_100g: string, -lauric-acid_100g: string, -myristic-acid_100g: string, -palmitic-acid_100g: string, -stearic-acid_100g: string, -arachidic-acid_100g: string, -behenic-acid_100g: string, -lignoceric-acid_100g: string, -cerotic-acid_100g: string, -montanic-acid_100g: string, -melissic-acid_100g: string, monounsaturated-fat_100g: string, polyunsaturated-fat_100g: string, omega-3-fat_100g: string, -alpha-linolenic-acid_100g: string, -eicosapentaenoic-acid_100g: string, -docosahexaenoic-acid_100g: string, omega-6-fat_100g: string, -linoleic-acid_100g: string, -arachidonic-acid_100g: string, -gamma-linolenic-acid_100g: string, -dihomo-gamma-linolenic-acid_100g: string, omega-9-fat_100g: string, -oleic-acid_100g: string, -elaidic-acid_100g: string, -gondoic-acid_100g: string, -mead-acid_100g: string, -erucic-acid_100g: string, -nervonic-acid_100g: string, trans-fat_100g: string, cholesterol_100g: string, carbohydrates_100g: string, sugars_100g: string, -sucrose_100g: string, -glucose_100g: string, -fructose_100g: string, -lactose_100g: string, -maltose_100g: string, -maltodextrins_100g: string, starch_100g: string, polyols_100g: string, fiber_100g: string, proteins_100g: string, casein_100g: string, serum-proteins_100g: string, nucleotides_100g: string, salt_100g: string, sodium_100g: string, alcohol_100g: string, vitamin-a_100g: string, beta-carotene_100g: string, vitamin-d_100g: string, vitamin-e_100g: string, vitamin-k_100g: string, vitamin-c_100g: string, vitamin-b1_100g: string, vitamin-b2_100g: string, vitamin-pp_100g: string, vitamin-b6_100g: string, vitamin-b9_100g: string, folates_100g: string, vitamin-b12_100g: string, biotin_100g: string, pantothenic-acid_100g: string, silica_100g: string, bicarbonate_100g: string, potassium_100g: string, chloride_100g: string, calcium_100g: string, phosphorus_100g: string, iron_100g: string, magnesium_100g: string, zinc_100g: string, copper_100g: string, manganese_100g: string, fluoride_100g: string, selenium_100g: string, chromium_100g: string, molybdenum_100g: string, iodine_100g: string, caffeine_100g: string, taurine_100g: string, ph_100g: string, fruits-vegetables-nuts_100g: string, fruits-vegetables-nuts-estimate_100g: string, collagen-meat-protein-ratio_100g: string, cocoa_100g: string, chlorophyl_100g: string, carbon-footprint_100g: string, nutrition-score-fr_100g: string, nutrition-score-uk_100g: string, glycemic-index_100g: string, water-hardness_100g: string, choline_100g: string, phylloquinone_100g: string, beta-glucan_100g: string, inositol_100g: string, carnitine_100g: string]"
      ]
     },
     "execution_count": 10,
     "metadata": {},
     "output_type": "execute_result"
    }
   ],
   "source": [
    "#The title of the features\n",
    "df_data"
   ]
  },
  {
   "cell_type": "markdown",
   "metadata": {},
   "source": [
    "# Part 1: Nutri-Score\n",
    "### Which countries have the healthiest alimentation? "
   ]
  },
  {
   "cell_type": "markdown",
   "metadata": {},
   "source": [
    "We check which countries are the most represented in the datafile.\n",
    "\n",
    "Before manipulating the data to exploit themn we wanted to know which country have the most product on OpenFactFood, according to this results we will decide on which country we will focus for the analysis."
   ]
  },
  {
   "cell_type": "code",
   "execution_count": 11,
   "metadata": {},
   "outputs": [
    {
     "name": "stdout",
     "output_type": "stream",
     "text": [
      "+-------------------+------+\n",
      "|     countries_tags| count|\n",
      "+-------------------+------+\n",
      "|          en:france|446394|\n",
      "|   en:united-states|175478|\n",
      "|         en:germany| 19489|\n",
      "|     en:switzerland| 19365|\n",
      "|         en:belgium|  9735|\n",
      "|           en:spain|  8341|\n",
      "|  en:united-kingdom|  8086|\n",
      "|          en:canada|  3805|\n",
      "|           en:italy|  3035|\n",
      "|       en:australia|  2694|\n",
      "|          en:mexico|  2360|\n",
      "|          en:russia|  2203|\n",
      "|     en:netherlands|  1548|\n",
      "|          en:sweden|  1526|\n",
      "|        en:portugal|  1441|\n",
      "|         en:denmark|   949|\n",
      "|         en:austria|   928|\n",
      "|         en:romania|   799|\n",
      "|  en:czech-republic|   646|\n",
      "|         en:hungary|   643|\n",
      "|      en:luxembourg|   613|\n",
      "|          en:serbia|   595|\n",
      "|         en:ireland|   588|\n",
      "|         en:reunion|   552|\n",
      "|          en:brazil|   529|\n",
      "|         en:morocco|   501|\n",
      "|           en:japan|   493|\n",
      "|         en:algeria|   491|\n",
      "|      en:guadeloupe|   484|\n",
      "|              en:en|   477|\n",
      "|          en:poland|   435|\n",
      "|        en:thailand|   404|\n",
      "|           en:india|   403|\n",
      "|en:french-polynesia|   393|\n",
      "|       en:hong-kong|   375|\n",
      "|      en:martinique|   314|\n",
      "|          en:norway|   292|\n",
      "|           en:china|   273|\n",
      "|         en:tunisia|   270|\n",
      "|   en:new-caledonia|   254|\n",
      "+-------------------+------+\n",
      "only showing top 40 rows\n",
      "\n"
     ]
    }
   ],
   "source": [
    "#We split the countries_tags column to have single country in each row.\n",
    "#Then we count the occurrence of each country, and order them from the bigger to the smaller count.\n",
    "\n",
    "countries = df_data.select(explode(split('countries_tags', ','))).withColumnRenamed(\"col\", \"countries_tags\")\n",
    "#countries.show(200)\n",
    "\n",
    "counted_countries = countries.groupBy('countries_tags').count().sort(\"count\", ascending = False)\n",
    "counted_countries.show(40)"
   ]
  },
  {
   "cell_type": "code",
   "execution_count": 12,
   "metadata": {},
   "outputs": [],
   "source": [
    "df_countries = counted_countries.toPandas() "
   ]
  },
  {
   "cell_type": "markdown",
   "metadata": {},
   "source": [
    "Then, we wanted to see the most represented categories, to be able to treat not only the entire dataset, but also interesting sub-datasets."
   ]
  },
  {
   "cell_type": "code",
   "execution_count": 13,
   "metadata": {},
   "outputs": [
    {
     "name": "stdout",
     "output_type": "stream",
     "text": [
      "+------------------------------------+-----+\n",
      "|categories_tags                     |count|\n",
      "+------------------------------------+-----+\n",
      "|en:plant-based-foods-and-beverages  |51261|\n",
      "|en:plant-based-foods                |43981|\n",
      "|en:beverages                        |29798|\n",
      "|en:sugary-snacks                    |26277|\n",
      "|en:dairies                          |18477|\n",
      "|en:non-alcoholic-beverages          |16523|\n",
      "|en:meals                            |15601|\n",
      "|en:fruits-and-vegetables-based-foods|15362|\n",
      "|en:cereals-and-potatoes             |15324|\n",
      "|en:fermented-foods                  |12164|\n",
      "|en:fermented-milk-products          |12127|\n",
      "|en:biscuits-and-cakes               |11895|\n",
      "|en:spreads                          |10928|\n",
      "|en:cereals-and-their-products       |9792 |\n",
      "|en:meats                            |9686 |\n",
      "|en:groceries                        |9583 |\n",
      "|en:breakfasts                       |9547 |\n",
      "|en:desserts                         |9091 |\n",
      "|en:plant-based-beverages            |8633 |\n",
      "|en:fruits-based-foods               |8049 |\n",
      "+------------------------------------+-----+\n",
      "only showing top 20 rows\n",
      "\n"
     ]
    }
   ],
   "source": [
    "#We split the categories_tags column to have single categoriy in each row.\n",
    "#Then we count the occurrence of each category, and order them from the bigger to the smaller count.\n",
    "\n",
    "categories = df_data.select(explode(split('categories_tags', ','))).withColumnRenamed(\"col\", \"categories_tags\")\n",
    "#categories.show(200, False)\n",
    "\n",
    "counted_categories = categories.groupBy('categories_tags').count().sort(\"count\", ascending = False)\n",
    "counted_categories.show(20, False)"
   ]
  },
  {
   "cell_type": "markdown",
   "metadata": {},
   "source": [
    "## A/ General overview of the top 20 countries alimentation"
   ]
  },
  {
   "cell_type": "markdown",
   "metadata": {},
   "source": [
    "Here we will focus on the top 20 countries with the most products, that means, according to the table of last part, that we will study countries from France with 446394 products to czech-republic with 646 products.\n"
   ]
  },
  {
   "cell_type": "code",
   "execution_count": 14,
   "metadata": {},
   "outputs": [],
   "source": [
    "def NutriScoreCountry(country_tag_name):\n",
    "    df_country =  df_data.where(df_data.countries_tags.contains(country_tag_name)).select('product_name'\n",
    "                                                                               ,'categories_tags'\n",
    "                                                                               ,'nutrition_grade_fr'\n",
    "                                                                               , 'nutrition-score-fr_100g')\n",
    "    df_country = df_country.na.drop()\n",
    "    count_all = df_country.count()\n",
    "    counted_nutriscore = df_country.groupBy('nutrition_grade_fr').count().sort(\"nutrition_grade_fr\")\n",
    "    pd_nutriscore = counted_nutriscore.toPandas()\n",
    "    pd_nutriscore['count'] = (pd_nutriscore['count']/ count_all)*100\n",
    "    \n",
    "    #prepare the data to create an interactive histogram\n",
    "    x=pd_nutriscore['nutrition_grade_fr'].tolist()\n",
    "    y=pd_nutriscore['count'].tolist()\n",
    "    country_name = country_tag_name.replace('en:', '').capitalize()\n",
    "    \n",
    "    return x,y,country_name"
   ]
  },
  {
   "cell_type": "code",
   "execution_count": 15,
   "metadata": {},
   "outputs": [],
   "source": [
    "from IPython.display import IFrame"
   ]
  },
  {
   "cell_type": "code",
   "execution_count": 16,
   "metadata": {},
   "outputs": [
    {
     "name": "stdout",
     "output_type": "stream",
     "text": [
      "High five! You successfully sent some data to your account on plotly. View your plot in your browser at https://plot.ly/~frederic.bischoff/0 or inside your plot.ly account where it is named 'angled-text-bar'\n"
     ]
    },
    {
     "data": {
      "text/html": [
       "<iframe id=\"igraph\" scrolling=\"no\" style=\"border:none;\" seamless=\"seamless\" src=\"https://plot.ly/~frederic.bischoff/0.embed\" height=\"525px\" width=\"100%\"></iframe>"
      ],
      "text/plain": [
       "<plotly.tools.PlotlyDisplay object>"
      ]
     },
     "execution_count": 16,
     "metadata": {},
     "output_type": "execute_result"
    }
   ],
   "source": [
    "nb_country = 20\n",
    "liste =(sns.color_palette(\"hls\", nb_country))\n",
    "data = []\n",
    "for j in range(0,nb_country):\n",
    "    country_tag = df_countries['countries_tags'][j]\n",
    "    labels,values,country_name =NutriScoreCountry(country_tag)\n",
    "    color_code ='rgb'+ str(liste[j])\n",
    "    Nutri_score = ['A','B','C','D','E']\n",
    "    trace = go.Bar(x=Nutri_score,y=values,name=country_name,marker=dict(color=color_code))\n",
    "    \n",
    "    data.append(trace)\n",
    "\n",
    "layout = go.Layout(\n",
    "    title='Proportion of products by Nutri-Score for different countries',\n",
    "    xaxis=dict(tickangle=0),\n",
    "    barmode='group',\n",
    ")\n",
    "\n",
    "fig = go.Figure(data=data, layout=layout)\n",
    "py.iplot(fig, filename='angled-text-bar')"
   ]
  },
  {
   "cell_type": "code",
   "execution_count": 17,
   "metadata": {},
   "outputs": [
    {
     "data": {
      "text/plain": [
       "'https://plot.ly/~frederic.bischoff/10'"
      ]
     },
     "execution_count": 17,
     "metadata": {},
     "output_type": "execute_result"
    }
   ],
   "source": [
    "#to download the html plot\n",
    "py.plot(fig,filename='Proportion_NutriScore_by_Countries.html')"
   ]
  },
  {
   "cell_type": "markdown",
   "metadata": {},
   "source": [
    "The plot above is the first figure on: https://openfactfoodada.github.io/Part1/\n",
    "\n",
    "According to the graph below, we see that Spain is the country that has the more products of category A avalaible with 23.6 % of the total products and the less products of category E with 12,9%.\n",
    "\n",
    "At the opposite we see that some countries from Eastern Europe have the fewest products of category A like Czech-republic, Dennmark and Romania 4 %,6,8 % and 9.4  % and are at the same time the countries that have the most products from the baddest category with 51%, 39% and 29% products from category E respectively.\n",
    "\n",
    "There are also some surprising country like Russia that are in the top 3 of the countries that have the most healthiest products (category A) with 18,3 % but that are also in the top 3 of the countries that have the less healthy products with 39,7% for category E in Russia.\n",
    "\n",
    "So in next part we will focus on this countries with extrem results but also some other countries with intermediate results that we know well: Switzerland, France and USA.\n",
    "\n",
    "For these countries we want to see if the difference of distribution of the products in the different catregories (A,B,C,D,E) is due to differents eating habits (there is a specificity in the type product avalaible in these countries) or if there is a difference in the composition of the products (it's not the type of product itself that is specific to the product but the ways it's produced).\n",
    "\n",
    "For that, in the next part we will first study the distribution of the top tag of products sold in these countries."
   ]
  },
  {
   "cell_type": "markdown",
   "metadata": {},
   "source": [
    "## B/ Focus on some countries"
   ]
  },
  {
   "cell_type": "markdown",
   "metadata": {},
   "source": [
    "In this part we want to see which are the top eight type of products sold in the countries we selected before. The product tag is a feature from OpenFactFood that allows to classify the products. The aim of this part is to see if the differences observed between countries in the first part are due to a specific diversity of product consummed in each of those country (some specific tags in each country due to local habits) or if the tags are the same and in the same distribution, in this case that would mean the difference would be in the composition of the product and not in the type of product."
   ]
  },
  {
   "cell_type": "code",
   "execution_count": 18,
   "metadata": {},
   "outputs": [],
   "source": [
    "def eightFirstTagsCountry(country,nb_tags):\n",
    "    #We create a dataframe with all the data for France\n",
    "\n",
    "    df_country = df_data.where(df_data.countries_tags.contains(country)).select('product_name'\n",
    "                                                                               ,'categories_tags'\n",
    "                                                                               ,'nutrition_grade_fr'\n",
    "                                                                               , 'nutrition-score-fr_100g')\n",
    "    df_country = df_country.na.drop()\n",
    "    \n",
    "    #We split the categories_tags column to have single category in each row.\n",
    "    #Then we count the occurrence of each category, and order them from the bigger to the smaller count.\n",
    "\n",
    "    categories_country = df_country.select(explode(split('categories_tags', ','))).withColumnRenamed(\"col\", \"categories_tags\")\n",
    "\n",
    "\n",
    "    pop_cat_country = categories_country.groupBy('categories_tags').count().sort(\"count\", ascending = False)\n",
    "    country_cat=pop_cat_country.toPandas()\n",
    "    ten_first=country_cat.head(nb_tags)\n",
    "    ten_first.loc[:,'count'] = ((ten_first['count'])/(ten_first['count'].sum()))*100\n",
    "    \n",
    "    ten_first = ten_first.rename(columns={'count': 'count_'+country})\n",
    "    \n",
    "    country_name = country.replace('en:', '').capitalize()\n",
    "\n",
    "    return (ten_first,country_name)"
   ]
  },
  {
   "cell_type": "code",
   "execution_count": 19,
   "metadata": {},
   "outputs": [
    {
     "name": "stderr",
     "output_type": "stream",
     "text": [
      "/anaconda3/lib/python3.6/site-packages/pandas/core/indexing.py:543: SettingWithCopyWarning:\n",
      "\n",
      "\n",
      "A value is trying to be set on a copy of a slice from a DataFrame.\n",
      "Try using .loc[row_indexer,col_indexer] = value instead\n",
      "\n",
      "See the caveats in the documentation: http://pandas.pydata.org/pandas-docs/stable/indexing.html#indexing-view-versus-copy\n",
      "\n"
     ]
    },
    {
     "data": {
      "text/html": [
       "<iframe id=\"igraph\" scrolling=\"no\" style=\"border:none;\" seamless=\"seamless\" src=\"https://plot.ly/~frederic.bischoff/4.embed\" height=\"525px\" width=\"100%\"></iframe>"
      ],
      "text/plain": [
       "<plotly.tools.PlotlyDisplay object>"
      ]
     },
     "execution_count": 19,
     "metadata": {},
     "output_type": "execute_result"
    }
   ],
   "source": [
    "nb_tags=8\n",
    "list_countries_tags=['en:france','en:united-states','en:switzerland','en:spain','en:romania','en:russia','en:denmark','en:czech-republic']\n",
    "list_country=[]\n",
    "#intialisation with a first tab to which we can add the others\n",
    "tab,country=eightFirstTagsCountry(list_countries_tags[0],nb_tags)\n",
    "del list_countries_tags[0]\n",
    "list_country.append(country)\n",
    "\n",
    "for countries in list_countries_tags:\n",
    "    tab1,country=eightFirstTagsCountry(countries,nb_tags)\n",
    "    list_country.append(country)\n",
    "    tab=tab.join(tab1.set_index('categories_tags'),how='outer', on='categories_tags')\n",
    "\n",
    "#clean the names of the categories\n",
    "tab['categories_tags']=tab['categories_tags'].apply(lambda x: x.replace('en:', '').capitalize())\n",
    "\n",
    "#fill the nan with zeros\n",
    "tab=tab.fillna(0)\n",
    "\n",
    "#reset the index\n",
    "tab=tab.reset_index(drop=True)\n",
    "\n",
    "#prepare the data for the bar chart\n",
    "data=[]\n",
    "for j in range(0,len(tab)):\n",
    "    line=tab.loc[j,:].tolist()\n",
    "    category=line[0]\n",
    "    del line[0]\n",
    "    value_category_per_country = line\n",
    "    \n",
    "    trace = go.Bar(\n",
    "    x= list_country,\n",
    "    y= value_category_per_country,\n",
    "    name=category\n",
    "    )\n",
    "    data.append(trace)\n",
    "\n",
    "#plot the bar chart   \n",
    "data = data\n",
    "layout = go.Layout(\n",
    "    title='Distribution of the top 8 product-categories for different countries',\n",
    "    barmode='stack'\n",
    ")\n",
    "\n",
    "fig = go.Figure(data=data, layout=layout)\n",
    "py.iplot(fig, filename='stacked-bar')"
   ]
  },
  {
   "cell_type": "code",
   "execution_count": 20,
   "metadata": {},
   "outputs": [
    {
     "data": {
      "text/plain": [
       "'https://plot.ly/~frederic.bischoff/6'"
      ]
     },
     "execution_count": 20,
     "metadata": {},
     "output_type": "execute_result"
    }
   ],
   "source": [
    "#Save the figure\n",
    "py.plot(fig,filename='countryTags8.html')"
   ]
  },
  {
   "cell_type": "markdown",
   "metadata": {},
   "source": [
    "The plot above is the second figure on: https://openfactfoodada.github.io/Part1/\n",
    "\n",
    "On the stacked bar chart above, we see that there is an important part of products that are commun to all the selected countries like \"plant based foods\", \"plant based foods and beverages\", \"sugary snacks\", \"beverages\", but the proportion of these products changes for each countries, we see for example that in Spain where we had particularly good results, the proprortion of plant based foods products is near 30% and the proportion of sugary snack is under 10%, whereas in Czech-Republic the proportion of plant based food is only 13% and the proportion of snacks is over 20%. That explains partially the results obtained in last part.\n",
    "\n",
    "But we also see that some type of products appears in the top 8 tags in some countries and not in others, for example for Russia,we see that in the top 8 tags we find three types of chocolates \"chocolates\", \"milk chocolate\", \"dark chocolate\" which explains why it was one the country that have the most of \"E\" products in the first part.\n",
    "\n",
    "We saw that for each country the representation of the top eight products is not the same and give a first explantation why the proportion of products by categories was so diffrent for some countries but theres is a core of product type that is the same for all the countries, and now we want to go further on this one.\n",
    "\n",
    "For these categories that are present in all countries: \"Plant based food\", \"Beverages\", \"Sugary snacks\",\"Dairies\",\"Meals\", and \"Cereals and potato\", we want to know if the distribution of product by categories (A,B,C,D,E) is different or similar. If the distributions are different between the countries, that would be an other element that explains the differences obeserved in first part.\n"
   ]
  },
  {
   "cell_type": "markdown",
   "metadata": {},
   "source": [
    "## C/ For given categories and countries"
   ]
  },
  {
   "cell_type": "markdown",
   "metadata": {},
   "source": [
    "For the categories that are present in all countries: \"Plant based food\", \"Beverages\", \"Sugary snacks\",\"Dairies\", \"Meals\" and \"Cereal and potato\", we want to plot the distribution of products by categories (A,B,C,D,E). Here we will focus on Spain the best ranked country in first part, Romania one East Europe country and the three last: Switzerland, USA and France that are commun to us.\n"
   ]
  },
  {
   "cell_type": "code",
   "execution_count": 21,
   "metadata": {},
   "outputs": [],
   "source": [
    "liste_labels=['en:plant-based-foods','en:beverages','en:sugary-snacks','en:dairies','en:meals','en:cereals-and-potatoes']"
   ]
  },
  {
   "cell_type": "code",
   "execution_count": 22,
   "metadata": {},
   "outputs": [],
   "source": [
    "#Function that gives the distribution by category (A,B,C,D,E) for a given tag product and a given country\n",
    "def prop_cat_country(country_tag,category_tag_name):\n",
    "    df_country =  df_data.where(df_data.countries_tags.contains(country_tag)).select('product_name'\n",
    "                                                                               ,'categories_tags'\n",
    "                                                                               ,'nutrition_grade_fr'\n",
    "                                                                               , 'nutrition-score-fr_100g').na.drop()\n",
    "\n",
    "    df_cat= df_country.filter(df_country.categories_tags.contains(category_tag_name))\n",
    "    tot_country = df_cat.count()\n",
    "\n",
    "    counted_country = df_cat.groupBy('nutrition_grade_fr').count().sort(\"nutrition_grade_fr\")\n",
    "    counted_country = counted_country.select(initcap('nutrition_grade_fr'), 'count').withColumnRenamed('initcap(nutrition_grade_fr)', 'nutrition_grade_fr')\n",
    "\n",
    "    df_counted_country = counted_country.toPandas()\n",
    "    df_counted_country.loc[:,'count']=(df_counted_country['count'])/(sum(df_counted_country['count']))*100\n",
    "      \n",
    "    x=df_counted_country['nutrition_grade_fr'].tolist()\n",
    "    y=df_counted_country['count'].tolist()\n",
    "    country_name = country_tag.replace('en:', '').capitalize()\n",
    "    \n",
    "    return x,y,country_name"
   ]
  },
  {
   "cell_type": "code",
   "execution_count": 23,
   "metadata": {},
   "outputs": [],
   "source": [
    "#Function that plot the distribution by category (A,B,C,D,E) for a given tag and a list of countries\n",
    "def tagsByCategory(category_tag_name):\n",
    "    list_countries_tags=['en:france','en:united-states','en:switzerland','en:spain','en:romania']\n",
    "    nb_country = len(list_countries_tags)\n",
    "    liste =(sns.color_palette(\"hls\", nb_country))\n",
    "    data=[]\n",
    "    for j in range (0,nb_country):    \n",
    "        labels,values,country_name =  prop_cat_country(list_countries_tags[j],category_tag_name)\n",
    "    \n",
    "        color_code ='rgb'+ str(liste[j])\n",
    "        trace = go.Bar(x=labels,y=values,name=country_name,marker=dict(color=color_code))\n",
    "    \n",
    "        data.append(trace)\n",
    "    \n",
    "        category = category_tag_name.replace('en:', '').capitalize()\n",
    "    \n",
    "    layout = go.Layout(\n",
    "        title='Proportion of ' +category +' products by Nutri-Score for different countries',\n",
    "        xaxis=dict(tickangle=0),\n",
    "        barmode='group',\n",
    "    )\n",
    "\n",
    "    fig = go.Figure(data=data, layout=layout)\n",
    "    py.iplot(fig, filename='categories_selected_countries')\n",
    "    py.plot(fig,filename=category)"
   ]
  },
  {
   "cell_type": "code",
   "execution_count": 24,
   "metadata": {},
   "outputs": [],
   "source": [
    "#Plot the distribution by category (A,B,C,D,E) for the list of choosen tags and the list of choosen countries\n",
    "for tag in liste_labels:\n",
    "    tagsByCategory(tag)"
   ]
  },
  {
   "cell_type": "markdown",
   "metadata": {},
   "source": [
    "The histograms of this last part are in the thirs part of this page, you can choose for which tag you want to see the histogram: https://openfactfoodada.github.io/Part1/"
   ]
  },
  {
   "cell_type": "markdown",
   "metadata": {},
   "source": [
    "With the graphs plotted above, we see that for plant based food and sugary snacks there are indeed a greater proportion of \"E\" products for Romania than in the others countries, that means it's not only the type of product available in a country that makes the distribution of products in categories A,B,C,D,E different but also the quality of these same type products.\n",
    "\n",
    "First of all, we need to be careful, because the dataset we have is not complete. A lot of products are still not on the OpenFactFood website, and thus are not treated. Furthermore, the product we have are products available in the countries, but we do not know how popular they are, and if people do consume them a lot or not."
   ]
  },
  {
   "cell_type": "markdown",
   "metadata": {},
   "source": [
    "# Part 2: What are the differences in the composition of a given product in different countries?"
   ]
  },
  {
   "cell_type": "markdown",
   "metadata": {},
   "source": [
    "In this part we wanted to compare the amount of sugar contained in different products that looks to be “the same”, across countries. Indeed, we wanted to know if those big companies known all around the world really adapt their products depending on the consumers they want to reach."
   ]
  },
  {
   "cell_type": "code",
   "execution_count": 25,
   "metadata": {},
   "outputs": [],
   "source": [
    "df_data.registerTempTable('tab_all')"
   ]
  },
  {
   "cell_type": "markdown",
   "metadata": {},
   "source": [
    "## Coca-Cola data"
   ]
  },
  {
   "cell_type": "code",
   "execution_count": 26,
   "metadata": {},
   "outputs": [
    {
     "name": "stdout",
     "output_type": "stream",
     "text": [
      "+------------+-----------+--------------------+\n",
      "|product_name|sugars_100g|           countries|\n",
      "+------------+-----------+--------------------+\n",
      "|   Coca-Cola|         11|    en:united-states|\n",
      "|   Coca-Cola|       10.8|    en:united-states|\n",
      "|   Coca-Cola|         11|    en:united-states|\n",
      "|   Coca-Cola|         11|    en:united-states|\n",
      "|   Coca Cola|       10.6|           en:france|\n",
      "|   Coca-Cola|       10.6|en:france,en:swit...|\n",
      "|   Coca Cola|         10|en:belgium,en:fra...|\n",
      "+------------+-----------+--------------------+\n",
      "only showing top 7 rows\n",
      "\n"
     ]
    }
   ],
   "source": [
    "#We create the coca dataframe, selecting the Coca-Cola products, with the help of the feature 'product_name'\n",
    "#We remove the values that seems to be outliers by putting limits for the feature sugars_100g\n",
    "\n",
    "query = \"\"\"\n",
    "SELECT product_name,sugars_100g, countries_tags AS countries\n",
    "FROM tab_all\n",
    "WHERE \n",
    "(product_name == 'Coca Cola' OR product_name == 'Coca-Cola')\n",
    "AND \n",
    "(sugars_100g>9.5 AND sugars_100g<20)\n",
    "\"\"\"\n",
    "\n",
    "df_coca = spark.sql(query)\n",
    "df_coca.show(7)"
   ]
  },
  {
   "cell_type": "code",
   "execution_count": 27,
   "metadata": {},
   "outputs": [
    {
     "name": "stdout",
     "output_type": "stream",
     "text": [
      "+------------+-----------+----------------+\n",
      "|product_name|sugars_100g|       countries|\n",
      "+------------+-----------+----------------+\n",
      "|   Coca-Cola|         11|en:united-states|\n",
      "|   Coca-Cola|       10.8|en:united-states|\n",
      "|   Coca-Cola|         11|en:united-states|\n",
      "|   Coca-Cola|         11|en:united-states|\n",
      "|   Coca Cola|       10.6|       en:france|\n",
      "+------------+-----------+----------------+\n",
      "only showing top 5 rows\n",
      "\n"
     ]
    }
   ],
   "source": [
    "#We split the \"countries\" column to have single country in each row.\n",
    "\n",
    "df_coca_new = df_coca.select(\"product_name\", \"sugars_100g\", explode(split('countries', ','))).withColumnRenamed(\"col\", \"countries\")\n",
    "df_coca_new.show(5)"
   ]
  },
  {
   "cell_type": "code",
   "execution_count": 28,
   "metadata": {},
   "outputs": [],
   "source": [
    "#We create a panda dataframe from the spark dataframe\n",
    "\n",
    "df_coca_pd=df_coca_new.toPandas()\n",
    "#df_coca_pd"
   ]
  },
  {
   "cell_type": "code",
   "execution_count": 29,
   "metadata": {},
   "outputs": [
    {
     "data": {
      "text/plain": [
       "product_name    object\n",
       "sugars_100g     object\n",
       "countries       object\n",
       "dtype: object"
      ]
     },
     "execution_count": 29,
     "metadata": {},
     "output_type": "execute_result"
    }
   ],
   "source": [
    "#We check the types of the features we are going to deal with\n",
    "\n",
    "df_coca_pd.dtypes"
   ]
  },
  {
   "cell_type": "code",
   "execution_count": 30,
   "metadata": {},
   "outputs": [],
   "source": [
    "#We need to convert the type of \"sugars_100g\" into a numerical type to be able to use the function \"aggregate\"\n",
    "\n",
    "df_coca_pd[\"sugars_100g\"] = df_coca_pd[\"sugars_100g\"].astype('float')"
   ]
  },
  {
   "cell_type": "code",
   "execution_count": 31,
   "metadata": {},
   "outputs": [
    {
     "data": {
      "text/html": [
       "<div>\n",
       "<style scoped>\n",
       "    .dataframe tbody tr th:only-of-type {\n",
       "        vertical-align: middle;\n",
       "    }\n",
       "\n",
       "    .dataframe tbody tr th {\n",
       "        vertical-align: top;\n",
       "    }\n",
       "\n",
       "    .dataframe thead th {\n",
       "        text-align: right;\n",
       "    }\n",
       "</style>\n",
       "<table border=\"1\" class=\"dataframe\">\n",
       "  <thead>\n",
       "    <tr style=\"text-align: right;\">\n",
       "      <th></th>\n",
       "      <th>sugars_100g</th>\n",
       "    </tr>\n",
       "    <tr>\n",
       "      <th>countries</th>\n",
       "      <th></th>\n",
       "    </tr>\n",
       "  </thead>\n",
       "  <tbody>\n",
       "    <tr>\n",
       "      <th>en:hungary</th>\n",
       "      <td>11.20</td>\n",
       "    </tr>\n",
       "    <tr>\n",
       "      <th>en:slovakia</th>\n",
       "      <td>11.20</td>\n",
       "    </tr>\n",
       "    <tr>\n",
       "      <th>en:united-states</th>\n",
       "      <td>11.00</td>\n",
       "    </tr>\n",
       "    <tr>\n",
       "      <th>en:czech-republic</th>\n",
       "      <td>10.90</td>\n",
       "    </tr>\n",
       "    <tr>\n",
       "      <th>en:georgia</th>\n",
       "      <td>10.90</td>\n",
       "    </tr>\n",
       "    <tr>\n",
       "      <th>en:serbia</th>\n",
       "      <td>10.75</td>\n",
       "    </tr>\n",
       "    <tr>\n",
       "      <th>en:south-africa</th>\n",
       "      <td>10.60</td>\n",
       "    </tr>\n",
       "    <tr>\n",
       "      <th>en:spain</th>\n",
       "      <td>10.60</td>\n",
       "    </tr>\n",
       "    <tr>\n",
       "      <th>en:sweden</th>\n",
       "      <td>10.60</td>\n",
       "    </tr>\n",
       "    <tr>\n",
       "      <th>en:morocco</th>\n",
       "      <td>10.60</td>\n",
       "    </tr>\n",
       "    <tr>\n",
       "      <th>en:switzerland</th>\n",
       "      <td>10.60</td>\n",
       "    </tr>\n",
       "    <tr>\n",
       "      <th>en:senegal</th>\n",
       "      <td>10.60</td>\n",
       "    </tr>\n",
       "    <tr>\n",
       "      <th>en:united-kingdom</th>\n",
       "      <td>10.60</td>\n",
       "    </tr>\n",
       "    <tr>\n",
       "      <th>en:saudi-arabia</th>\n",
       "      <td>10.60</td>\n",
       "    </tr>\n",
       "    <tr>\n",
       "      <th>en:reunion</th>\n",
       "      <td>10.60</td>\n",
       "    </tr>\n",
       "    <tr>\n",
       "      <th>en:portugal</th>\n",
       "      <td>10.60</td>\n",
       "    </tr>\n",
       "    <tr>\n",
       "      <th>en:pakistan</th>\n",
       "      <td>10.60</td>\n",
       "    </tr>\n",
       "    <tr>\n",
       "      <th>en:new-caledonia</th>\n",
       "      <td>10.60</td>\n",
       "    </tr>\n",
       "    <tr>\n",
       "      <th>en:netherlands</th>\n",
       "      <td>10.60</td>\n",
       "    </tr>\n",
       "    <tr>\n",
       "      <th>en:algeria</th>\n",
       "      <td>10.60</td>\n",
       "    </tr>\n",
       "    <tr>\n",
       "      <th>en:australia</th>\n",
       "      <td>10.60</td>\n",
       "    </tr>\n",
       "    <tr>\n",
       "      <th>en:mali</th>\n",
       "      <td>10.60</td>\n",
       "    </tr>\n",
       "    <tr>\n",
       "      <th>en:luxembourg</th>\n",
       "      <td>10.60</td>\n",
       "    </tr>\n",
       "    <tr>\n",
       "      <th>en:italy</th>\n",
       "      <td>10.60</td>\n",
       "    </tr>\n",
       "    <tr>\n",
       "      <th>en:iraq</th>\n",
       "      <td>10.60</td>\n",
       "    </tr>\n",
       "    <tr>\n",
       "      <th>en:india</th>\n",
       "      <td>10.60</td>\n",
       "    </tr>\n",
       "    <tr>\n",
       "      <th>en:germany</th>\n",
       "      <td>10.60</td>\n",
       "    </tr>\n",
       "    <tr>\n",
       "      <th>en:france</th>\n",
       "      <td>10.60</td>\n",
       "    </tr>\n",
       "    <tr>\n",
       "      <th>en:denmark</th>\n",
       "      <td>10.60</td>\n",
       "    </tr>\n",
       "    <tr>\n",
       "      <th>en:canada</th>\n",
       "      <td>10.60</td>\n",
       "    </tr>\n",
       "    <tr>\n",
       "      <th>en:cameroon</th>\n",
       "      <td>10.60</td>\n",
       "    </tr>\n",
       "    <tr>\n",
       "      <th>en:brazil</th>\n",
       "      <td>10.60</td>\n",
       "    </tr>\n",
       "    <tr>\n",
       "      <th>en:belgium</th>\n",
       "      <td>10.60</td>\n",
       "    </tr>\n",
       "    <tr>\n",
       "      <th>en:austria</th>\n",
       "      <td>10.60</td>\n",
       "    </tr>\n",
       "    <tr>\n",
       "      <th>en:martinique</th>\n",
       "      <td>10.60</td>\n",
       "    </tr>\n",
       "    <tr>\n",
       "      <th>en:philippines</th>\n",
       "      <td>10.40</td>\n",
       "    </tr>\n",
       "  </tbody>\n",
       "</table>\n",
       "</div>"
      ],
      "text/plain": [
       "                   sugars_100g\n",
       "countries                     \n",
       "en:hungary               11.20\n",
       "en:slovakia              11.20\n",
       "en:united-states         11.00\n",
       "en:czech-republic        10.90\n",
       "en:georgia               10.90\n",
       "en:serbia                10.75\n",
       "en:south-africa          10.60\n",
       "en:spain                 10.60\n",
       "en:sweden                10.60\n",
       "en:morocco               10.60\n",
       "en:switzerland           10.60\n",
       "en:senegal               10.60\n",
       "en:united-kingdom        10.60\n",
       "en:saudi-arabia          10.60\n",
       "en:reunion               10.60\n",
       "en:portugal              10.60\n",
       "en:pakistan              10.60\n",
       "en:new-caledonia         10.60\n",
       "en:netherlands           10.60\n",
       "en:algeria               10.60\n",
       "en:australia             10.60\n",
       "en:mali                  10.60\n",
       "en:luxembourg            10.60\n",
       "en:italy                 10.60\n",
       "en:iraq                  10.60\n",
       "en:india                 10.60\n",
       "en:germany               10.60\n",
       "en:france                10.60\n",
       "en:denmark               10.60\n",
       "en:canada                10.60\n",
       "en:cameroon              10.60\n",
       "en:brazil                10.60\n",
       "en:belgium               10.60\n",
       "en:austria               10.60\n",
       "en:martinique            10.60\n",
       "en:philippines           10.40"
      ]
     },
     "execution_count": 31,
     "metadata": {},
     "output_type": "execute_result"
    }
   ],
   "source": [
    "#We group by country, and, for each given country, we calculate the median of sugars per 100g\n",
    "#and order the countries from the bigger to the smaller amount of sugar.\n",
    "\n",
    "df_coca_g=df_coca_pd.groupby('countries').aggregate(np.median).sort_values(\"sugars_100g\", axis=0, ascending=False)\n",
    "df_coca_g"
   ]
  },
  {
   "cell_type": "code",
   "execution_count": 32,
   "metadata": {},
   "outputs": [
    {
     "data": {
      "text/plain": [
       "10.4"
      ]
     },
     "execution_count": 32,
     "metadata": {},
     "output_type": "execute_result"
    }
   ],
   "source": [
    "#min value\n",
    "df_coca_g.sugars_100g.min()"
   ]
  },
  {
   "cell_type": "code",
   "execution_count": 33,
   "metadata": {},
   "outputs": [
    {
     "data": {
      "text/plain": [
       "11.2"
      ]
     },
     "execution_count": 33,
     "metadata": {},
     "output_type": "execute_result"
    }
   ],
   "source": [
    "#max value\n",
    "df_coca_g.sugars_100g.max()"
   ]
  },
  {
   "cell_type": "markdown",
   "metadata": {},
   "source": [
    "With the median of the amount of sugar we see that for the United States the amount of sugar is approximately 0.4 g (for 100g of coca) higher than in european countries."
   ]
  },
  {
   "cell_type": "markdown",
   "metadata": {},
   "source": [
    "## Haribo Gold Bears data"
   ]
  },
  {
   "cell_type": "code",
   "execution_count": 34,
   "metadata": {},
   "outputs": [
    {
     "name": "stdout",
     "output_type": "stream",
     "text": [
      "+-----------------------+-----------+------------------------------------------------+----------------+\n",
      "|product_name           |sugars_100g|brands                                          |countries       |\n",
      "+-----------------------+-----------+------------------------------------------------+----------------+\n",
      "|Happy Cola Candy       |55.5       |Haribo,  Haribo Gmbh & Co. Kg                   |en:united-states|\n",
      "|Gold Bears Gummi Candy |50         |Haribo,  Haribo Of America  Inc.                |en:united-states|\n",
      "|Gold-Bears Gummi Candy |53.85      |Haribo                                          |en:united-states|\n",
      "|Gold-Bears, Gummi Candy|46.15      |Haribo,  Haribo Sekerleme San. Ve Tic. Ltd. Sti.|en:united-states|\n",
      "|Gold-Bears, Gummi Candy|46.15      |Haribo                                          |en:united-states|\n",
      "+-----------------------+-----------+------------------------------------------------+----------------+\n",
      "only showing top 5 rows\n",
      "\n"
     ]
    }
   ],
   "source": [
    "#We create the Haribo dataframe, using the feature 'brands'\n",
    "\n",
    "query = \"\"\"\n",
    "SELECT product_name,sugars_100g, brands, countries_tags AS countries\n",
    "FROM tab_all\n",
    "WHERE \n",
    "(brands RLIKE 'Haribo.*')\n",
    "OR\n",
    "(brands RLIKE 'haribo.*')\n",
    "\"\"\"\n",
    "\n",
    "df_haribo = spark.sql(query)\n",
    "df_haribo.show(5, False)"
   ]
  },
  {
   "cell_type": "code",
   "execution_count": 35,
   "metadata": {},
   "outputs": [
    {
     "name": "stdout",
     "output_type": "stream",
     "text": [
      "+--------------------+-----------+--------------------+----------------+\n",
      "|        product_name|sugars_100g|              brands|       countries|\n",
      "+--------------------+-----------+--------------------+----------------+\n",
      "|    Happy Cola Candy|       55.5|Haribo,  Haribo G...|en:united-states|\n",
      "|Gold Bears Gummi ...|         50|Haribo,  Haribo O...|en:united-states|\n",
      "|Gold-Bears Gummi ...|      53.85|              Haribo|en:united-states|\n",
      "|Gold-Bears, Gummi...|      46.15|Haribo,  Haribo S...|en:united-states|\n",
      "|Gold-Bears, Gummi...|      46.15|              Haribo|en:united-states|\n",
      "+--------------------+-----------+--------------------+----------------+\n",
      "only showing top 5 rows\n",
      "\n"
     ]
    }
   ],
   "source": [
    "#We split the \"countries\" column to have single country in each row.\n",
    "\n",
    "df_haribo_new = df_haribo.select(\"product_name\", \"sugars_100g\", \"brands\", explode(split('countries', ','))).withColumnRenamed(\"col\", \"countries\")\n",
    "df_haribo_new.show(5)"
   ]
  },
  {
   "cell_type": "code",
   "execution_count": 36,
   "metadata": {},
   "outputs": [],
   "source": [
    "df_haribo_new.registerTempTable('tab_haribo')"
   ]
  },
  {
   "cell_type": "markdown",
   "metadata": {},
   "source": [
    "We decided to focus on the \"Gold Bears\" type of Haribo Candy, but to be sure that we are talking about the \"same\" product across countries."
   ]
  },
  {
   "cell_type": "code",
   "execution_count": 37,
   "metadata": {},
   "outputs": [
    {
     "name": "stdout",
     "output_type": "stream",
     "text": [
      "+---------------------------+-----------+--------------------------------+----------------+\n",
      "|product_name               |sugars_100g|brands                          |countries       |\n",
      "+---------------------------+-----------+--------------------------------+----------------+\n",
      "|Gold Bears Gummi Candy     |50         |Haribo,  Haribo Of America  Inc.|en:united-states|\n",
      "|Gold-Bears Gummi Candy     |53.85      |Haribo                          |en:united-states|\n",
      "|Gold-Bears Gummi Candy     |53.85      |Haribo                          |en:united-states|\n",
      "|Gold-Bears Gummi Candy     |48.72      |Haribo,  Haribo Of America  Inc.|en:united-states|\n",
      "|Sour Gold-Bears Gummi Candy|53.66      |Haribo,  Haribo Of America  Inc.|en:united-states|\n",
      "|Gold-Bears Gummi Candy     |53.66      |Haribo Of America  Inc.         |en:united-states|\n",
      "|Sour Gold-Bears            |53.66      |Haribo,  Haribo Of America  Inc.|en:united-states|\n",
      "|Gold Bears Gummi Candy     |48.72      |Haribo Of America  Inc.         |en:united-states|\n",
      "|L'Ours d'Or                |46         |Haribo                          |en:france       |\n",
      "|2KG L Ours D Or Vrac Haribo|46         |haribo                          |en:france       |\n",
      "+---------------------------+-----------+--------------------------------+----------------+\n",
      "only showing top 10 rows\n",
      "\n"
     ]
    }
   ],
   "source": [
    "#We create the Gold Bears dataframe, from the Haribo dataframe\n",
    "\n",
    "query = \"\"\"\n",
    "SELECT product_name,sugars_100g, brands, countries\n",
    "FROM tab_haribo\n",
    "WHERE \n",
    "((product_name RLIKE 'Bears.*')\n",
    "OR\n",
    "(product_name RLIKE 'Ours.*')\n",
    "OR\n",
    "(product_name RLIKE 'Gold.*')\n",
    "OR\n",
    "(product_name RLIKE 'Oro.*')\n",
    "OR\n",
    "(product_name RLIKE 'Aur.*')\n",
    "OR\n",
    "(product_name RLIKE 'Aur.*')\n",
    "OR\n",
    "(product_name RLIKE 'Urs.*'))\n",
    "AND\n",
    "(product_name NOT RLIKE ',')\n",
    "\"\"\"\n",
    "#Last line because we don't want sweet mixes, we only want the gold bears alone\n",
    "\n",
    "df_gold_bears = spark.sql(query)\n",
    "df_gold_bears.show(10, False)\n",
    "\n",
    "#df_haribo.count()"
   ]
  },
  {
   "cell_type": "code",
   "execution_count": 38,
   "metadata": {},
   "outputs": [
    {
     "data": {
      "text/html": [
       "<div>\n",
       "<style scoped>\n",
       "    .dataframe tbody tr th:only-of-type {\n",
       "        vertical-align: middle;\n",
       "    }\n",
       "\n",
       "    .dataframe tbody tr th {\n",
       "        vertical-align: top;\n",
       "    }\n",
       "\n",
       "    .dataframe thead th {\n",
       "        text-align: right;\n",
       "    }\n",
       "</style>\n",
       "<table border=\"1\" class=\"dataframe\">\n",
       "  <thead>\n",
       "    <tr style=\"text-align: right;\">\n",
       "      <th></th>\n",
       "      <th>sugars_100g</th>\n",
       "    </tr>\n",
       "    <tr>\n",
       "      <th>countries</th>\n",
       "      <th></th>\n",
       "    </tr>\n",
       "  </thead>\n",
       "  <tbody>\n",
       "    <tr>\n",
       "      <th>en:united-kingdom</th>\n",
       "      <td>58.40</td>\n",
       "    </tr>\n",
       "    <tr>\n",
       "      <th>en:united-states</th>\n",
       "      <td>53.66</td>\n",
       "    </tr>\n",
       "    <tr>\n",
       "      <th>en:austria</th>\n",
       "      <td>46.00</td>\n",
       "    </tr>\n",
       "    <tr>\n",
       "      <th>en:china</th>\n",
       "      <td>46.00</td>\n",
       "    </tr>\n",
       "    <tr>\n",
       "      <th>en:france</th>\n",
       "      <td>46.00</td>\n",
       "    </tr>\n",
       "    <tr>\n",
       "      <th>en:germany</th>\n",
       "      <td>46.00</td>\n",
       "    </tr>\n",
       "    <tr>\n",
       "      <th>en:ireland</th>\n",
       "      <td>46.00</td>\n",
       "    </tr>\n",
       "    <tr>\n",
       "      <th>en:italy</th>\n",
       "      <td>46.00</td>\n",
       "    </tr>\n",
       "    <tr>\n",
       "      <th>en:switzerland</th>\n",
       "      <td>46.00</td>\n",
       "    </tr>\n",
       "    <tr>\n",
       "      <th>en:denmark</th>\n",
       "      <td>NaN</td>\n",
       "    </tr>\n",
       "    <tr>\n",
       "      <th>en:nigeria</th>\n",
       "      <td>NaN</td>\n",
       "    </tr>\n",
       "  </tbody>\n",
       "</table>\n",
       "</div>"
      ],
      "text/plain": [
       "                   sugars_100g\n",
       "countries                     \n",
       "en:united-kingdom        58.40\n",
       "en:united-states         53.66\n",
       "en:austria               46.00\n",
       "en:china                 46.00\n",
       "en:france                46.00\n",
       "en:germany               46.00\n",
       "en:ireland               46.00\n",
       "en:italy                 46.00\n",
       "en:switzerland           46.00\n",
       "en:denmark                 NaN\n",
       "en:nigeria                 NaN"
      ]
     },
     "execution_count": 38,
     "metadata": {},
     "output_type": "execute_result"
    }
   ],
   "source": [
    "#We create a panda dataframe from the spark dataframe\n",
    "\n",
    "df_gold_bears_pd=df_gold_bears.toPandas()\n",
    "\n",
    "#Then, we need to convert the type of \"sugars_100g\" into a numerical type to be able to use the function \"aggregate\"\n",
    "\n",
    "df_gold_bears_pd[\"sugars_100g\"] = df_gold_bears_pd[\"sugars_100g\"].astype('float')\n",
    "\n",
    "#We group by country, and, for each given country, we calculate the median of sugars per 100g\n",
    "#and order the countries from the bigger to the smaller amount of sugar.\n",
    "\n",
    "df_gold_bears_g=df_gold_bears_pd.groupby('countries').aggregate(np.median).sort_values(\"sugars_100g\", axis=0, ascending=False)\n",
    "df_gold_bears_g"
   ]
  },
  {
   "cell_type": "code",
   "execution_count": 39,
   "metadata": {},
   "outputs": [
    {
     "data": {
      "text/plain": [
       "46.0"
      ]
     },
     "execution_count": 39,
     "metadata": {},
     "output_type": "execute_result"
    }
   ],
   "source": [
    "#min value\n",
    "df_gold_bears_g.sugars_100g.min()"
   ]
  },
  {
   "cell_type": "code",
   "execution_count": 40,
   "metadata": {},
   "outputs": [
    {
     "data": {
      "text/plain": [
       "58.4"
      ]
     },
     "execution_count": 40,
     "metadata": {},
     "output_type": "execute_result"
    }
   ],
   "source": [
    "#max value\n",
    "df_gold_bears_g.sugars_100g.max()"
   ]
  },
  {
   "cell_type": "markdown",
   "metadata": {},
   "source": [
    "## Nutella data"
   ]
  },
  {
   "cell_type": "code",
   "execution_count": 41,
   "metadata": {},
   "outputs": [
    {
     "name": "stdout",
     "output_type": "stream",
     "text": [
      "+------------+-----------+--------------------+\n",
      "|product_name|sugars_100g|           countries|\n",
      "+------------+-----------+--------------------+\n",
      "|     Nutella|       56.8|en:canada,en:swit...|\n",
      "|     Nutella|       56.8|    en:united-states|\n",
      "|     Nutella|       56.8|    en:united-states|\n",
      "|     Nutella|       57.6|        en:australia|\n",
      "|     Nutella|         58|en:canada,en:fran...|\n",
      "+------------+-----------+--------------------+\n",
      "only showing top 5 rows\n",
      "\n"
     ]
    }
   ],
   "source": [
    "#We create the nutella dataframe\n",
    "\n",
    "query = \"\"\"\n",
    "SELECT product_name,sugars_100g,countries_tags AS countries\n",
    "FROM tab_all\n",
    "WHERE \n",
    "(product_name == 'Nutella')\n",
    "AND \n",
    "(sugars_100g>20 AND sugars_100g<80)\n",
    "\"\"\"\n",
    "#We do not keep really aberrant values for sugars_100\n",
    "\n",
    "df_nutella = spark.sql(query)\n",
    "df_nutella.show(5)"
   ]
  },
  {
   "cell_type": "code",
   "execution_count": 42,
   "metadata": {},
   "outputs": [
    {
     "data": {
      "text/html": [
       "<div>\n",
       "<style scoped>\n",
       "    .dataframe tbody tr th:only-of-type {\n",
       "        vertical-align: middle;\n",
       "    }\n",
       "\n",
       "    .dataframe tbody tr th {\n",
       "        vertical-align: top;\n",
       "    }\n",
       "\n",
       "    .dataframe thead th {\n",
       "        text-align: right;\n",
       "    }\n",
       "</style>\n",
       "<table border=\"1\" class=\"dataframe\">\n",
       "  <thead>\n",
       "    <tr style=\"text-align: right;\">\n",
       "      <th></th>\n",
       "      <th>sugars_100g</th>\n",
       "    </tr>\n",
       "    <tr>\n",
       "      <th>countries</th>\n",
       "      <th></th>\n",
       "    </tr>\n",
       "  </thead>\n",
       "  <tbody>\n",
       "    <tr>\n",
       "      <th>en:australia</th>\n",
       "      <td>57.6</td>\n",
       "    </tr>\n",
       "    <tr>\n",
       "      <th>en:canada</th>\n",
       "      <td>56.9</td>\n",
       "    </tr>\n",
       "    <tr>\n",
       "      <th>en:hungary</th>\n",
       "      <td>56.8</td>\n",
       "    </tr>\n",
       "    <tr>\n",
       "      <th>en:united-states</th>\n",
       "      <td>56.8</td>\n",
       "    </tr>\n",
       "    <tr>\n",
       "      <th>en:martinique</th>\n",
       "      <td>56.8</td>\n",
       "    </tr>\n",
       "    <tr>\n",
       "      <th>en:mali</th>\n",
       "      <td>56.8</td>\n",
       "    </tr>\n",
       "    <tr>\n",
       "      <th>en:algeria</th>\n",
       "      <td>56.8</td>\n",
       "    </tr>\n",
       "    <tr>\n",
       "      <th>en:switzerland</th>\n",
       "      <td>56.7</td>\n",
       "    </tr>\n",
       "  </tbody>\n",
       "</table>\n",
       "</div>"
      ],
      "text/plain": [
       "                  sugars_100g\n",
       "countries                    \n",
       "en:australia             57.6\n",
       "en:canada                56.9\n",
       "en:hungary               56.8\n",
       "en:united-states         56.8\n",
       "en:martinique            56.8\n",
       "en:mali                  56.8\n",
       "en:algeria               56.8\n",
       "en:switzerland           56.7"
      ]
     },
     "execution_count": 42,
     "metadata": {},
     "output_type": "execute_result"
    }
   ],
   "source": [
    "#We split the \"countries\" column to have single country in each row.\n",
    "\n",
    "df_nutella_new = df_nutella.select(\"product_name\", \"sugars_100g\", explode(split('countries', ','))).withColumnRenamed(\"col\", \"countries\")\n",
    "\n",
    "#We create a panda dataframe from the spark dataframe\n",
    "\n",
    "df_nutella_pd=df_nutella_new.toPandas()\n",
    "\n",
    "#Then, we need to convert the type of \"sugars_100g\" into a numerical type to be able to use the function \"aggregate\"\n",
    "\n",
    "df_nutella_pd[\"sugars_100g\"] = df_nutella_pd[\"sugars_100g\"].astype('float')\n",
    "\n",
    "#We group by country, and, for each given country, we calculate the median of sugars per 100g\n",
    "#and order the countries from the bigger to the smaller amount of sugar.\n",
    "\n",
    "df_nutella_g=df_nutella_pd.groupby('countries').aggregate(np.median).sort_values(\"sugars_100g\", axis=0, ascending=False)\n",
    "\n",
    "#We delete the Quebec, that is not a country and thus probably a mistake\n",
    "df_nutella_g = df_nutella_g.drop(df_nutella_g.index[0])\n",
    "\n",
    "df_nutella_g.head(8)"
   ]
  },
  {
   "cell_type": "code",
   "execution_count": 43,
   "metadata": {},
   "outputs": [
    {
     "data": {
      "text/plain": [
       "55.95"
      ]
     },
     "execution_count": 43,
     "metadata": {},
     "output_type": "execute_result"
    }
   ],
   "source": [
    "#min value\n",
    "df_nutella_g.sugars_100g.min()"
   ]
  },
  {
   "cell_type": "code",
   "execution_count": 44,
   "metadata": {},
   "outputs": [
    {
     "data": {
      "text/plain": [
       "57.6"
      ]
     },
     "execution_count": 44,
     "metadata": {},
     "output_type": "execute_result"
    }
   ],
   "source": [
    "#max value\n",
    "df_nutella_g.sugars_100g.max()"
   ]
  },
  {
   "cell_type": "markdown",
   "metadata": {},
   "source": [
    "## Creating the map for each of the 3 products"
   ]
  },
  {
   "cell_type": "code",
   "execution_count": 45,
   "metadata": {},
   "outputs": [],
   "source": [
    "#We set index on the dataframes\n",
    "\n",
    "df_coca_g = df_coca_g.reset_index()\n",
    "df_gold_bears_g = df_gold_bears_g.reset_index()\n",
    "df_nutella_g = df_nutella_g.reset_index()"
   ]
  },
  {
   "cell_type": "code",
   "execution_count": 46,
   "metadata": {},
   "outputs": [
    {
     "data": {
      "text/plain": [
       "0           en:hungary\n",
       "1          en:slovakia\n",
       "2     en:united-states\n",
       "3    en:czech-republic\n",
       "4           en:georgia\n",
       "Name: countries, dtype: object"
      ]
     },
     "execution_count": 46,
     "metadata": {},
     "output_type": "execute_result"
    }
   ],
   "source": [
    "#We create only one dataframe containing all the country names present for the 3 different products\n",
    "\n",
    "list_country_1 = df_coca_g.iloc[:,0]\n",
    "list_country_2 = df_gold_bears_g.iloc[:,0]\n",
    "list_country_3 = df_nutella_g.iloc[:,0]\n",
    "\n",
    "frames = [list_country_1, list_country_2, list_country_3]\n",
    "\n",
    "df_list_countries = pd.concat(frames)\n",
    "df_list_countries = df_list_countries.drop_duplicates()\n",
    "df_list_countries.head(5)"
   ]
  },
  {
   "cell_type": "code",
   "execution_count": 47,
   "metadata": {},
   "outputs": [
    {
     "data": {
      "text/plain": [
       "0      en:algeria\n",
       "1    en:argentina\n",
       "2    en:australia\n",
       "3      en:austria\n",
       "4      en:belgium\n",
       "5       en:brazil\n",
       "6     en:cameroon\n",
       "7       en:canada\n",
       "Name: countries, dtype: object"
      ]
     },
     "execution_count": 47,
     "metadata": {},
     "output_type": "execute_result"
    }
   ],
   "source": [
    "#We reset the index of this new country names dataframe\n",
    "\n",
    "df_list_countries = df_list_countries.sort_values().reset_index(drop=True)\n",
    "df_list_countries.head(8)"
   ]
  },
  {
   "cell_type": "code",
   "execution_count": 48,
   "metadata": {},
   "outputs": [],
   "source": [
    "#We create a list containing the ISO_3 codes for the list of countries from the previous dataframe\n",
    "\n",
    "list_ISO_3 = ['DZA', 'ARG', 'AUS', 'AUT', 'BEL', 'BRA', 'CMR', 'CAN', 'CHN', 'COL', 'CZE', 'DNK', 'FRA', 'GEO', 'DEU', 'GRC', 'GLP', 'HUN', 'IND','IRQ', 'IRL',\n",
    "              'ITA', 'JPN', 'LUX', 'MLI', 'MTQ', 'MEX', 'MAR', 'NLD', 'NCL', 'NGA', 'PAK', 'PHL', 'PRT', 'REU', 'RUS', 'SAU', 'SEN', 'SRB', 'SVK', 'SVN', 'ZAF',\n",
    "              'ESP', 'SWE', 'CHE', 'TWN', 'TUN', 'GBR', 'USA']"
   ]
  },
  {
   "cell_type": "code",
   "execution_count": 49,
   "metadata": {},
   "outputs": [
    {
     "data": {
      "text/html": [
       "<div>\n",
       "<style scoped>\n",
       "    .dataframe tbody tr th:only-of-type {\n",
       "        vertical-align: middle;\n",
       "    }\n",
       "\n",
       "    .dataframe tbody tr th {\n",
       "        vertical-align: top;\n",
       "    }\n",
       "\n",
       "    .dataframe thead th {\n",
       "        text-align: right;\n",
       "    }\n",
       "</style>\n",
       "<table border=\"1\" class=\"dataframe\">\n",
       "  <thead>\n",
       "    <tr style=\"text-align: right;\">\n",
       "      <th></th>\n",
       "      <th>countries</th>\n",
       "      <th>ISO</th>\n",
       "    </tr>\n",
       "  </thead>\n",
       "  <tbody>\n",
       "    <tr>\n",
       "      <th>0</th>\n",
       "      <td>en:algeria</td>\n",
       "      <td>DZA</td>\n",
       "    </tr>\n",
       "    <tr>\n",
       "      <th>1</th>\n",
       "      <td>en:argentina</td>\n",
       "      <td>ARG</td>\n",
       "    </tr>\n",
       "    <tr>\n",
       "      <th>2</th>\n",
       "      <td>en:australia</td>\n",
       "      <td>AUS</td>\n",
       "    </tr>\n",
       "    <tr>\n",
       "      <th>3</th>\n",
       "      <td>en:austria</td>\n",
       "      <td>AUT</td>\n",
       "    </tr>\n",
       "    <tr>\n",
       "      <th>4</th>\n",
       "      <td>en:belgium</td>\n",
       "      <td>BEL</td>\n",
       "    </tr>\n",
       "    <tr>\n",
       "      <th>5</th>\n",
       "      <td>en:brazil</td>\n",
       "      <td>BRA</td>\n",
       "    </tr>\n",
       "    <tr>\n",
       "      <th>6</th>\n",
       "      <td>en:cameroon</td>\n",
       "      <td>CMR</td>\n",
       "    </tr>\n",
       "    <tr>\n",
       "      <th>7</th>\n",
       "      <td>en:canada</td>\n",
       "      <td>CAN</td>\n",
       "    </tr>\n",
       "  </tbody>\n",
       "</table>\n",
       "</div>"
      ],
      "text/plain": [
       "      countries  ISO\n",
       "0    en:algeria  DZA\n",
       "1  en:argentina  ARG\n",
       "2  en:australia  AUS\n",
       "3    en:austria  AUT\n",
       "4    en:belgium  BEL\n",
       "5     en:brazil  BRA\n",
       "6   en:cameroon  CMR\n",
       "7     en:canada  CAN"
      ]
     },
     "execution_count": 49,
     "metadata": {},
     "output_type": "execute_result"
    }
   ],
   "source": [
    "#We create this conversion dataframe\n",
    "\n",
    "country_to_ISO = pd.DataFrame({'countries': df_list_countries, 'ISO': list_ISO_3})\n",
    "country_to_ISO.head(8)"
   ]
  },
  {
   "cell_type": "code",
   "execution_count": 50,
   "metadata": {},
   "outputs": [
    {
     "data": {
      "text/html": [
       "<div>\n",
       "<style scoped>\n",
       "    .dataframe tbody tr th:only-of-type {\n",
       "        vertical-align: middle;\n",
       "    }\n",
       "\n",
       "    .dataframe tbody tr th {\n",
       "        vertical-align: top;\n",
       "    }\n",
       "\n",
       "    .dataframe thead th {\n",
       "        text-align: right;\n",
       "    }\n",
       "</style>\n",
       "<table border=\"1\" class=\"dataframe\">\n",
       "  <thead>\n",
       "    <tr style=\"text-align: right;\">\n",
       "      <th></th>\n",
       "      <th>index</th>\n",
       "      <th>countries</th>\n",
       "      <th>sugars_100g</th>\n",
       "      <th>ISO</th>\n",
       "    </tr>\n",
       "  </thead>\n",
       "  <tbody>\n",
       "    <tr>\n",
       "      <th>0</th>\n",
       "      <td>20</td>\n",
       "      <td>en:australia</td>\n",
       "      <td>10.6</td>\n",
       "      <td>AUS</td>\n",
       "    </tr>\n",
       "    <tr>\n",
       "      <th>1</th>\n",
       "      <td>33</td>\n",
       "      <td>en:austria</td>\n",
       "      <td>10.6</td>\n",
       "      <td>AUT</td>\n",
       "    </tr>\n",
       "    <tr>\n",
       "      <th>2</th>\n",
       "      <td>32</td>\n",
       "      <td>en:belgium</td>\n",
       "      <td>10.6</td>\n",
       "      <td>BEL</td>\n",
       "    </tr>\n",
       "    <tr>\n",
       "      <th>3</th>\n",
       "      <td>31</td>\n",
       "      <td>en:brazil</td>\n",
       "      <td>10.6</td>\n",
       "      <td>BRA</td>\n",
       "    </tr>\n",
       "    <tr>\n",
       "      <th>4</th>\n",
       "      <td>29</td>\n",
       "      <td>en:canada</td>\n",
       "      <td>10.6</td>\n",
       "      <td>CAN</td>\n",
       "    </tr>\n",
       "    <tr>\n",
       "      <th>5</th>\n",
       "      <td>10</td>\n",
       "      <td>en:switzerland</td>\n",
       "      <td>10.6</td>\n",
       "      <td>CHE</td>\n",
       "    </tr>\n",
       "  </tbody>\n",
       "</table>\n",
       "</div>"
      ],
      "text/plain": [
       "   index       countries  sugars_100g  ISO\n",
       "0     20    en:australia         10.6  AUS\n",
       "1     33      en:austria         10.6  AUT\n",
       "2     32      en:belgium         10.6  BEL\n",
       "3     31       en:brazil         10.6  BRA\n",
       "4     29       en:canada         10.6  CAN\n",
       "5     10  en:switzerland         10.6  CHE"
      ]
     },
     "execution_count": 50,
     "metadata": {},
     "output_type": "execute_result"
    }
   ],
   "source": [
    "#COCA\n",
    "\n",
    "#We merge the two dataframe, so we have all our coca datas linked to the ISO code\n",
    "coca_ISO = pd.merge(df_coca_g, country_to_ISO, on = 'countries')\n",
    "\n",
    "#we remove the Martinique row (index 34)\n",
    "coca_ISO = coca_ISO.drop(coca_ISO.index[34])\n",
    "#And the Reunion row (index 14)\n",
    "coca_ISO = coca_ISO.drop(coca_ISO.index[14])\n",
    "#Because those 2 are not 'countries' and thus are not present on our geo_json file\n",
    "\n",
    "#Then we rest the index\n",
    "coca_ISO = coca_ISO.sort_values('ISO').reset_index()\n",
    "coca_ISO.head(6)"
   ]
  },
  {
   "cell_type": "code",
   "execution_count": 51,
   "metadata": {},
   "outputs": [
    {
     "data": {
      "text/html": [
       "<div>\n",
       "<style scoped>\n",
       "    .dataframe tbody tr th:only-of-type {\n",
       "        vertical-align: middle;\n",
       "    }\n",
       "\n",
       "    .dataframe tbody tr th {\n",
       "        vertical-align: top;\n",
       "    }\n",
       "\n",
       "    .dataframe thead th {\n",
       "        text-align: right;\n",
       "    }\n",
       "</style>\n",
       "<table border=\"1\" class=\"dataframe\">\n",
       "  <thead>\n",
       "    <tr style=\"text-align: right;\">\n",
       "      <th></th>\n",
       "      <th>index</th>\n",
       "      <th>countries</th>\n",
       "      <th>sugars_100g</th>\n",
       "      <th>ISO</th>\n",
       "    </tr>\n",
       "  </thead>\n",
       "  <tbody>\n",
       "    <tr>\n",
       "      <th>0</th>\n",
       "      <td>26</td>\n",
       "      <td>en:argentina</td>\n",
       "      <td>56.3</td>\n",
       "      <td>ARG</td>\n",
       "    </tr>\n",
       "    <tr>\n",
       "      <th>1</th>\n",
       "      <td>0</td>\n",
       "      <td>en:australia</td>\n",
       "      <td>57.6</td>\n",
       "      <td>AUS</td>\n",
       "    </tr>\n",
       "    <tr>\n",
       "      <th>2</th>\n",
       "      <td>12</td>\n",
       "      <td>en:austria</td>\n",
       "      <td>56.3</td>\n",
       "      <td>AUT</td>\n",
       "    </tr>\n",
       "    <tr>\n",
       "      <th>3</th>\n",
       "      <td>9</td>\n",
       "      <td>en:belgium</td>\n",
       "      <td>56.7</td>\n",
       "      <td>BEL</td>\n",
       "    </tr>\n",
       "    <tr>\n",
       "      <th>4</th>\n",
       "      <td>1</td>\n",
       "      <td>en:canada</td>\n",
       "      <td>56.9</td>\n",
       "      <td>CAN</td>\n",
       "    </tr>\n",
       "    <tr>\n",
       "      <th>5</th>\n",
       "      <td>7</td>\n",
       "      <td>en:switzerland</td>\n",
       "      <td>56.7</td>\n",
       "      <td>CHE</td>\n",
       "    </tr>\n",
       "  </tbody>\n",
       "</table>\n",
       "</div>"
      ],
      "text/plain": [
       "   index       countries  sugars_100g  ISO\n",
       "0     26    en:argentina         56.3  ARG\n",
       "1      0    en:australia         57.6  AUS\n",
       "2     12      en:austria         56.3  AUT\n",
       "3      9      en:belgium         56.7  BEL\n",
       "4      1       en:canada         56.9  CAN\n",
       "5      7  en:switzerland         56.7  CHE"
      ]
     },
     "execution_count": 51,
     "metadata": {},
     "output_type": "execute_result"
    }
   ],
   "source": [
    "#NUTELLA\n",
    "\n",
    "#We merge the two dataframe, so we have all our Nutella datas linked to the ISO code\n",
    "nutella_ISO = pd.merge(df_nutella_g, country_to_ISO, on = 'countries')\n",
    "\n",
    "#we remove the Guadeloupe row (index 30)\n",
    "nutella_ISO = nutella_ISO.drop(nutella_ISO.index[30])\n",
    "#and the Martinique row (index 4)\n",
    "nutella_ISO = nutella_ISO.drop(nutella_ISO.index[4])\n",
    "#Because those 2 are not 'countries' and thus are not present on our geo_json file\n",
    "\n",
    "#Then we rest the index\n",
    "nutella_ISO = nutella_ISO.sort_values('ISO').reset_index()\n",
    "nutella_ISO.head(6)"
   ]
  },
  {
   "cell_type": "code",
   "execution_count": 52,
   "metadata": {},
   "outputs": [
    {
     "data": {
      "text/html": [
       "<div>\n",
       "<style scoped>\n",
       "    .dataframe tbody tr th:only-of-type {\n",
       "        vertical-align: middle;\n",
       "    }\n",
       "\n",
       "    .dataframe tbody tr th {\n",
       "        vertical-align: top;\n",
       "    }\n",
       "\n",
       "    .dataframe thead th {\n",
       "        text-align: right;\n",
       "    }\n",
       "</style>\n",
       "<table border=\"1\" class=\"dataframe\">\n",
       "  <thead>\n",
       "    <tr style=\"text-align: right;\">\n",
       "      <th></th>\n",
       "      <th>index</th>\n",
       "      <th>countries</th>\n",
       "      <th>sugars_100g</th>\n",
       "      <th>ISO</th>\n",
       "    </tr>\n",
       "  </thead>\n",
       "  <tbody>\n",
       "    <tr>\n",
       "      <th>0</th>\n",
       "      <td>2</td>\n",
       "      <td>en:austria</td>\n",
       "      <td>46.00</td>\n",
       "      <td>AUT</td>\n",
       "    </tr>\n",
       "    <tr>\n",
       "      <th>1</th>\n",
       "      <td>8</td>\n",
       "      <td>en:switzerland</td>\n",
       "      <td>46.00</td>\n",
       "      <td>CHE</td>\n",
       "    </tr>\n",
       "    <tr>\n",
       "      <th>2</th>\n",
       "      <td>3</td>\n",
       "      <td>en:china</td>\n",
       "      <td>46.00</td>\n",
       "      <td>CHN</td>\n",
       "    </tr>\n",
       "    <tr>\n",
       "      <th>3</th>\n",
       "      <td>5</td>\n",
       "      <td>en:germany</td>\n",
       "      <td>46.00</td>\n",
       "      <td>DEU</td>\n",
       "    </tr>\n",
       "    <tr>\n",
       "      <th>4</th>\n",
       "      <td>4</td>\n",
       "      <td>en:france</td>\n",
       "      <td>46.00</td>\n",
       "      <td>FRA</td>\n",
       "    </tr>\n",
       "    <tr>\n",
       "      <th>5</th>\n",
       "      <td>0</td>\n",
       "      <td>en:united-kingdom</td>\n",
       "      <td>58.40</td>\n",
       "      <td>GBR</td>\n",
       "    </tr>\n",
       "    <tr>\n",
       "      <th>6</th>\n",
       "      <td>6</td>\n",
       "      <td>en:ireland</td>\n",
       "      <td>46.00</td>\n",
       "      <td>IRL</td>\n",
       "    </tr>\n",
       "    <tr>\n",
       "      <th>7</th>\n",
       "      <td>7</td>\n",
       "      <td>en:italy</td>\n",
       "      <td>46.00</td>\n",
       "      <td>ITA</td>\n",
       "    </tr>\n",
       "    <tr>\n",
       "      <th>8</th>\n",
       "      <td>1</td>\n",
       "      <td>en:united-states</td>\n",
       "      <td>53.66</td>\n",
       "      <td>USA</td>\n",
       "    </tr>\n",
       "  </tbody>\n",
       "</table>\n",
       "</div>"
      ],
      "text/plain": [
       "   index          countries  sugars_100g  ISO\n",
       "0      2         en:austria        46.00  AUT\n",
       "1      8     en:switzerland        46.00  CHE\n",
       "2      3           en:china        46.00  CHN\n",
       "3      5         en:germany        46.00  DEU\n",
       "4      4          en:france        46.00  FRA\n",
       "5      0  en:united-kingdom        58.40  GBR\n",
       "6      6         en:ireland        46.00  IRL\n",
       "7      7           en:italy        46.00  ITA\n",
       "8      1   en:united-states        53.66  USA"
      ]
     },
     "execution_count": 52,
     "metadata": {},
     "output_type": "execute_result"
    }
   ],
   "source": [
    "#GOLD BEARS\n",
    "\n",
    "#We merge the two dataframe, so we have all our Gold Bears datas linked to the ISO code\n",
    "gold_bear_ISO = pd.merge(df_gold_bears_g, country_to_ISO, on = 'countries')\n",
    "\n",
    "#We drop the NaN rows for sugars_100g\n",
    "gold_bear_ISO = gold_bear_ISO.dropna()\n",
    "\n",
    "gold_bear_ISO = gold_bear_ISO.sort_values('ISO').reset_index()\n",
    "gold_bear_ISO"
   ]
  },
  {
   "cell_type": "code",
   "execution_count": 53,
   "metadata": {},
   "outputs": [],
   "source": [
    "#We prepare the dataframes that will be used for the map\n",
    "\n",
    "coca_map = coca_ISO.set_index('ISO')['sugars_100g']\n",
    "df_coca_map = pd.DataFrame(coca_map)\n",
    "\n",
    "nutella_map = nutella_ISO.set_index('ISO')['sugars_100g']\n",
    "df_nutella_map = pd.DataFrame(nutella_map)\n",
    "\n",
    "gold_bear_map = gold_bear_ISO.set_index('ISO')['sugars_100g']\n",
    "df_gold_bear_map = pd.DataFrame(gold_bear_map)"
   ]
  },
  {
   "cell_type": "code",
   "execution_count": 54,
   "metadata": {},
   "outputs": [],
   "source": [
    "#We define the path to the 3 geo_json files\n",
    "\n",
    "countries_coca_geo_path = './coca.geo.json'\n",
    "geo_coca_data = json.load(open(countries_coca_geo_path))\n",
    "\n",
    "countries_nutella_geo_path = './nutella.geo.json'\n",
    "geo_nutella_data = json.load(open(countries_nutella_geo_path))\n",
    "\n",
    "countries_gold_bear_geo_path = './gold_bears.geo.json'\n",
    "geo_gold_bear_data = json.load(open(countries_gold_bear_geo_path))"
   ]
  },
  {
   "cell_type": "code",
   "execution_count": 55,
   "metadata": {},
   "outputs": [],
   "source": [
    "#Add the value of the country into the json file. It allows to show the real value of the country when passing\n",
    "#on the country in the map\n",
    "\n",
    "def augment_topo_json(json, dataframe, transform=(lambda col, val: val)):\n",
    "    for countries in json['features']:\n",
    "        for column in dataframe.columns.values:\n",
    "            countries['properties'][column] = transform(column, dataframe.loc[countries['id']][column])"
   ]
  },
  {
   "cell_type": "code",
   "execution_count": 56,
   "metadata": {},
   "outputs": [],
   "source": [
    "#We apply the previously defined function on our 3 geo_json files\n",
    "\n",
    "augment_topo_json(geo_coca_data, df_coca_map, \\\n",
    "                  (lambda col, val: 'No Data' if np.isnan(val) else f'{val:.2f}'))\n",
    "\n",
    "augment_topo_json(geo_nutella_data, df_nutella_map, \\\n",
    "                  (lambda col, val: 'No Data' if np.isnan(val) else f'{val:.2f}'))\n",
    "\n",
    "augment_topo_json(geo_gold_bear_data, df_gold_bear_map, \\\n",
    "                  (lambda col, val: 'No Data' if np.isnan(val) else f'{val:.2f}'))"
   ]
  },
  {
   "cell_type": "markdown",
   "metadata": {},
   "source": [
    "## Coca map"
   ]
  },
  {
   "cell_type": "code",
   "execution_count": 57,
   "metadata": {},
   "outputs": [
    {
     "data": {
      "text/html": [
       "<div style=\"width:100%;\"><div style=\"position:relative;width:100%;height:0;padding-bottom:60%;\"><iframe src=\"data:text/html;charset=utf-8;base64,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\" style=\"position:absolute;width:100%;height:100%;left:0;top:0;border:none !important;\" allowfullscreen webkitallowfullscreen mozallowfullscreen></iframe></div></div>"
      ],
      "text/plain": [
       "<folium.folium.Map at 0x1a1a70e8d0>"
      ]
     },
     "execution_count": 57,
     "metadata": {},
     "output_type": "execute_result"
    }
   ],
   "source": [
    "#We define the color function we want to use: here 10 step of Pink color for our range of values (10.3 to 11.3)\n",
    "linear = cm.linear.PuRd_07.to_step(10).scale(10.3,11.3)\n",
    "\n",
    "def my_color_function_coca(feature):\n",
    "    return linear(coca_map[feature['id']])\n",
    "\n",
    "map_coca_world = folium.Map([45,5], zoom_start =2)\n",
    "\n",
    "def style_function(feature):\n",
    "    return {\n",
    "        'fillOpacity': 0.6,\n",
    "        'color': 'black',\n",
    "        'weight': 0.7,\n",
    "        'fillColor': my_color_function_coca(feature)\n",
    "    }\n",
    "\n",
    "\n",
    "folium.GeoJson(geo_coca_data, style_function=style_function,\n",
    "               tooltip=folium.features.GeoJsonTooltip(['name', 'sugars_100g'],\n",
    "        aliases=['Country :', 'value :'])).add_to(map_coca_world)\n",
    "\n",
    "linear.caption = 'Percentage of sugar in Coca-Cola (grams of sugars in 100g of Coca-cola)'\n",
    "\n",
    "map_coca_world.add_child(linear)\n",
    "\n",
    "#We save it into a html file to be able to put it on our website\n",
    "map_coca_world.save('Coca_map.html')\n",
    "map_coca_world"
   ]
  },
  {
   "cell_type": "markdown",
   "metadata": {},
   "source": [
    "First map of the second page of the website: https://openfactfoodada.github.io/Part2/\n",
    "\n",
    "The overall tendency on this first map is a bigger amount of sugar in the United states and in the Eastern countries, compared to the rest of the world."
   ]
  },
  {
   "cell_type": "markdown",
   "metadata": {},
   "source": [
    "## Nutella map"
   ]
  },
  {
   "cell_type": "code",
   "execution_count": 58,
   "metadata": {},
   "outputs": [
    {
     "data": {
      "text/html": [
       "<div style=\"width:100%;\"><div style=\"position:relative;width:100%;height:0;padding-bottom:60%;\"><iframe src=\"data:text/html;charset=utf-8;base64,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\" style=\"position:absolute;width:100%;height:100%;left:0;top:0;border:none !important;\" allowfullscreen webkitallowfullscreen mozallowfullscreen></iframe></div></div>"
      ],
      "text/plain": [
       "<folium.folium.Map at 0x1a1bb66cc0>"
      ]
     },
     "execution_count": 58,
     "metadata": {},
     "output_type": "execute_result"
    }
   ],
   "source": [
    "#We define the color function we want to use: here 18 step of Pink color for our range of values (55.9 to 57.7)\n",
    "linear = cm.linear.PuRd_07.to_step(18).scale(55.9,57.7)\n",
    "\n",
    "def my_color_function_nutella(feature):\n",
    "    return linear(nutella_map[feature['id']])\n",
    "\n",
    "map_nutella_world = folium.Map([45,5], zoom_start =2)\n",
    "\n",
    "def style_function(feature):\n",
    "    return {\n",
    "        'fillOpacity': 0.6,\n",
    "        'color': 'black',\n",
    "        'weight': 0.7,\n",
    "        'fillColor': my_color_function_nutella(feature)\n",
    "    }\n",
    "\n",
    "\n",
    "folium.GeoJson(geo_nutella_data, style_function=style_function,\n",
    "              tooltip=folium.features.GeoJsonTooltip(['name', 'sugars_100g'],\n",
    "        aliases=['Country :', 'value :'])).add_to(map_nutella_world)\n",
    "\n",
    "linear.caption = 'Percentage of sugar in Nutella (grams of sugars in 100g of Nutella)'\n",
    "\n",
    "map_nutella_world.add_child(linear)\n",
    "\n",
    "#We save it into a html file to be able to put it on our website\n",
    "map_nutella_world.save('Nutella_map.html')\n",
    "map_nutella_world"
   ]
  },
  {
   "cell_type": "markdown",
   "metadata": {},
   "source": [
    "Second map of the second page of the website: https://openfactfoodada.github.io/Part2/\n",
    "\n",
    "This second map shows greater amount of sugar in the United States, Canada, Australia, Hungary, as well as Algeria and Mali, compared to the rest of the world."
   ]
  },
  {
   "cell_type": "markdown",
   "metadata": {},
   "source": [
    "## Gold Bears map"
   ]
  },
  {
   "cell_type": "code",
   "execution_count": 59,
   "metadata": {},
   "outputs": [
    {
     "data": {
      "text/html": [
       "<div style=\"width:100%;\"><div style=\"position:relative;width:100%;height:0;padding-bottom:60%;\"><iframe src=\"data:text/html;charset=utf-8;base64,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\" style=\"position:absolute;width:100%;height:100%;left:0;top:0;border:none !important;\" allowfullscreen webkitallowfullscreen mozallowfullscreen></iframe></div></div>"
      ],
      "text/plain": [
       "<folium.folium.Map at 0x1a1bb86898>"
      ]
     },
     "execution_count": 59,
     "metadata": {},
     "output_type": "execute_result"
    }
   ],
   "source": [
    "#We define the color function we want to use: here 10 step of Pink color for our range of values (40 to 60)\n",
    "linear = cm.linear.PuRd_07.to_step(10).scale(40,60)\n",
    "\n",
    "def my_color_function_gold_bear(feature):\n",
    "    return linear(gold_bear_map[feature['id']])\n",
    "\n",
    "map_gold_bear_world = folium.Map([45,5], zoom_start =2)\n",
    "\n",
    "def style_function(feature):\n",
    "    return {\n",
    "        'fillOpacity': 0.6,\n",
    "        'color': 'black',\n",
    "        'weight': 0.7,\n",
    "        'fillColor': my_color_function_gold_bear(feature)\n",
    "    }\n",
    "\n",
    "\n",
    "folium.GeoJson(geo_gold_bear_data, style_function=style_function,\n",
    "              tooltip=folium.features.GeoJsonTooltip(['name', 'sugars_100g'],\n",
    "        aliases=['Country :', 'value :'])).add_to(map_gold_bear_world)\n",
    "\n",
    "linear.caption = 'Percentage of sugar in Gold Bears (Haribo sweets) (grams of sugars in 100g)'\n",
    "\n",
    "map_gold_bear_world.add_child(linear)\n",
    "\n",
    "#We save it into a html file to be able to put it on our website\n",
    "map_gold_bear_world.save('Gold_bear_map.html')\n",
    "map_gold_bear_world"
   ]
  },
  {
   "cell_type": "markdown",
   "metadata": {},
   "source": [
    "Third map of the second page of the website: https://openfactfoodada.github.io/Part2/\n",
    "\n",
    "This last map shows only difference for the United States and the United Kingdom, that present greater amount of sugar in comparison to the rest of the countries)."
   ]
  },
  {
   "cell_type": "markdown",
   "metadata": {},
   "source": [
    "# Part 3: How much of the food that we buy ar local\n",
    "### Which countries consume more locally?"
   ]
  },
  {
   "cell_type": "markdown",
   "metadata": {},
   "source": [
    "The map (with pie chart) of this part can be found on the third page of our website: https://openfactfoodada.github.io/part3/"
   ]
  },
  {
   "cell_type": "markdown",
   "metadata": {},
   "source": [
    "One important data field is called manufacturing_places and represents the place where the food product is manufactured. Another field is the origins which represent the origin of the food present in the product."
   ]
  },
  {
   "cell_type": "code",
   "execution_count": 60,
   "metadata": {},
   "outputs": [
    {
     "name": "stdout",
     "output_type": "stream",
     "text": [
      "+---------+--------------------+----------+--------------------+-------+\n",
      "|countries|        product_name|categories|manufacturing_places|origins|\n",
      "+---------+--------------------+----------+--------------------+-------+\n",
      "|en:france|    Vitória crackers|      null|                null|   null|\n",
      "|    en:FR|               Cacao|      null|                null|   null|\n",
      "|en:france|Sauce Sweety chil...|      null|                null|   null|\n",
      "|en:france|           Mendiants|      null|                null|   null|\n",
      "|en:france|Salade de carotte...|      null|                null|   null|\n",
      "+---------+--------------------+----------+--------------------+-------+\n",
      "only showing top 5 rows\n",
      "\n"
     ]
    }
   ],
   "source": [
    "#Selecting the more important columns\n",
    "dfbis=df_data.select(\"countries\", \"product_name\",\"categories\",\"manufacturing_places\",\"origins\")\n",
    "dfbis.show(5)"
   ]
  },
  {
   "cell_type": "markdown",
   "metadata": {},
   "source": [
    "## 1 Distance traveling of food products"
   ]
  },
  {
   "cell_type": "markdown",
   "metadata": {},
   "source": [
    "The aim of this part is to calculate the distance between the manufacturing places or the origins of the food products and the country where they are sold. For each countries a mean is calculated."
   ]
  },
  {
   "cell_type": "markdown",
   "metadata": {},
   "source": [
    "Drawback : -Concerning the country where the product is sold only one coordinate value is given, around the centre of the country which usually not correspond to the real coordinate where the product is sold.\n",
    "The same apply if only the country is given for the manufacturing place or the origin of the products creating a bias around the real number of kilometers that the food product has traveled."
   ]
  },
  {
   "cell_type": "markdown",
   "metadata": {},
   "source": [
    "### Data cleaning"
   ]
  },
  {
   "cell_type": "markdown",
   "metadata": {},
   "source": [
    "A lot of country names begin with en:, it is necessary to supress it. Furthermore, one row can contains several country names."
   ]
  },
  {
   "cell_type": "code",
   "execution_count": 67,
   "metadata": {},
   "outputs": [],
   "source": [
    "#Clean the name of countries and create a list of countries if multiple countries are given\n",
    "def cleanCountries(countries):\n",
    "    if countries is not None :\n",
    "        countries=countries.replace('en:', '').split(',')\n",
    "    return countries\n",
    "    \n",
    "clean_udf = udf(lambda x : cleanCountries(x), ArrayType(StringType()))"
   ]
  },
  {
   "cell_type": "code",
   "execution_count": 68,
   "metadata": {},
   "outputs": [],
   "source": [
    "#Create a DataFrame with the name of the countries cleaned\n",
    "df_clean = dfbis.select(clean_udf('countries').alias('countries'),\n",
    "                        'product_name',\n",
    "                        'categories',\n",
    "                        'manufacturing_places',\n",
    "                        'origins',\n",
    "                       )"
   ]
  },
  {
   "cell_type": "code",
   "execution_count": 69,
   "metadata": {},
   "outputs": [],
   "source": [
    "#Explode the list of countries into one country per row\n",
    "df_clean_final = df_clean.withColumn(\"countries\", explode(df_clean.countries))"
   ]
  },
  {
   "cell_type": "code",
   "execution_count": 70,
   "metadata": {},
   "outputs": [
    {
     "name": "stdout",
     "output_type": "stream",
     "text": [
      "+---------+--------------------+----------+--------------------+-------+\n",
      "|countries|        product_name|categories|manufacturing_places|origins|\n",
      "+---------+--------------------+----------+--------------------+-------+\n",
      "|   france|    Vitória crackers|      null|                null|   null|\n",
      "|       FR|               Cacao|      null|                null|   null|\n",
      "|   france|Sauce Sweety chil...|      null|                null|   null|\n",
      "|   france|           Mendiants|      null|                null|   null|\n",
      "|   france|Salade de carotte...|      null|                null|   null|\n",
      "+---------+--------------------+----------+--------------------+-------+\n",
      "only showing top 5 rows\n",
      "\n"
     ]
    }
   ],
   "source": [
    "df_clean_final.show(5)"
   ]
  },
  {
   "cell_type": "markdown",
   "metadata": {},
   "source": [
    "The names of the countries are written in different languages either in uppercase or lowercase. One way to get rid of this difficulty is to use the utility of python called babel. With the isocode of languages and countries, one list of names of countries can be made in different languages."
   ]
  },
  {
   "cell_type": "code",
   "execution_count": 71,
   "metadata": {},
   "outputs": [],
   "source": [
    "#Create a list of country names in different languages with respect to lower and upper case\n",
    "#The country is given with respect to the norm ISO 3166 alpha 2\n",
    "#The language is given with respect to the norm ISO 639 alpha 2 \n",
    "def iso_3166_1_list(isocode) :\n",
    "    list_names = []\n",
    "    for language in ('en', 'fr', 'de', 'es', 'ar', 'zh', 'ru', 'it', 'nl', 'sv', 'pt', 'da', 'hu', 'ro'):\n",
    "        locale = Locale(language)\n",
    "        list_names.append(locale.territories[isocode])\n",
    "        list_names.append(locale.territories[isocode].lower())\n",
    "    list_names.append(isocode)\n",
    "    list_names.append(isocode.lower())\n",
    "    if isocode == 'US' :\n",
    "        list_names.append('USA')\n",
    "        list_names.append('USA'.lower()) \n",
    "        list_names.append('United states')\n",
    "    if isocode == 'GB' :\n",
    "        list_names.append('United kingdom')\n",
    "    if isocode == 'MX' :\n",
    "        list_names.append('MEXICO')\n",
    "    if isocode == 'AE' :\n",
    "        list_names.append('EUA')\n",
    "        list_names.append('eua')\n",
    "    if isocode == 'EU' :\n",
    "        list_names.append('Agricultura UE,Agricultura no UE')\n",
    "        list_names.append('Agricultura UE')\n",
    "    return list_names"
   ]
  },
  {
   "cell_type": "markdown",
   "metadata": {},
   "source": [
    "Some origins and manufacturing places containes Neprecizat or Neprecizata which mean unspecified. We decide to handle these names as no origins or manufacturing places given."
   ]
  },
  {
   "cell_type": "code",
   "execution_count": 72,
   "metadata": {},
   "outputs": [],
   "source": [
    "#Check if the string given contain one of the names present in the list\n",
    "#If it is the case give the generic country name\n",
    "def is_country(country_name, list_countries):\n",
    "    if country_name == 'Neprecizat' or country_name == 'Neprecizata':\n",
    "        country_name = None\n",
    "    if country_name is not None :\n",
    "        if any(x in country_name for x in list_countries) == True : \n",
    "            country_name = list_countries[28]\n",
    "    return country_name\n",
    "\n",
    "def country_udf(countries_list) :\n",
    "    return udf(lambda x : is_country(x, countries_list), StringType())"
   ]
  },
  {
   "cell_type": "markdown",
   "metadata": {},
   "source": [
    "We interested only with the 20 countries with the more informations given. Indeed, with more than 20 countries the computation time would be too long and the others countries have very few informations given to give an ideal representation of the effect happening in the country (not enough food products to have good statistical power).\n",
    "We clean the data with China, Thailand, New Zealand, Emirates Arab Union, Serbia, European Union, Vietnam an Sri Lanka as well because these countries are often present as manufacturing places or origins of the food products."
   ]
  },
  {
   "cell_type": "code",
   "execution_count": 76,
   "metadata": {},
   "outputs": [],
   "source": [
    "for countries in (['FR', 'US', 'DE', 'CH', 'BE', 'ES', 'GB', 'CA', 'IT', 'IE']):\n",
    "    df_clean_final = df_clean_final.select(country_udf(iso_3166_1_list(countries))(col('countries')).alias('countries'),\n",
    "                         'product_name',\n",
    "                         'categories', \n",
    "                        'manufacturing_places',\n",
    "                        'origins')"
   ]
  },
  {
   "cell_type": "code",
   "execution_count": 77,
   "metadata": {},
   "outputs": [],
   "source": [
    "for countries in (['MX', 'AU', 'RU', 'NL', 'SE', 'PT', 'LU', 'DK', 'RO', 'HU']):\n",
    "    df_clean_final = df_clean_final.select(country_udf(iso_3166_1_list(countries))(col('countries')).alias('countries'),\n",
    "                         'product_name',\n",
    "                         'categories', \n",
    "                        'manufacturing_places',\n",
    "                        'origins')"
   ]
  },
  {
   "cell_type": "code",
   "execution_count": 78,
   "metadata": {},
   "outputs": [],
   "source": [
    "for countries in (['CN', 'TH', 'NZ', 'AE', 'RS', 'EU', 'VN', 'LK']):\n",
    "    df_clean_final = df_clean_final.select(country_udf(iso_3166_1_list(countries))(col('countries')).alias('countries'),\n",
    "                         'product_name',\n",
    "                         'categories', \n",
    "                        'manufacturing_places',\n",
    "                        'origins')"
   ]
  },
  {
   "cell_type": "code",
   "execution_count": 79,
   "metadata": {},
   "outputs": [
    {
     "name": "stdout",
     "output_type": "stream",
     "text": [
      "+---------+--------------------+----------+--------------------+-------+\n",
      "|countries|        product_name|categories|manufacturing_places|origins|\n",
      "+---------+--------------------+----------+--------------------+-------+\n",
      "|       FR|    Vitória crackers|      null|                null|   null|\n",
      "|       FR|               Cacao|      null|                null|   null|\n",
      "|       FR|Sauce Sweety chil...|      null|                null|   null|\n",
      "|       FR|           Mendiants|      null|                null|   null|\n",
      "|       FR|Salade de carotte...|      null|                null|   null|\n",
      "+---------+--------------------+----------+--------------------+-------+\n",
      "only showing top 5 rows\n",
      "\n"
     ]
    }
   ],
   "source": [
    "df_clean_final.show(5)"
   ]
  },
  {
   "cell_type": "markdown",
   "metadata": {},
   "source": [
    "### Distance calculation using the geodesic distance"
   ]
  },
  {
   "cell_type": "markdown",
   "metadata": {},
   "source": [
    "One way of computing the distance that the food product has traveled is to generate the latitude and longitude of the location given using geopy. The distance between two coordinates is then calculated with the geodesic distance as a default from geopy. However, Geopy has a limited number of requests. One way to avoid this issue is to take the 20 most used adress for the origin or manufacturing place of the country of interest and calculate the distance from these adresses to the centre of the country. A mean of the distance weighted by the number of occurence of the adress is then calculated. Geopy is very efficient to calculate longitude and latitude of an adress written in multiple languanges and multiple forms."
   ]
  },
  {
   "cell_type": "code",
   "execution_count": 66,
   "metadata": {},
   "outputs": [],
   "source": [
    "#Calculate the latitude and longitude of a specified adress\n",
    "def coordinates_estimator(places):\n",
    "    geocoder = Nominatim()\n",
    "    location = geocoder.geocode(places, 4)\n",
    "    if location is not None :\n",
    "        return [location.latitude, location.longitude]\n",
    "    else : \n",
    "        return None"
   ]
  },
  {
   "cell_type": "code",
   "execution_count": null,
   "metadata": {},
   "outputs": [],
   "source": [
    "#Calculate the geodesic distance given the latitude and longitude of two points\n",
    "def distance_calculator(countries_coor, places_coor) :\n",
    "    if places_coor is not None :\n",
    "        return distance.distance(countries_coor, places_coor).km\n",
    "    else : \n",
    "        return None"
   ]
  },
  {
   "cell_type": "code",
   "execution_count": null,
   "metadata": {},
   "outputs": [],
   "source": [
    "#Give a kilometer average that the product has to travel before being sold in the country of interest\n",
    "#Specify the manufacturing_places or origins of the product\n",
    "def distance_focus(country_name, header):\n",
    "    list_header = []\n",
    "    total_km = 0\n",
    "    total_count = 0\n",
    "    result = df_clean_final[df_clean_final['countries'] == country_name]\n",
    "    df_distance = result.groupby(header).count().toPandas()\n",
    "    df_distance = df_distance.dropna().sort_values(by = ['count'], ascending = False).head(20)\n",
    "    df_distance[header] = df_distance[header].apply(lambda x : coordinates_estimator(x))\n",
    "    country_coor = coordinates_estimator(country_name)\n",
    "    df_distance[header] = df_distance[header].apply(lambda x : distance_calculator(country_coor, x))\n",
    "    df_distance = df_distance.dropna().reset_index()\n",
    "    for i in range(len(df_distance)):\n",
    "        total_km = total_km + df_distance[header][i]*df_distance['count'][i]\n",
    "        total_count = total_count + df_distance['count'][i]\n",
    "    avg_km = total_km/total_count\n",
    "    return avg_km"
   ]
  },
  {
   "cell_type": "markdown",
   "metadata": {},
   "source": [
    "The dataframe containing all the mean distances with respect of the manufacturing places and origins is called df_distance_global"
   ]
  },
  {
   "cell_type": "code",
   "execution_count": null,
   "metadata": {},
   "outputs": [],
   "source": [
    "df_distance_global = pd.DataFrame(index = np.arange(40), columns = ['countries',\n",
    "                                 'headers',\n",
    "                                 'average number of km'])\n",
    "counter = 0\n",
    "for countries in (['FR', 'US', 'DE', 'CH', 'BE', 'ES', 'GB', 'CA', 'IT', 'IE']):\n",
    "    for headers in (['manufacturing_places', 'origins']):\n",
    "        df_distance_global['countries'][counter] = countries\n",
    "        df_distance_global['headers'][counter] = headers\n",
    "        df_distance_global['average number of km'][counter] = distance_focus(countries, headers)\n",
    "        counter = counter + 1"
   ]
  },
  {
   "cell_type": "code",
   "execution_count": null,
   "metadata": {},
   "outputs": [],
   "source": [
    "for countries in (['MX', 'AU', 'RU', 'NL', 'SE', 'PT', 'LU', 'DK', 'RO', 'HU']):\n",
    "    for headers in (['manufacturing_places', 'origins']):\n",
    "        df_distance_global['countries'][counter] = countries\n",
    "        df_distance_global['headers'][counter] = headers\n",
    "        df_distance_global['average number of km'][counter] = distance_focus(countries, headers)\n",
    "        counter = counter + 1"
   ]
  },
  {
   "cell_type": "code",
   "execution_count": null,
   "metadata": {},
   "outputs": [],
   "source": [
    "df_distance_global.to_csv('df_distance.csv', sep = '\\t')"
   ]
  },
  {
   "cell_type": "markdown",
   "metadata": {},
   "source": [
    "## 2 Countries characterization"
   ]
  },
  {
   "cell_type": "markdown",
   "metadata": {},
   "source": [
    "After seeing how many kilometers a product has traveled, we can now focus from which countries the products originated from. This allow to see if the country import a lot of their food.\n",
    "\n",
    "Drawback : -Only manufacturing places or origins where one name of the country is given are taken into account. For instance if only Strasbourg is given, it will not be registered as part of the France."
   ]
  },
  {
   "cell_type": "markdown",
   "metadata": {},
   "source": [
    "### Data cleaning"
   ]
  },
  {
   "cell_type": "markdown",
   "metadata": {},
   "source": [
    "The data from the manufacturing_places and the origins has to be cleaned in order to extract the names of the countries from the adress given. We take the 20 same countries in order to have a coherence between the two parts."
   ]
  },
  {
   "cell_type": "code",
   "execution_count": 80,
   "metadata": {},
   "outputs": [],
   "source": [
    "#Clean the data using the list of countries given\n",
    "for countries in (['FR', 'US', 'DE', 'CH', 'BE', 'ES', 'GB', 'CA', 'IT', 'IE']):\n",
    "    df_clean_final = df_clean_final.select ('countries',\n",
    "                         'product_name',\n",
    "                         'categories', \n",
    "                         country_udf(iso_3166_1_list(countries))(col('manufacturing_places')).alias('manufacturing_places'),\n",
    "                         country_udf(iso_3166_1_list(countries))(col('origins')).alias('origins'))"
   ]
  },
  {
   "cell_type": "code",
   "execution_count": 81,
   "metadata": {},
   "outputs": [],
   "source": [
    "#Clean the data using the list of countries given\n",
    "for countries in (['MX', 'AU', 'RU', 'NL', 'SE', 'PT', 'LU', 'DK', 'RO', 'HU']):\n",
    "    df_clean_final = df_clean_final.select(country_udf(iso_3166_1_list(countries))(col('countries')).alias('countries'),\n",
    "                         'product_name',\n",
    "                         'categories', \n",
    "                         country_udf(iso_3166_1_list(countries))(col('manufacturing_places')).alias('manufacturing_places'),\n",
    "                         country_udf(iso_3166_1_list(countries))(col('origins')).alias('origins'))"
   ]
  },
  {
   "cell_type": "code",
   "execution_count": 82,
   "metadata": {},
   "outputs": [],
   "source": [
    "#Clean the data using the list of countries given\n",
    "for countries in (['CN', 'TH', 'NZ', 'AE', 'RS', 'EU', 'VN', 'LK']):\n",
    "    df_clean_final = df_clean_final.select(country_udf(iso_3166_1_list(countries))(col('countries')).alias('countries'),\n",
    "                         'product_name',\n",
    "                         'categories', \n",
    "                         country_udf(iso_3166_1_list(countries))(col('manufacturing_places')).alias('manufacturing_places'),\n",
    "                         country_udf(iso_3166_1_list(countries))(col('origins')).alias('origins'))"
   ]
  },
  {
   "cell_type": "code",
   "execution_count": 83,
   "metadata": {},
   "outputs": [
    {
     "name": "stdout",
     "output_type": "stream",
     "text": [
      "+---------+--------------------+----------+--------------------+-------+\n",
      "|countries|        product_name|categories|manufacturing_places|origins|\n",
      "+---------+--------------------+----------+--------------------+-------+\n",
      "|       FR|    Vitória crackers|      null|                null|   null|\n",
      "|       FR|               Cacao|      null|                null|   null|\n",
      "|       FR|Sauce Sweety chil...|      null|                null|   null|\n",
      "|       FR|           Mendiants|      null|                null|   null|\n",
      "|       FR|Salade de carotte...|      null|                null|   null|\n",
      "+---------+--------------------+----------+--------------------+-------+\n",
      "only showing top 5 rows\n",
      "\n"
     ]
    }
   ],
   "source": [
    "df_clean_final.show(5)"
   ]
  },
  {
   "cell_type": "markdown",
   "metadata": {},
   "source": [
    "### Percentage of local country"
   ]
  },
  {
   "cell_type": "markdown",
   "metadata": {},
   "source": [
    "A percentage is calculated representing the proportion of food products that is originated or manufactured in the same country where the product is sold."
   ]
  },
  {
   "cell_type": "code",
   "execution_count": 64,
   "metadata": {},
   "outputs": [],
   "source": [
    "#Change the isocode of the country to the english name of the country\n",
    "def change_name(isocode):\n",
    "    return iso_3166_1_list(isocode)[0]"
   ]
  },
  {
   "cell_type": "code",
   "execution_count": 63,
   "metadata": {},
   "outputs": [],
   "source": [
    "#Focus on a particular country in term of origin of products or manufacturing places\n",
    "#The country_name represents the name of the country that we focus on\n",
    "#The headers can be either origins or manufacturing_places \n",
    "def country_focus(country_name, headers) :\n",
    "    result = df_clean_final[df_clean_final['countries'] == country_name]\n",
    "    df_local_plus = result.groupby(headers).count().toPandas()\n",
    "    df_local_plus = df_local_plus.dropna()\n",
    "    others = df_local_plus['count'].sum()\n",
    "    df_local = df_local_plus.sort_values(by = ['count'], ascending = False).head(5)\n",
    "    df_local[headers] = df_local[headers].apply(lambda x : change_name(x))\n",
    "    others2 = others - df_local['count'].sum()\n",
    "    dfappend = pd.DataFrame({headers : ['Others countries'],\n",
    "                                   'count' : [others2]}, index = [len(df_local_plus)+1])\n",
    "    df_local = df_local.append(dfappend).reset_index()\n",
    "    return df_local, others"
   ]
  },
  {
   "cell_type": "code",
   "execution_count": 65,
   "metadata": {},
   "outputs": [],
   "source": [
    "#Calculate the percentage of food products that originated or are manufactured in the own country\n",
    "def percent_calculator(country_name, headers):\n",
    "    df_loc, others = country_focus(country_name, headers)\n",
    "    if df_loc[df_loc[headers] == change_name(country_name)].empty == True :\n",
    "        return 0\n",
    "    else : \n",
    "        return (df_loc[df_loc[headers] == change_name(country_name)]['count'].values[0]/others)*100"
   ]
  },
  {
   "cell_type": "markdown",
   "metadata": {},
   "source": [
    "The DataFrame where the proportion are stored for the 20 countries either as manufacturing places or origins is called df_countries_global"
   ]
  },
  {
   "cell_type": "code",
   "execution_count": null,
   "metadata": {},
   "outputs": [],
   "source": [
    "df_countries_global = pd.DataFrame(index = np.arange(40), columns = ['countries',\n",
    "                                 'headers',\n",
    "                                 'percent from the same country'])\n",
    "counter = 0\n",
    "for countries in (['FR', 'US', 'DE', 'CH', 'BE', 'ES', 'GB', 'CA', 'IT', 'IE']):\n",
    "    for headers in (['manufacturing_places', 'origins']):\n",
    "        df_countries_global['countries'][counter] = countries\n",
    "        df_countries_global['headers'][counter] = headers\n",
    "        df_countries_global['percent from the same country'][counter] = percent_calculator(countries, headers)\n",
    "        counter = counter + 1"
   ]
  },
  {
   "cell_type": "code",
   "execution_count": null,
   "metadata": {},
   "outputs": [],
   "source": [
    "for countries in (['MX', 'AU', 'RU', 'NL', 'SE', 'PT', 'LU', 'DK', 'RO', 'HU']):\n",
    "    for headers in (['manufacturing_places', 'origins']):\n",
    "        df_countries_global['countries'][counter] = countries\n",
    "        df_countries_global['headers'][counter] = headers\n",
    "        df_countries_global['percent from the same country'][counter] = percent_calculator(countries, headers)\n",
    "        counter = counter + 1"
   ]
  },
  {
   "cell_type": "code",
   "execution_count": null,
   "metadata": {},
   "outputs": [],
   "source": [
    "df_countries_global.to_csv('df_countries.csv', sep = '\\t')"
   ]
  },
  {
   "cell_type": "markdown",
   "metadata": {},
   "source": [
    "### Creating PNG pie charts for the map"
   ]
  },
  {
   "cell_type": "markdown",
   "metadata": {},
   "source": [
    "A popup containing a pie chart.png is added to the map corresponding to the percent of local products. The pie chart is plotted with the percent of food products manufactured or originated from the 5 most biggest countries and from the others countries."
   ]
  },
  {
   "cell_type": "code",
   "execution_count": 62,
   "metadata": {},
   "outputs": [],
   "source": [
    "#Focus on a particular country in term of origin of products or manufacturing places\n",
    "#The country_name represents the name of the country that we focus on\n",
    "#The headers can be either origins or manufacturing_places \n",
    "def country_focus_png(country_name, headers) :\n",
    "    result = df_clean_final[df_clean_final['countries'] == country_name]\n",
    "    df_local_plus = result.groupby(headers).count().toPandas()\n",
    "    df_local_plus = df_local_plus.dropna()\n",
    "    others = df_local_plus['count'].sum()\n",
    "    df_local = df_local_plus.sort_values(by = ['count'], ascending = False).head(5)\n",
    "    df_local[headers] = df_local[headers].apply(lambda x : change_name(x))\n",
    "    others2 = others - df_local['count'].sum()\n",
    "    dfappend = pd.DataFrame({headers : ['Others countries'],\n",
    "                                   'count' : [others2]}, index = [len(df_local_plus)+1])\n",
    "    df_local = df_local.append(dfappend).reset_index()\n",
    "    index = df_local.index[df_local[headers] == change_name(country_name)].tolist()\n",
    "    explode = [0, 0, 0, 0, 0, 0]\n",
    "    explode[index[0]] = 0.1\n",
    "    fig, ax = plt.subplots(figsize=(7, 4))\n",
    "    ax.pie(df_local['count'], labels = df_local[headers], explode = explode, autopct='%1.1f%%',shadow=True, startangle=90)\n",
    "    fig.suptitle('Proportion of food products by ' + headers + ' in ' + change_name(country_name))\n",
    "    resolution, width, height = 75, 7, 4\n",
    "    station = '42'\n",
    "    png = country_name + '-' + headers + '.png'.format(station)\n",
    "    fig.savefig(png, dpi=resolution)\n",
    "    encoded = base64.b64encode(open(png, 'rb').read()).decode()\n",
    "    html ='<img src=\"data:image/png;base64,{}\">'.format\n",
    "    iframe = folium.IFrame(html(encoded), width=(width*resolution)+20, height=(height*resolution)+20)\n",
    "    popup = folium.Popup(iframe, max_width=2650)\n",
    "    return popup"
   ]
  },
  {
   "cell_type": "markdown",
   "metadata": {},
   "source": [
    "## 3 Mapping of the results"
   ]
  },
  {
   "cell_type": "markdown",
   "metadata": {},
   "source": [
    "A map of all the results is implemented with the 20 countries that we focus on. Each country has a color that depend on the value. For the local part, a country that appear green mean that this country have their that come from their own whereas red reflect the opposite."
   ]
  },
  {
   "cell_type": "code",
   "execution_count": 84,
   "metadata": {},
   "outputs": [],
   "source": [
    "#Make a list of countries that can be easily showed in a map\n",
    "#Choose one of the two DataFrames (df_distance_global or df_countries_global)\n",
    "#Choose between manufacturing_places and origins\n",
    "#Choose the color for the scale of countries\n",
    "#Choose if the scale begin and end with a round number or not\n",
    "#Return the interesting data and the color linear scale\n",
    "def make_list_map(dataframe, header_choose, color_scale, round_linear = False):\n",
    "    dataframe = dataframe[dataframe['headers'] == header_choose]\n",
    "    dataframe = dataframe.drop(['headers'], axis=1)\n",
    "    final = dataframe.set_index('countries')[dataframe.columns.values[-1:][0]]\n",
    "    if round_linear == True:\n",
    "        maxi = round(max(final), -2)\n",
    "        mini = round(min(final), -2)\n",
    "    else: \n",
    "        maxi = max(final)\n",
    "        mini = min(final)\n",
    "    #Create a linear color bar\n",
    "    linear1 = color_scale.scale(mini,maxi)\n",
    "    return final, linear1"
   ]
  },
  {
   "cell_type": "code",
   "execution_count": 98,
   "metadata": {},
   "outputs": [],
   "source": [
    "list_map, linear = make_list_map(df_distance_global, 'manufacturing_places', cm.linear.PuOr_04.to_step(10), round_linear = True)\n",
    "df_list_map = pd.DataFrame(list_map)"
   ]
  },
  {
   "cell_type": "markdown",
   "metadata": {},
   "source": [
    "world.geo.json is a json file containing the 20 countries that we focus on"
   ]
  },
  {
   "cell_type": "code",
   "execution_count": 99,
   "metadata": {},
   "outputs": [],
   "source": [
    "world_path = 'world.geo.json'\n",
    "geo_json_data = json.load(open(world_path))"
   ]
  },
  {
   "cell_type": "code",
   "execution_count": 100,
   "metadata": {},
   "outputs": [],
   "source": [
    "#Add the value of the country into the json file. It allows to show the real value of the country when passing\n",
    "#on the country in the map\n",
    "def augment_topo_json(json, dataframe, transform=(lambda col, val: val)):\n",
    "    for countries in json['features']:\n",
    "        for column in dataframe.columns.values:\n",
    "            countries['properties'][column] = transform(column, dataframe.loc[countries['id']][column])"
   ]
  },
  {
   "cell_type": "code",
   "execution_count": 101,
   "metadata": {},
   "outputs": [],
   "source": [
    "augment_topo_json(geo_json_data, df_list_map, \\\n",
    "                  (lambda col, val: 'No Data' if np.isnan(val) else f'{val:.2f}'))"
   ]
  },
  {
   "cell_type": "code",
   "execution_count": 102,
   "metadata": {},
   "outputs": [],
   "source": [
    "#Create a function that give a color in function of the value\n",
    "def my_color_function1(country_name, feature):\n",
    "    value = df_list_map.loc[df_list_map.index == country_name].values[0][0]\n",
    "    return linear(value)"
   ]
  },
  {
   "cell_type": "code",
   "execution_count": 103,
   "metadata": {},
   "outputs": [],
   "source": [
    "#Create the style of the map like the border of each countries and the color of the countries\n",
    "def style_function1(feature):\n",
    "    return {\n",
    "        'fillOpacity': 0.6,\n",
    "        'color': 'black',\n",
    "        'weight': 1,\n",
    "        'fillColor': my_color_function1(feature['id'], feature)\n",
    "    }"
   ]
  },
  {
   "cell_type": "code",
   "execution_count": 106,
   "metadata": {},
   "outputs": [
    {
     "data": {
      "text/html": [
       "<div style=\"width:100%;\"><div style=\"position:relative;width:100%;height:0;padding-bottom:60%;\"><iframe src=\"data:text/html;charset=utf-8;base64,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\" style=\"position:absolute;width:100%;height:100%;left:0;top:0;border:none !important;\" allowfullscreen webkitallowfullscreen mozallowfullscreen></iframe></div></div>"
      ],
      "text/plain": [
       "<folium.folium.Map at 0x1a1ebff320>"
      ]
     },
     "execution_count": 106,
     "metadata": {},
     "output_type": "execute_result"
    }
   ],
   "source": [
    "m = folium.Map([45, 0], zoom_start = 2)\n",
    "folium.GeoJson(geo_json_data,\n",
    "                style_function=style_function1,\n",
    "              tooltip=folium.features.GeoJsonTooltip(['name', 'average number of km'],\n",
    "        aliases=['Country :', 'value :'])).add_to(m)\n",
    "#for countries in (['FR', 'US', 'DE', 'CH', 'BE', 'ES', 'GB', 'CA', 'IT', 'IE']):\n",
    "    #popup = country_focus_png(countries, 'manufacturing_places')\n",
    "    #marker = folium.Marker(coordinates_estimator(countries), popup = popup)\n",
    "    #m.add_child(marker)\n",
    "m.add_child(linear)\n",
    "linear.caption = \"Average number of km of products by manufacturing places\"\n",
    "m"
   ]
  },
  {
   "cell_type": "code",
   "execution_count": null,
   "metadata": {},
   "outputs": [],
   "source": [
    "for countries in (['MX', 'AU', 'RU', 'NL', 'SE', 'PT', 'LU', 'DK', 'RO', 'HU']):\n",
    "    popup = country_focus_png(countries, 'manufacturing_places')\n",
    "    marker = folium.Marker(coordinates_estimator(countries), popup = popup)\n",
    "    m.add_child(marker)\n",
    "m.add_child(linear)\n",
    "m"
   ]
  },
  {
   "cell_type": "code",
   "execution_count": null,
   "metadata": {},
   "outputs": [],
   "source": [
    "m.save(outfile= \"manufacturing_places_km.html\")"
   ]
  }
 ],
 "metadata": {
  "kernelspec": {
   "display_name": "Python [default]",
   "language": "python",
   "name": "python3"
  },
  "language_info": {
   "codemirror_mode": {
    "name": "ipython",
    "version": 3
   },
   "file_extension": ".py",
   "mimetype": "text/x-python",
   "name": "python",
   "nbconvert_exporter": "python",
   "pygments_lexer": "ipython3",
   "version": "3.6.7"
  }
 },
 "nbformat": 4,
 "nbformat_minor": 2
}
